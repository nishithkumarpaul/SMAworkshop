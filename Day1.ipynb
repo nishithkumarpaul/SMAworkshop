{
 "cells": [
  {
   "cell_type": "markdown",
   "metadata": {
    "slideshow": {
     "slide_type": "notes"
    }
   },
   "source": [
    "# Python course day 1\n",
    "Notebook allow:\n",
    "- bullets\n",
    "- equations: $\\int_0^\\infty f(x) dx$\n",
    "- inline plots\n",
    "- images\n",
    "- etc."
   ]
  },
  {
   "cell_type": "code",
   "execution_count": 2,
   "metadata": {
    "collapsed": false
   },
   "outputs": [
    {
     "data": {
      "text/plain": [
       "5"
      ]
     },
     "execution_count": 2,
     "metadata": {},
     "output_type": "execute_result"
    }
   ],
   "source": [
    "2+3"
   ]
  },
  {
   "cell_type": "code",
   "execution_count": 148,
   "metadata": {
    "collapsed": true
   },
   "outputs": [],
   "source": [
    "import matplotlib.pyplot as plt"
   ]
  },
  {
   "cell_type": "code",
   "execution_count": 156,
   "metadata": {
    "collapsed": false
   },
   "outputs": [
    {
     "data": {
      "image/png": "[encoded data removed]",
      "text/plain": [
       "<matplotlib.figure.Figure at 0x7b75f90>"
      ]
     },
     "metadata": {},
     "output_type": "display_data"
    }
   ],
   "source": [
    "%matplotlib inline\n",
    "plt.plot(range(10), 'o')\n",
    "# plt.show()\n",
    "plt.show()"
   ]
  },
  {
   "cell_type": "markdown",
   "metadata": {
    "collapsed": true
   },
   "source": [
    "# My python: name and strings"
   ]
  },
  {
   "cell_type": "code",
   "execution_count": 1,
   "metadata": {
    "collapsed": true
   },
   "outputs": [],
   "source": [
    "my_age=27"
   ]
  },
  {
   "cell_type": "code",
   "execution_count": 3,
   "metadata": {
    "collapsed": false
   },
   "outputs": [
    {
     "data": {
      "text/plain": [
       "int"
      ]
     },
     "execution_count": 3,
     "metadata": {},
     "output_type": "execute_result"
    }
   ],
   "source": [
    "type(my_age)"
   ]
  },
  {
   "cell_type": "code",
   "execution_count": 4,
   "metadata": {
    "collapsed": true
   },
   "outputs": [],
   "source": [
    "my_name='Ed'"
   ]
  },
  {
   "cell_type": "code",
   "execution_count": 6,
   "metadata": {
    "collapsed": false
   },
   "outputs": [
    {
     "data": {
      "text/plain": [
       "str"
      ]
     },
     "execution_count": 6,
     "metadata": {},
     "output_type": "execute_result"
    }
   ],
   "source": [
    "type(my_name)"
   ]
  },
  {
   "cell_type": "code",
   "execution_count": 10,
   "metadata": {
    "collapsed": false
   },
   "outputs": [
    {
     "data": {
      "text/plain": [
       "'ED'"
      ]
     },
     "execution_count": 10,
     "metadata": {},
     "output_type": "execute_result"
    }
   ],
   "source": [
    "my_name.upper()"
   ]
  },
  {
   "cell_type": "markdown",
   "metadata": {},
   "source": [
    "multiline or very big strings"
   ]
  },
  {
   "cell_type": "code",
   "execution_count": 101,
   "metadata": {
    "collapsed": true
   },
   "outputs": [],
   "source": [
    "names = '''\n",
    "Maciej\n",
    "Chris\n",
    "Paulus\n",
    "Mark\n",
    "Mick\n",
    "Nandun\n",
    "Ruhi\n",
    "Atikur\n",
    "Say\n",
    "Chris\n",
    "Niru\n",
    "Yong Bing\n",
    "'''"
   ]
  },
  {
   "cell_type": "code",
   "execution_count": null,
   "metadata": {
    "collapsed": true
   },
   "outputs": [],
   "source": []
  },
  {
   "cell_type": "code",
   "execution_count": 102,
   "metadata": {
    "collapsed": true
   },
   "outputs": [],
   "source": [
    "namelist = names.strip().split('\\n')"
   ]
  },
  {
   "cell_type": "code",
   "execution_count": 103,
   "metadata": {
    "collapsed": false
   },
   "outputs": [
    {
     "data": {
      "text/plain": [
       "['Maciej',\n",
       " 'Chris',\n",
       " 'Paulus',\n",
       " 'Mark',\n",
       " 'Mick',\n",
       " 'Nandun',\n",
       " 'Ruhi',\n",
       " 'Atikur',\n",
       " 'Say',\n",
       " 'Chris',\n",
       " 'Niru',\n",
       " 'Yong Bing']"
      ]
     },
     "execution_count": 103,
     "metadata": {},
     "output_type": "execute_result"
    }
   ],
   "source": [
    "namelist"
   ]
  },
  {
   "cell_type": "code",
   "execution_count": 21,
   "metadata": {
    "collapsed": false
   },
   "outputs": [
    {
     "data": {
      "text/plain": [
       "list"
      ]
     },
     "execution_count": 21,
     "metadata": {},
     "output_type": "execute_result"
    }
   ],
   "source": [
    "type(namelist)"
   ]
  },
  {
   "cell_type": "code",
   "execution_count": 20,
   "metadata": {
    "collapsed": false
   },
   "outputs": [
    {
     "data": {
      "text/plain": [
       "str"
      ]
     },
     "execution_count": 20,
     "metadata": {},
     "output_type": "execute_result"
    }
   ],
   "source": [
    "type(names)"
   ]
  },
  {
   "cell_type": "code",
   "execution_count": 25,
   "metadata": {
    "collapsed": false
   },
   "outputs": [
    {
     "data": {
      "text/plain": [
       "'Maciej'"
      ]
     },
     "execution_count": 25,
     "metadata": {},
     "output_type": "execute_result"
    }
   ],
   "source": [
    "namelist[0] # first name as indexing starts with 0"
   ]
  },
  {
   "cell_type": "code",
   "execution_count": 26,
   "metadata": {
    "collapsed": false
   },
   "outputs": [
    {
     "data": {
      "text/plain": [
       "'Chris'"
      ]
     },
     "execution_count": 26,
     "metadata": {},
     "output_type": "execute_result"
    }
   ],
   "source": [
    "namelist[1] # second name "
   ]
  },
  {
   "cell_type": "code",
   "execution_count": 28,
   "metadata": {
    "collapsed": false
   },
   "outputs": [
    {
     "data": {
      "text/plain": [
       "['Maciej', 'Chris', 'Paulus']"
      ]
     },
     "execution_count": 28,
     "metadata": {},
     "output_type": "execute_result"
    }
   ],
   "source": [
    "namelist[0:3] # first three names, uoto but not including namelist[3]"
   ]
  },
  {
   "cell_type": "code",
   "execution_count": 29,
   "metadata": {
    "collapsed": false
   },
   "outputs": [
    {
     "data": {
      "text/plain": [
       "['Paulus', 'Mark', 'Mick']"
      ]
     },
     "execution_count": 29,
     "metadata": {},
     "output_type": "execute_result"
    }
   ],
   "source": [
    "namelist[2:5] # thrid, fourth, fifth as indexing starts like 0,1,2,3,4,5"
   ]
  },
  {
   "cell_type": "code",
   "execution_count": 30,
   "metadata": {
    "collapsed": false
   },
   "outputs": [
    {
     "data": {
      "text/plain": [
       "'Niru'"
      ]
     },
     "execution_count": 30,
     "metadata": {},
     "output_type": "execute_result"
    }
   ],
   "source": [
    "namelist[-2] # second from the last"
   ]
  },
  {
   "cell_type": "markdown",
   "metadata": {},
   "source": [
    "# Exercises: list of squares"
   ]
  },
  {
   "cell_type": "code",
   "execution_count": 40,
   "metadata": {
    "collapsed": true
   },
   "outputs": [],
   "source": [
    "squares = [] # empty list"
   ]
  },
  {
   "cell_type": "code",
   "execution_count": 41,
   "metadata": {
    "collapsed": true
   },
   "outputs": [],
   "source": [
    "for number in range(0,10):\n",
    "    sq = number**2\n",
    "    squares.append(sq)"
   ]
  },
  {
   "cell_type": "code",
   "execution_count": 42,
   "metadata": {
    "collapsed": false
   },
   "outputs": [
    {
     "data": {
      "text/plain": [
       "[0, 1, 4, 9, 16, 25, 36, 49, 64, 81]"
      ]
     },
     "execution_count": 42,
     "metadata": {},
     "output_type": "execute_result"
    }
   ],
   "source": [
    "squares"
   ]
  },
  {
   "cell_type": "code",
   "execution_count": 49,
   "metadata": {
    "collapsed": false
   },
   "outputs": [],
   "source": [
    "%matplotlib inline"
   ]
  },
  {
   "cell_type": "code",
   "execution_count": 47,
   "metadata": {
    "collapsed": false
   },
   "outputs": [
    {
     "data": {
      "text/plain": [
       "[<matplotlib.lines.Line2D at 0x62a1bf0>]"
      ]
     },
     "execution_count": 47,
     "metadata": {},
     "output_type": "execute_result"
    },
    {
     "data": {
      "image/png": "[encoded data removed]",
      "text/plain": [
       "<matplotlib.figure.Figure at 0x6159990>"
      ]
     },
     "metadata": {},
     "output_type": "display_data"
    }
   ],
   "source": [
    "plt.plot(squares)"
   ]
  },
  {
   "cell_type": "code",
   "execution_count": 2,
   "metadata": {
    "collapsed": true
   },
   "outputs": [],
   "source": [
    "capital_names = []"
   ]
  },
  {
   "cell_type": "code",
   "execution_count": 3,
   "metadata": {
    "collapsed": false
   },
   "outputs": [
    {
     "ename": "NameError",
     "evalue": "name 'namelist' is not defined",
     "output_type": "error",
     "traceback": [
      "\u001b[1;31m---------------------------------------------------------------------------\u001b[0m",
      "\u001b[1;31mNameError\u001b[0m                                 Traceback (most recent call last)",
      "\u001b[1;32m<ipython-input-3-15580208c85d>\u001b[0m in \u001b[0;36m<module>\u001b[1;34m()\u001b[0m\n\u001b[1;32m----> 1\u001b[1;33m \u001b[1;32mfor\u001b[0m \u001b[0mi\u001b[0m \u001b[1;32min\u001b[0m \u001b[0mnamelist\u001b[0m\u001b[1;33m:\u001b[0m\u001b[1;33m\u001b[0m\u001b[0m\n\u001b[0m\u001b[0;32m      2\u001b[0m     \u001b[0mcapital_i\u001b[0m \u001b[1;33m=\u001b[0m \u001b[0mi\u001b[0m\u001b[1;33m.\u001b[0m\u001b[0mupper\u001b[0m\u001b[1;33m(\u001b[0m\u001b[1;33m)\u001b[0m\u001b[1;33m\u001b[0m\u001b[0m\n\u001b[0;32m      3\u001b[0m     \u001b[0mcapital_names\u001b[0m\u001b[1;33m.\u001b[0m\u001b[0mappend\u001b[0m\u001b[1;33m(\u001b[0m\u001b[0mcapital_i\u001b[0m\u001b[1;33m)\u001b[0m\u001b[1;33m\u001b[0m\u001b[0m\n",
      "\u001b[1;31mNameError\u001b[0m: name 'namelist' is not defined"
     ]
    }
   ],
   "source": [
    "for i in namelist:\n",
    "    capital_i = i.upper()\n",
    "    capital_names.append(capital_i)"
   ]
  },
  {
   "cell_type": "code",
   "execution_count": 1,
   "metadata": {
    "collapsed": false
   },
   "outputs": [
    {
     "ename": "NameError",
     "evalue": "name 'capital_names' is not defined",
     "output_type": "error",
     "traceback": [
      "\u001b[1;31m---------------------------------------------------------------------------\u001b[0m",
      "\u001b[1;31mNameError\u001b[0m                                 Traceback (most recent call last)",
      "\u001b[1;32m<ipython-input-1-da7d509dddcf>\u001b[0m in \u001b[0;36m<module>\u001b[1;34m()\u001b[0m\n\u001b[1;32m----> 1\u001b[1;33m \u001b[0mcapital_names\u001b[0m\u001b[1;33m\u001b[0m\u001b[0m\n\u001b[0m",
      "\u001b[1;31mNameError\u001b[0m: name 'capital_names' is not defined"
     ]
    }
   ],
   "source": [
    "capital_names"
   ]
  },
  {
   "cell_type": "code",
   "execution_count": 85,
   "metadata": {
    "collapsed": false
   },
   "outputs": [
    {
     "name": "stdout",
     "output_type": "stream",
     "text": [
      "['MACIEJ', 'CHRIS', 'PAULUS', 'MARK', 'MICK', 'NANDUN', 'RUHI', 'ATIKUR', 'SAY', 'CHRIS', 'NIRU', 'YONG BING']\n"
     ]
    }
   ],
   "source": [
    "capital_names = []\n",
    "for i in range(0,len(namelist)):\n",
    "    name=namelist[i]\n",
    "    capital_name= name.upper()\n",
    "    capital_names.append(capital_name)\n",
    "print(capital_names)"
   ]
  },
  {
   "cell_type": "code",
   "execution_count": 63,
   "metadata": {
    "collapsed": false
   },
   "outputs": [
    {
     "name": "stdout",
     "output_type": "stream",
     "text": [
      "MACIEJ\n",
      "CHRIS\n",
      "PAULUS\n",
      "MARK\n",
      "MICK\n",
      "NANDUN\n",
      "RUHI\n",
      "ATIKUR\n",
      "SAY\n",
      "CHRIS\n",
      "NIRU\n",
      "YONG BING\n"
     ]
    }
   ],
   "source": [
    "for name in namelist:\n",
    "    print(name.upper())"
   ]
  },
  {
   "cell_type": "code",
   "execution_count": 87,
   "metadata": {
    "collapsed": false
   },
   "outputs": [
    {
     "name": "stdout",
     "output_type": "stream",
     "text": [
      "Hello World!\n"
     ]
    }
   ],
   "source": [
    "print('Hello', 'World!')"
   ]
  },
  {
   "cell_type": "markdown",
   "metadata": {
    "collapsed": true
   },
   "source": [
    "# Conditions"
   ]
  },
  {
   "cell_type": "code",
   "execution_count": 89,
   "metadata": {
    "collapsed": false
   },
   "outputs": [
    {
     "name": "stdout",
     "output_type": "stream",
     "text": [
      "Not retired\n"
     ]
    }
   ],
   "source": [
    "my_age = 37\n",
    "if my_age < 22:\n",
    "    print('Student')\n",
    "elif my_age < 65:\n",
    "    print('Not retired')\n",
    "else:\n",
    "    print('Retired')\n"
   ]
  },
  {
   "cell_type": "code",
   "execution_count": 91,
   "metadata": {
    "collapsed": false
   },
   "outputs": [
    {
     "name": "stdout",
     "output_type": "stream",
     "text": [
      "Both working\n"
     ]
    }
   ],
   "source": [
    "her_age =33\n",
    "if my_age < 65 and her_age < 65:\n",
    "    print('Both working')"
   ]
  },
  {
   "cell_type": "code",
   "execution_count": 93,
   "metadata": {
    "collapsed": false
   },
   "outputs": [
    {
     "name": "stdout",
     "output_type": "stream",
     "text": [
      "16\n"
     ]
    }
   ],
   "source": [
    "x=10\n",
    "y=6\n",
    "if x!=6 and y==6:\n",
    "    print(x+y)"
   ]
  },
  {
   "cell_type": "markdown",
   "metadata": {},
   "source": [
    "# Some library functions for advanced computing\n",
    "\n",
    "- cartopy for cartographic analysis\n",
    "- scikit-learn for machine learning\n",
    "- twitter data mining\n",
    "- PyCharm for excellent IDLE\n",
    "- pytest for some test functions to test codes\n",
    "- Bamboo for continuous delivery from code to deployment (not free)\n",
    "- Jenkins for continuous delivery from code to deployment (free)\n",
    "- Travis CI for Test and Deploy\n",
    "- mypy for compile time checking\n"
   ]
  },
  {
   "cell_type": "markdown",
   "metadata": {},
   "source": [
    "# Functions"
   ]
  },
  {
   "cell_type": "code",
   "execution_count": 99,
   "metadata": {
    "collapsed": true
   },
   "outputs": [],
   "source": [
    "def greet(name):\n",
    "    \"\"\"\n",
    "    Pass 'name' as string.\n",
    "    Returns a string greeting the person.    \n",
    "    \"\"\"\n",
    "    return 'Hello ' + name + '!'"
   ]
  },
  {
   "cell_type": "code",
   "execution_count": 100,
   "metadata": {
    "collapsed": false
   },
   "outputs": [
    {
     "name": "stdout",
     "output_type": "stream",
     "text": [
      "Help on function greet in module __main__:\n",
      "\n",
      "greet(name)\n",
      "    Pass 'name' as string.\n",
      "    Returns a string greeting the person.\n",
      "\n"
     ]
    }
   ],
   "source": [
    "help(greet)"
   ]
  },
  {
   "cell_type": "code",
   "execution_count": 101,
   "metadata": {
    "collapsed": false
   },
   "outputs": [
    {
     "data": {
      "text/plain": [
       "'Hello Ed!'"
      ]
     },
     "execution_count": 101,
     "metadata": {},
     "output_type": "execute_result"
    }
   ],
   "source": [
    "greet('Ed')"
   ]
  },
  {
   "cell_type": "code",
   "execution_count": 103,
   "metadata": {
    "collapsed": true
   },
   "outputs": [],
   "source": [
    "greet?"
   ]
  },
  {
   "cell_type": "code",
   "execution_count": 104,
   "metadata": {
    "collapsed": false
   },
   "outputs": [
    {
     "data": {
      "text/plain": [
       "388.62"
      ]
     },
     "execution_count": 104,
     "metadata": {},
     "output_type": "execute_result"
    }
   ],
   "source": [
    "def convert_to_cm(feet, inches):\n",
    "    \"\"\"\n",
    "    Pass in feet and inches in numbers.\n",
    "    Return the corresponding height in cm.\n",
    "    \"\"\"\n",
    "    total_inches = inches + feet*12\n",
    "    return total_inches*2.54\n",
    "convert_to_cm(12, 9)"
   ]
  },
  {
   "cell_type": "code",
   "execution_count": 110,
   "metadata": {
    "collapsed": false
   },
   "outputs": [
    {
     "data": {
      "text/plain": [
       "388.62"
      ]
     },
     "execution_count": 110,
     "metadata": {},
     "output_type": "execute_result"
    }
   ],
   "source": [
    "convert_to_cm(feet=12, inches=9)"
   ]
  },
  {
   "cell_type": "code",
   "execution_count": 113,
   "metadata": {
    "collapsed": false
   },
   "outputs": [
    {
     "data": {
      "text/plain": [
       "22.86"
      ]
     },
     "execution_count": 113,
     "metadata": {},
     "output_type": "execute_result"
    }
   ],
   "source": [
    "convert_to_cm(0, inches=9)"
   ]
  },
  {
   "cell_type": "code",
   "execution_count": 111,
   "metadata": {
    "collapsed": false
   },
   "outputs": [
    {
     "name": "stdout",
     "output_type": "stream",
     "text": [
      "<class 'tuple'>\n",
      "(12.0, 9.0)\n",
      "12.0\n",
      "9.0\n"
     ]
    }
   ],
   "source": [
    "def convert_to_imperial(cm):\n",
    "    \"\"\"\n",
    "    Pass a height in cm. Returns a tuple (feet, inches).\n",
    "    \"\"\"\n",
    "    total_inches = cm / 2.54\n",
    "    feet = total_inches // 12\n",
    "    inches = total_inches % 12\n",
    "    return feet, inches\n",
    "result=convert_to_imperial(388.62)\n",
    "print( type(result) )\n",
    "print(result)\n",
    "print(result[0])\n",
    "print(result[1])"
   ]
  },
  {
   "cell_type": "code",
   "execution_count": 114,
   "metadata": {
    "collapsed": false
   },
   "outputs": [
    {
     "data": {
      "text/plain": [
       "['Atikur',\n",
       " 'Chris',\n",
       " 'Chris',\n",
       " 'Maciej',\n",
       " 'Mark',\n",
       " 'Mick',\n",
       " 'Nandun',\n",
       " 'Niru',\n",
       " 'Paulus',\n",
       " 'Ruhi',\n",
       " 'Say',\n",
       " 'Yong Bing']"
      ]
     },
     "execution_count": 114,
     "metadata": {},
     "output_type": "execute_result"
    }
   ],
   "source": [
    "sorted(namelist)"
   ]
  },
  {
   "cell_type": "code",
   "execution_count": 122,
   "metadata": {
    "collapsed": false
   },
   "outputs": [
    {
     "data": {
      "text/plain": [
       "['Yong Bing',\n",
       " 'Say',\n",
       " 'Ruhi',\n",
       " 'Paulus',\n",
       " 'Niru',\n",
       " 'Nandun',\n",
       " 'Mick',\n",
       " 'Mark',\n",
       " 'Maciej',\n",
       " 'Chris',\n",
       " 'Chris',\n",
       " 'Atikur']"
      ]
     },
     "execution_count": 122,
     "metadata": {},
     "output_type": "execute_result"
    }
   ],
   "source": [
    "sorted(namelist, reverse=True)"
   ]
  },
  {
   "cell_type": "code",
   "execution_count": 132,
   "metadata": {
    "collapsed": false
   },
   "outputs": [],
   "source": [
    "def last_letter(name):\n",
    "    return name[-1]"
   ]
  },
  {
   "cell_type": "code",
   "execution_count": 133,
   "metadata": {
    "collapsed": false
   },
   "outputs": [
    {
     "data": {
      "text/plain": [
       "['Yong Bing',\n",
       " 'Ruhi',\n",
       " 'Maciej',\n",
       " 'Mark',\n",
       " 'Mick',\n",
       " 'Nandun',\n",
       " 'Atikur',\n",
       " 'Chris',\n",
       " 'Paulus',\n",
       " 'Chris',\n",
       " 'Niru',\n",
       " 'Say']"
      ]
     },
     "execution_count": 133,
     "metadata": {},
     "output_type": "execute_result"
    }
   ],
   "source": [
    "sorted(namelist, key = last_letter)"
   ]
  },
  {
   "cell_type": "code",
   "execution_count": 134,
   "metadata": {
    "collapsed": false
   },
   "outputs": [
    {
     "data": {
      "text/plain": [
       "['Yong Bing',\n",
       " 'Ruhi',\n",
       " 'Maciej',\n",
       " 'Mark',\n",
       " 'Mick',\n",
       " 'Nandun',\n",
       " 'Atikur',\n",
       " 'Chris',\n",
       " 'Paulus',\n",
       " 'Chris',\n",
       " 'Niru',\n",
       " 'Say']"
      ]
     },
     "execution_count": 134,
     "metadata": {},
     "output_type": "execute_result"
    }
   ],
   "source": [
    "def last_letter(name):\n",
    "    return name[-1]\n",
    "for i in namelist:\n",
    "    last_letter(i)\n",
    "sorted(namelist, key = last_letter)"
   ]
  },
  {
   "cell_type": "code",
   "execution_count": 136,
   "metadata": {
    "collapsed": false
   },
   "outputs": [
    {
     "data": {
      "text/plain": [
       "['Yong Bing',\n",
       " 'Ruhi',\n",
       " 'Maciej',\n",
       " 'Mark',\n",
       " 'Mick',\n",
       " 'Nandun',\n",
       " 'Atikur',\n",
       " 'Chris',\n",
       " 'Paulus',\n",
       " 'Chris',\n",
       " 'Niru',\n",
       " 'Say']"
      ]
     },
     "execution_count": 136,
     "metadata": {},
     "output_type": "execute_result"
    }
   ],
   "source": [
    "def last_letter(name):\n",
    "    return name[-1]\n",
    "sorted(namelist, key = last_letter)"
   ]
  },
  {
   "cell_type": "code",
   "execution_count": 135,
   "metadata": {
    "collapsed": false
   },
   "outputs": [
    {
     "data": {
      "text/plain": [
       "list"
      ]
     },
     "execution_count": 135,
     "metadata": {},
     "output_type": "execute_result"
    }
   ],
   "source": [
    "type(namelist)"
   ]
  },
  {
   "cell_type": "markdown",
   "metadata": {
    "collapsed": true
   },
   "source": [
    "# Task 1: find all column headings in /data/calories.csv\n",
    "# Task 2: Find a list of all countries in /data/countries.csv\n"
   ]
  },
  {
   "cell_type": "markdown",
   "metadata": {},
   "source": [
    "Essential data types: str, file, list"
   ]
  },
  {
   "cell_type": "code",
   "execution_count": 1,
   "metadata": {
    "collapsed": false
   },
   "outputs": [
    {
     "data": {
      "text/plain": [
       "['a', 'b', 'c', 'd']"
      ]
     },
     "execution_count": 1,
     "metadata": {},
     "output_type": "execute_result"
    }
   ],
   "source": [
    "'a b c d'.split()"
   ]
  },
  {
   "cell_type": "code",
   "execution_count": 34,
   "metadata": {
    "collapsed": false
   },
   "outputs": [
    {
     "ename": "AttributeError",
     "evalue": "'str' object has no attribute 'spilt'",
     "output_type": "error",
     "traceback": [
      "\u001b[1;31m---------------------------------------------------------------------------\u001b[0m",
      "\u001b[1;31mAttributeError\u001b[0m                            Traceback (most recent call last)",
      "\u001b[1;32m<ipython-input-34-62b0ecf08d00>\u001b[0m in \u001b[0;36m<module>\u001b[1;34m()\u001b[0m\n\u001b[1;32m----> 1\u001b[1;33m \u001b[1;34m'a, b, cd, efg'\u001b[0m\u001b[1;33m.\u001b[0m\u001b[0mspilt\u001b[0m\u001b[1;33m(\u001b[0m\u001b[1;34m','\u001b[0m\u001b[1;33m)\u001b[0m\u001b[1;33m\u001b[0m\u001b[0m\n\u001b[0m",
      "\u001b[1;31mAttributeError\u001b[0m: 'str' object has no attribute 'spilt'"
     ]
    }
   ],
   "source": [
    "'a, b, cd, efg'.spilt(',')"
   ]
  },
  {
   "cell_type": "code",
   "execution_count": 47,
   "metadata": {
    "collapsed": false
   },
   "outputs": [],
   "source": [
    "f = open('G:/Python Charmers/Data/calories.csv')"
   ]
  },
  {
   "cell_type": "code",
   "execution_count": 37,
   "metadata": {
    "collapsed": false
   },
   "outputs": [
    {
     "name": "stdout",
     "output_type": "stream",
     "text": [
      "C:\\Documents and Settings\\toby\n"
     ]
    }
   ],
   "source": [
    "path = r'C:\\Documents and Settings\\toby'\n",
    "print(path)"
   ]
  },
  {
   "cell_type": "markdown",
   "metadata": {},
   "source": [
    "- windows path\n"
   ]
  },
  {
   "cell_type": "code",
   "execution_count": 12,
   "metadata": {
    "collapsed": true
   },
   "outputs": [],
   "source": [
    "# on native windows w/anaconda:\n",
    "# Equivalent to "
   ]
  },
  {
   "cell_type": "code",
   "execution_count": 48,
   "metadata": {
    "collapsed": false
   },
   "outputs": [],
   "source": [
    "f.close()\n",
    "headings = data[0]"
   ]
  },
  {
   "cell_type": "code",
   "execution_count": 49,
   "metadata": {
    "collapsed": false
   },
   "outputs": [
    {
     "data": {
      "text/plain": [
       "'UN code number,2 letter ISO abbreviation,3-letter ISO abbreviation,name,capital\\n'"
      ]
     },
     "execution_count": 49,
     "metadata": {},
     "output_type": "execute_result"
    }
   ],
   "source": [
    "headings"
   ]
  },
  {
   "cell_type": "code",
   "execution_count": 50,
   "metadata": {
    "collapsed": false
   },
   "outputs": [
    {
     "data": {
      "text/plain": [
       "['UN code number',\n",
       " '2 letter ISO abbreviation',\n",
       " '3-letter ISO abbreviation',\n",
       " 'name',\n",
       " 'capital\\n']"
      ]
     },
     "execution_count": 50,
     "metadata": {},
     "output_type": "execute_result"
    }
   ],
   "source": [
    "headings.split(',')"
   ]
  },
  {
   "cell_type": "markdown",
   "metadata": {},
   "source": [
    "# Question about closing file"
   ]
  },
  {
   "cell_type": "code",
   "execution_count": 16,
   "metadata": {
    "collapsed": true
   },
   "outputs": [],
   "source": [
    "def read_data(filename):\n",
    "    f = open(filename)\n",
    "    data = f.readlines()\n",
    "    return data"
   ]
  },
  {
   "cell_type": "code",
   "execution_count": 24,
   "metadata": {
    "collapsed": false
   },
   "outputs": [],
   "source": [
    "with open('names.txt', mode='wt') as f: # write as text same as\n",
    "    ..."
   ]
  },
  {
   "cell_type": "code",
   "execution_count": 18,
   "metadata": {
    "collapsed": true
   },
   "outputs": [],
   "source": [
    "f = open('names.txt', mode='wt')\n",
    "...\n",
    "f.close()"
   ]
  },
  {
   "cell_type": "markdown",
   "metadata": {},
   "source": [
    "# writing data"
   ]
  },
  {
   "cell_type": "code",
   "execution_count": 51,
   "metadata": {
    "collapsed": false
   },
   "outputs": [
    {
     "ename": "SyntaxError",
     "evalue": "invalid syntax (<ipython-input-51-dbc50f625400>, line 1)",
     "output_type": "error",
     "traceback": [
      "\u001b[1;36m  File \u001b[1;32m\"<ipython-input-51-dbc50f625400>\"\u001b[1;36m, line \u001b[1;32m1\u001b[0m\n\u001b[1;33m    with open('names.txt', mode='wt') as f: write as text\u001b[0m\n\u001b[1;37m                                                   ^\u001b[0m\n\u001b[1;31mSyntaxError\u001b[0m\u001b[1;31m:\u001b[0m invalid syntax\n"
     ]
    }
   ],
   "source": [
    "with open('names.txt', mode='wt') as f: write as text\n",
    "    ...\n",
    "    f.write(names)"
   ]
  },
  {
   "cell_type": "code",
   "execution_count": 21,
   "metadata": {
    "collapsed": false
   },
   "outputs": [
    {
     "ename": "SyntaxError",
     "evalue": "invalid syntax (<ipython-input-21-29ce0a0b4fca>, line 1)",
     "output_type": "error",
     "traceback": [
      "\u001b[1;36m  File \u001b[1;32m\"<ipython-input-21-29ce0a0b4fca>\"\u001b[1;36m, line \u001b[1;32m1\u001b[0m\n\u001b[1;33m    joining strings\u001b[0m\n\u001b[1;37m                  ^\u001b[0m\n\u001b[1;31mSyntaxError\u001b[0m\u001b[1;31m:\u001b[0m invalid syntax\n"
     ]
    }
   ],
   "source": [
    "joining strings\n"
   ]
  },
  {
   "cell_type": "code",
   "execution_count": 22,
   "metadata": {
    "collapsed": true
   },
   "outputs": [],
   "source": [
    "sep = ' --* --'"
   ]
  },
  {
   "cell_type": "code",
   "execution_count": 23,
   "metadata": {
    "collapsed": false
   },
   "outputs": [
    {
     "ename": "NameError",
     "evalue": "name 'namelist' is not defined",
     "output_type": "error",
     "traceback": [
      "\u001b[1;31m---------------------------------------------------------------------------\u001b[0m",
      "\u001b[1;31mNameError\u001b[0m                                 Traceback (most recent call last)",
      "\u001b[1;32m<ipython-input-23-623864b8e23c>\u001b[0m in \u001b[0;36m<module>\u001b[1;34m()\u001b[0m\n\u001b[1;32m----> 1\u001b[1;33m \u001b[0msep\u001b[0m\u001b[1;33m.\u001b[0m\u001b[0mjoin\u001b[0m\u001b[1;33m(\u001b[0m\u001b[0mnamelist\u001b[0m\u001b[1;33m)\u001b[0m\u001b[1;33m\u001b[0m\u001b[0m\n\u001b[0m",
      "\u001b[1;31mNameError\u001b[0m: name 'namelist' is not defined"
     ]
    }
   ],
   "source": [
    "sep.join(namelist)"
   ]
  },
  {
   "cell_type": "code",
   "execution_count": 43,
   "metadata": {
    "collapsed": false
   },
   "outputs": [],
   "source": [
    "with open('G:/Python Charmers/Data/countries.csv') as f: \n",
    "    data = f.readlines()"
   ]
  },
  {
   "cell_type": "code",
   "execution_count": 44,
   "metadata": {
    "collapsed": false
   },
   "outputs": [],
   "source": [
    "header = data[0]\n",
    "body = data[1:]"
   ]
  },
  {
   "cell_type": "code",
   "execution_count": 45,
   "metadata": {
    "collapsed": false
   },
   "outputs": [
    {
     "data": {
      "text/plain": [
       "list"
      ]
     },
     "execution_count": 45,
     "metadata": {},
     "output_type": "execute_result"
    }
   ],
   "source": [
    "type(body)"
   ]
  },
  {
   "cell_type": "code",
   "execution_count": 54,
   "metadata": {
    "collapsed": false
   },
   "outputs": [
    {
     "name": "stdout",
     "output_type": "stream",
     "text": [
      "Afghanistan\n",
      "Albania\n",
      "Algeria\n",
      "Andorra\n",
      "Angola\n",
      "Antigua and Barbuda\n",
      "Azerbaijan\n",
      "Argentina\n",
      "Australia\n",
      "Austria\n",
      "Bahamas\n",
      "Bahrain\n",
      "Bangladesh\n",
      "Armenia\n",
      "Barbados\n",
      "Belgium\n",
      "Bermuda\n",
      "Bhutan\n",
      "Bolivia\n",
      "Bosnia and Herzegovina\n",
      "Botswana\n",
      "Brazil\n",
      "Belize\n",
      "Solomon Islands\n",
      "British Virgin Islands\n",
      "Brunei Daraussalam\n",
      "Bulgaria\n",
      "Myanmar\n",
      "Burundi\n",
      "Belarus\n",
      "Cambodia\n",
      "Cameroon\n",
      "Canada\n",
      "Cape Verde\n",
      "Cayman Islands\n",
      "Central African Republic\n",
      "Sri Lanka\n",
      "Chad\n",
      "Chile\n",
      "China\n",
      "Taiwan Province of China\n",
      "Colombia\n",
      "Comoros\n",
      "Congo\n",
      "The Democratic Republic of the Congo\n",
      "Cook Islands\n",
      "Costa Rica\n",
      "Croatia\n",
      "Cuba\n",
      "Cyprus\n",
      "Czech Republic\n",
      "Benin\n",
      "Denmark\n",
      "Dominica\n",
      "Dominican Republic\n",
      "Ecuador\n",
      "El Salvador\n",
      "Equatorial Guinea\n",
      "Ethiopia\n",
      "Eritrea\n",
      "Estonia\n",
      "Faroe Islands\n",
      "Falkland Islands (Malvinas)\n",
      "Fiji\n",
      "Finland\n",
      "France\n",
      "French Guiana\n",
      "French Polynesia\n",
      "Djibouti\n",
      "Gabon\n",
      "Georgia\n",
      "Gambia\n",
      "Germany\n",
      "Ghana\n",
      "Gibraltar\n",
      "Kiribati\n",
      "Greece\n",
      "Greenland\n",
      "Grenada\n",
      "Guadeloupe\n",
      "Guam\n",
      "Guatemala\n",
      "Guinea\n",
      "Guyana\n",
      "Haiti\n",
      "Holy See (Vatican City State)\n",
      "Honduras\n",
      "Hungary\n",
      "Iceland\n",
      "India\n",
      "Indonesia\n",
      "Islamic Republic of Iran\n",
      "Iraq\n",
      "Ireland\n",
      "Israel\n",
      "Italy\n",
      "Cote d'Ivoire\n",
      "Jamaica\n",
      "Japan\n",
      "Kazakhstan\n",
      "Jordan\n",
      "Kenya\n",
      "Democratic People's Republic of Korea\n",
      "Republic of Korea\n",
      "Kuwait\n",
      "Kyrgyzstan\n",
      "Lao People's Democratic Republic\n",
      "Lebanon\n",
      "Lesotho\n",
      "Latvia\n",
      "Liberia\n",
      "Libyan Arab Jamahiriya\n",
      "Liechtenstein\n",
      "Lithuania\n",
      "Luxembourg\n",
      "Madagascar\n",
      "Malawi\n",
      "Malaysia\n",
      "Maldives\n",
      "Mali\n",
      "Malta\n",
      "Martinique\n",
      "Mauritania\n",
      "Mauritius\n",
      "Mexico\n",
      "Monaco\n",
      "Mongolia\n",
      "Moldova\n",
      "Montserrat\n",
      "Morocco\n",
      "Mozambique\n",
      "Oman\n",
      "Namibia\n",
      "Nauru\n",
      "Nepal\n",
      "Netherlands\n",
      "Netherlands Antilles\n",
      "Aruba\n",
      "New Caledonia\n",
      "Vanuatu\n",
      "New Zealand\n",
      "Nicaragua\n",
      "Niger\n",
      "Nigeria\n",
      "Niue\n",
      "Norfolk Island\n",
      "Norway\n",
      "Northern Mariana Islands\n",
      "Federated States of Micronesia\n",
      "Marshall Islands\n",
      "Palau\n",
      "Pakistan\n",
      "Panama\n",
      "Papua New Guinea\n",
      "Paraguay\n",
      "Peru\n",
      "Philippines\n",
      "Pitcairn\n",
      "Poland\n",
      "Portugal\n",
      "Guinea-Bissau\n",
      "Puerto Rico\n",
      "Qatar\n",
      "R?union\n",
      "Romania\n",
      "Russian Federation\n",
      "Rwanda\n",
      "Saint Helena\n",
      "Saint Kitts and Nevis\n",
      "Anguilla\n",
      "Saint Lucia\n",
      "Saint Pierre and Miquelon\n",
      "Saint Vincent and the Grenadines\n",
      "San Marino\n",
      "S?o Tom? and Principe\n",
      "Saudi Arabia\n",
      "Senegal\n",
      "Seychelles\n",
      "Sierra Leone\n",
      "Singapore\n",
      "Slovakia\n",
      "Viet Nam\n",
      "Slovenia\n",
      "Somalia\n",
      "South Africa\n",
      "Zimbabwe\n",
      "Spain\n",
      "Sudan\n",
      "Suriname\n",
      "Svalbard and Jan Mayen Islands\n",
      "Swaziland\n",
      "Sweden\n",
      "Switzerland\n",
      "Syrian Arab Republic\n",
      "Tajikistan\n",
      "Thailand\n",
      "Togo\n",
      "Tonga\n",
      "Trinidad and Tobago\n",
      "United Arab Emirates\n",
      "Tunisia\n",
      "Turkey\n",
      "Turkmenistan\n",
      "Turks and Caicos Islands\n",
      "Tuvalu\n",
      "Uganda\n",
      "Ukraine\n",
      "The former Yugoslav Republic of Macedonia\n",
      "Egypt\n",
      "United Kingdom\n",
      "United States\n",
      "Burkina Faso\n",
      "Uruguay\n",
      "Uzbekistan\n",
      "Venezuela\n",
      "United Republic of Tanzania\n",
      "U. S. Virgin Islands\n",
      "Wallis and Futuna Islands\n",
      "Samoa\n",
      "Yemen\n",
      "Yugoslavia\n",
      "Zambia\n"
     ]
    }
   ],
   "source": [
    "for line in body:\n",
    "    cols = line.split(',')\n",
    "    countries = cols[3]\n",
    "    print(cols[3])"
   ]
  },
  {
   "cell_type": "code",
   "execution_count": 58,
   "metadata": {
    "collapsed": false
   },
   "outputs": [
    {
     "name": "stdout",
     "output_type": "stream",
     "text": [
      "['Afghanistan', 'Albania', 'Algeria', 'Andorra', 'Angola', 'Antigua and Barbuda', 'Azerbaijan', 'Argentina', 'Australia', 'Austria', 'Bahamas', 'Bahrain', 'Bangladesh', 'Armenia', 'Barbados', 'Belgium', 'Bermuda', 'Bhutan', 'Bolivia', 'Bosnia and Herzegovina', 'Botswana', 'Brazil', 'Belize', 'Solomon Islands', 'British Virgin Islands', 'Brunei Daraussalam', 'Bulgaria', 'Myanmar', 'Burundi', 'Belarus', 'Cambodia', 'Cameroon', 'Canada', 'Cape Verde', 'Cayman Islands', 'Central African Republic', 'Sri Lanka', 'Chad', 'Chile', 'China', 'Taiwan Province of China', 'Colombia', 'Comoros', 'Congo', 'The Democratic Republic of the Congo', 'Cook Islands', 'Costa Rica', 'Croatia', 'Cuba', 'Cyprus', 'Czech Republic', 'Benin', 'Denmark', 'Dominica', 'Dominican Republic', 'Ecuador', 'El Salvador', 'Equatorial Guinea', 'Ethiopia', 'Eritrea', 'Estonia', 'Faroe Islands', 'Falkland Islands (Malvinas)', 'Fiji', 'Finland', 'France', 'French Guiana', 'French Polynesia', 'Djibouti', 'Gabon', 'Georgia', 'Gambia', 'Germany', 'Ghana', 'Gibraltar', 'Kiribati', 'Greece', 'Greenland', 'Grenada', 'Guadeloupe', 'Guam', 'Guatemala', 'Guinea', 'Guyana', 'Haiti', 'Holy See (Vatican City State)', 'Honduras', 'Hungary', 'Iceland', 'India', 'Indonesia', 'Islamic Republic of Iran', 'Iraq', 'Ireland', 'Israel', 'Italy', \"Cote d'Ivoire\", 'Jamaica', 'Japan', 'Kazakhstan', 'Jordan', 'Kenya', \"Democratic People's Republic of Korea\", 'Republic of Korea', 'Kuwait', 'Kyrgyzstan', \"Lao People's Democratic Republic\", 'Lebanon', 'Lesotho', 'Latvia', 'Liberia', 'Libyan Arab Jamahiriya', 'Liechtenstein', 'Lithuania', 'Luxembourg', 'Madagascar', 'Malawi', 'Malaysia', 'Maldives', 'Mali', 'Malta', 'Martinique', 'Mauritania', 'Mauritius', 'Mexico', 'Monaco', 'Mongolia', 'Moldova', 'Montserrat', 'Morocco', 'Mozambique', 'Oman', 'Namibia', 'Nauru', 'Nepal', 'Netherlands', 'Netherlands Antilles', 'Aruba', 'New Caledonia', 'Vanuatu', 'New Zealand', 'Nicaragua', 'Niger', 'Nigeria', 'Niue', 'Norfolk Island', 'Norway', 'Northern Mariana Islands', 'Federated States of Micronesia', 'Marshall Islands', 'Palau', 'Pakistan', 'Panama', 'Papua New Guinea', 'Paraguay', 'Peru', 'Philippines', 'Pitcairn', 'Poland', 'Portugal', 'Guinea-Bissau', 'Puerto Rico', 'Qatar', 'R?union', 'Romania', 'Russian Federation', 'Rwanda', 'Saint Helena', 'Saint Kitts and Nevis', 'Anguilla', 'Saint Lucia', 'Saint Pierre and Miquelon', 'Saint Vincent and the Grenadines', 'San Marino', 'S?o Tom? and Principe', 'Saudi Arabia', 'Senegal', 'Seychelles', 'Sierra Leone', 'Singapore', 'Slovakia', 'Viet Nam', 'Slovenia', 'Somalia', 'South Africa', 'Zimbabwe', 'Spain', 'Sudan', 'Suriname', 'Svalbard and Jan Mayen Islands', 'Swaziland', 'Sweden', 'Switzerland', 'Syrian Arab Republic', 'Tajikistan', 'Thailand', 'Togo', 'Tonga', 'Trinidad and Tobago', 'United Arab Emirates', 'Tunisia', 'Turkey', 'Turkmenistan', 'Turks and Caicos Islands', 'Tuvalu', 'Uganda', 'Ukraine', 'The former Yugoslav Republic of Macedonia', 'Egypt', 'United Kingdom', 'United States', 'Burkina Faso', 'Uruguay', 'Uzbekistan', 'Venezuela', 'United Republic of Tanzania', 'U. S. Virgin Islands', 'Wallis and Futuna Islands', 'Samoa', 'Yemen', 'Yugoslavia', 'Zambia']\n"
     ]
    }
   ],
   "source": [
    "countries = []\n",
    "for line in body:\n",
    "    cols = line.split(',')\n",
    "    countries.append(cols[3])\n",
    "print(countries)"
   ]
  },
  {
   "cell_type": "code",
   "execution_count": 56,
   "metadata": {
    "collapsed": false
   },
   "outputs": [
    {
     "data": {
      "text/plain": [
       "['Chad',\n",
       " 'Cuba',\n",
       " 'Fiji',\n",
       " 'Guam',\n",
       " 'Iraq',\n",
       " 'Mali',\n",
       " 'Oman',\n",
       " 'Niue',\n",
       " 'Peru',\n",
       " 'Togo',\n",
       " 'Chile',\n",
       " 'China',\n",
       " 'Congo',\n",
       " 'Benin',\n",
       " 'Gabon',\n",
       " 'Ghana',\n",
       " 'Haiti',\n",
       " 'India',\n",
       " 'Italy',\n",
       " 'Japan',\n",
       " 'Kenya',\n",
       " 'Malta',\n",
       " 'Nauru',\n",
       " 'Nepal',\n",
       " 'Aruba',\n",
       " 'Niger',\n",
       " 'Palau',\n",
       " 'Qatar',\n",
       " 'Spain',\n",
       " 'Sudan',\n",
       " 'Tonga',\n",
       " 'Egypt',\n",
       " 'Samoa',\n",
       " 'Yemen',\n",
       " 'Angola',\n",
       " 'Bhutan',\n",
       " 'Brazil',\n",
       " 'Belize',\n",
       " 'Canada',\n",
       " 'Cyprus',\n",
       " 'France',\n",
       " 'Gambia',\n",
       " 'Greece',\n",
       " 'Guinea',\n",
       " 'Guyana',\n",
       " 'Israel',\n",
       " 'Jordan',\n",
       " 'Kuwait',\n",
       " 'Latvia',\n",
       " 'Malawi',\n",
       " 'Mexico',\n",
       " 'Monaco',\n",
       " 'Norway',\n",
       " 'Panama',\n",
       " 'Poland',\n",
       " 'Rwanda',\n",
       " 'Sweden',\n",
       " 'Turkey',\n",
       " 'Tuvalu',\n",
       " 'Uganda',\n",
       " 'Zambia',\n",
       " 'Albania',\n",
       " 'Algeria',\n",
       " 'Andorra',\n",
       " 'Austria',\n",
       " 'Bahamas',\n",
       " 'Bahrain',\n",
       " 'Armenia',\n",
       " 'Belgium',\n",
       " 'Bermuda',\n",
       " 'Bolivia',\n",
       " 'Myanmar',\n",
       " 'Burundi',\n",
       " 'Belarus',\n",
       " 'Comoros',\n",
       " 'Croatia',\n",
       " 'Denmark',\n",
       " 'Ecuador',\n",
       " 'Eritrea',\n",
       " 'Estonia',\n",
       " 'Finland',\n",
       " 'Georgia',\n",
       " 'Germany',\n",
       " 'Grenada',\n",
       " 'Hungary',\n",
       " 'Iceland',\n",
       " 'Ireland',\n",
       " 'Jamaica',\n",
       " 'Lebanon',\n",
       " 'Lesotho',\n",
       " 'Liberia',\n",
       " 'Moldova',\n",
       " 'Morocco',\n",
       " 'Namibia',\n",
       " 'Vanuatu',\n",
       " 'Nigeria',\n",
       " 'R?union',\n",
       " 'Romania',\n",
       " 'Senegal',\n",
       " 'Somalia',\n",
       " 'Tunisia',\n",
       " 'Ukraine',\n",
       " 'Uruguay',\n",
       " 'Barbados',\n",
       " 'Botswana',\n",
       " 'Bulgaria',\n",
       " 'Cambodia',\n",
       " 'Cameroon',\n",
       " 'Colombia',\n",
       " 'Dominica',\n",
       " 'Ethiopia',\n",
       " 'Djibouti',\n",
       " 'Kiribati',\n",
       " 'Honduras',\n",
       " 'Malaysia',\n",
       " 'Maldives',\n",
       " 'Mongolia',\n",
       " 'Pakistan',\n",
       " 'Paraguay',\n",
       " 'Pitcairn',\n",
       " 'Portugal',\n",
       " 'Anguilla',\n",
       " 'Slovakia',\n",
       " 'Viet Nam',\n",
       " 'Slovenia',\n",
       " 'Zimbabwe',\n",
       " 'Suriname',\n",
       " 'Thailand',\n",
       " 'Argentina',\n",
       " 'Australia',\n",
       " 'Sri Lanka',\n",
       " 'Gibraltar',\n",
       " 'Greenland',\n",
       " 'Guatemala',\n",
       " 'Indonesia',\n",
       " 'Lithuania',\n",
       " 'Mauritius',\n",
       " 'Nicaragua',\n",
       " 'Singapore',\n",
       " 'Swaziland',\n",
       " 'Venezuela',\n",
       " 'Azerbaijan',\n",
       " 'Bangladesh',\n",
       " 'Cape Verde',\n",
       " 'Costa Rica',\n",
       " 'Guadeloupe',\n",
       " 'Kazakhstan',\n",
       " 'Kyrgyzstan',\n",
       " 'Luxembourg',\n",
       " 'Madagascar',\n",
       " 'Martinique',\n",
       " 'Mauritania',\n",
       " 'Montserrat',\n",
       " 'Mozambique',\n",
       " 'San Marino',\n",
       " 'Seychelles',\n",
       " 'Tajikistan',\n",
       " 'Uzbekistan',\n",
       " 'Yugoslavia',\n",
       " 'Afghanistan',\n",
       " 'El Salvador',\n",
       " 'Netherlands',\n",
       " 'New Zealand',\n",
       " 'Philippines',\n",
       " 'Puerto Rico',\n",
       " 'Saint Lucia',\n",
       " 'Switzerland',\n",
       " 'Cook Islands',\n",
       " 'Saint Helena',\n",
       " 'Saudi Arabia',\n",
       " 'Sierra Leone',\n",
       " 'South Africa',\n",
       " 'Turkmenistan',\n",
       " 'Burkina Faso',\n",
       " 'Faroe Islands',\n",
       " 'French Guiana',\n",
       " \"Cote d'Ivoire\",\n",
       " 'Liechtenstein',\n",
       " 'New Caledonia',\n",
       " 'Guinea-Bissau',\n",
       " 'United States',\n",
       " 'Cayman Islands',\n",
       " 'Czech Republic',\n",
       " 'Norfolk Island',\n",
       " 'United Kingdom',\n",
       " 'Solomon Islands',\n",
       " 'French Polynesia',\n",
       " 'Marshall Islands',\n",
       " 'Papua New Guinea',\n",
       " 'Equatorial Guinea',\n",
       " 'Republic of Korea',\n",
       " 'Brunei Daraussalam',\n",
       " 'Dominican Republic',\n",
       " 'Russian Federation',\n",
       " 'Antigua and Barbuda',\n",
       " 'Trinidad and Tobago',\n",
       " 'Netherlands Antilles',\n",
       " 'Syrian Arab Republic',\n",
       " 'United Arab Emirates',\n",
       " 'U. S. Virgin Islands',\n",
       " 'Saint Kitts and Nevis',\n",
       " 'S?o Tom? and Principe',\n",
       " 'Bosnia and Herzegovina',\n",
       " 'British Virgin Islands',\n",
       " 'Libyan Arab Jamahiriya',\n",
       " 'Central African Republic',\n",
       " 'Taiwan Province of China',\n",
       " 'Islamic Republic of Iran',\n",
       " 'Northern Mariana Islands',\n",
       " 'Turks and Caicos Islands',\n",
       " 'Saint Pierre and Miquelon',\n",
       " 'Wallis and Futuna Islands',\n",
       " 'Falkland Islands (Malvinas)',\n",
       " 'United Republic of Tanzania',\n",
       " 'Holy See (Vatican City State)',\n",
       " 'Federated States of Micronesia',\n",
       " 'Svalbard and Jan Mayen Islands',\n",
       " \"Lao People's Democratic Republic\",\n",
       " 'Saint Vincent and the Grenadines',\n",
       " 'The Democratic Republic of the Congo',\n",
       " \"Democratic People's Republic of Korea\",\n",
       " 'The former Yugoslav Republic of Macedonia']"
      ]
     },
     "execution_count": 56,
     "metadata": {},
     "output_type": "execute_result"
    }
   ],
   "source": [
    "countries = []\n",
    "for line in body:\n",
    "    cols = line.split(',')\n",
    "    countries.append(cols[3])\n",
    "sorted(countries, key =len)"
   ]
  },
  {
   "cell_type": "code",
   "execution_count": 59,
   "metadata": {
    "collapsed": false
   },
   "outputs": [
    {
     "data": {
      "text/plain": [
       "8"
      ]
     },
     "execution_count": 59,
     "metadata": {},
     "output_type": "execute_result"
    }
   ],
   "source": [
    "countries.index('Australia') # find the index for an item in the list"
   ]
  },
  {
   "cell_type": "code",
   "execution_count": 60,
   "metadata": {
    "collapsed": false
   },
   "outputs": [
    {
     "data": {
      "text/plain": [
       "'Australia'"
      ]
     },
     "execution_count": 60,
     "metadata": {},
     "output_type": "execute_result"
    }
   ],
   "source": [
    "countries[8]"
   ]
  },
  {
   "cell_type": "code",
   "execution_count": 61,
   "metadata": {
    "collapsed": false
   },
   "outputs": [
    {
     "data": {
      "text/plain": [
       "['The former Yugoslav Republic of Macedonia',\n",
       " \"Democratic People's Republic of Korea\",\n",
       " 'The Democratic Republic of the Congo',\n",
       " \"Lao People's Democratic Republic\",\n",
       " 'Saint Vincent and the Grenadines',\n",
       " 'Federated States of Micronesia',\n",
       " 'Svalbard and Jan Mayen Islands',\n",
       " 'Holy See (Vatican City State)',\n",
       " 'Falkland Islands (Malvinas)',\n",
       " 'United Republic of Tanzania',\n",
       " 'Saint Pierre and Miquelon',\n",
       " 'Wallis and Futuna Islands',\n",
       " 'Central African Republic',\n",
       " 'Taiwan Province of China',\n",
       " 'Islamic Republic of Iran',\n",
       " 'Northern Mariana Islands',\n",
       " 'Turks and Caicos Islands',\n",
       " 'Bosnia and Herzegovina',\n",
       " 'British Virgin Islands',\n",
       " 'Libyan Arab Jamahiriya',\n",
       " 'Saint Kitts and Nevis',\n",
       " 'S?o Tom? and Principe',\n",
       " 'Netherlands Antilles',\n",
       " 'Syrian Arab Republic',\n",
       " 'United Arab Emirates',\n",
       " 'U. S. Virgin Islands',\n",
       " 'Antigua and Barbuda',\n",
       " 'Trinidad and Tobago',\n",
       " 'Brunei Daraussalam',\n",
       " 'Dominican Republic',\n",
       " 'Russian Federation',\n",
       " 'Equatorial Guinea',\n",
       " 'Republic of Korea',\n",
       " 'French Polynesia',\n",
       " 'Marshall Islands',\n",
       " 'Papua New Guinea',\n",
       " 'Solomon Islands',\n",
       " 'Cayman Islands',\n",
       " 'Czech Republic',\n",
       " 'Norfolk Island',\n",
       " 'United Kingdom',\n",
       " 'Faroe Islands',\n",
       " 'French Guiana',\n",
       " \"Cote d'Ivoire\",\n",
       " 'Liechtenstein',\n",
       " 'New Caledonia',\n",
       " 'Guinea-Bissau',\n",
       " 'United States',\n",
       " 'Cook Islands',\n",
       " 'Saint Helena',\n",
       " 'Saudi Arabia',\n",
       " 'Sierra Leone',\n",
       " 'South Africa',\n",
       " 'Turkmenistan',\n",
       " 'Burkina Faso',\n",
       " 'Afghanistan',\n",
       " 'El Salvador',\n",
       " 'Netherlands',\n",
       " 'New Zealand',\n",
       " 'Philippines',\n",
       " 'Puerto Rico',\n",
       " 'Saint Lucia',\n",
       " 'Switzerland',\n",
       " 'Azerbaijan',\n",
       " 'Bangladesh',\n",
       " 'Cape Verde',\n",
       " 'Costa Rica',\n",
       " 'Guadeloupe',\n",
       " 'Kazakhstan',\n",
       " 'Kyrgyzstan',\n",
       " 'Luxembourg',\n",
       " 'Madagascar',\n",
       " 'Martinique',\n",
       " 'Mauritania',\n",
       " 'Montserrat',\n",
       " 'Mozambique',\n",
       " 'San Marino',\n",
       " 'Seychelles',\n",
       " 'Tajikistan',\n",
       " 'Uzbekistan',\n",
       " 'Yugoslavia',\n",
       " 'Argentina',\n",
       " 'Australia',\n",
       " 'Sri Lanka',\n",
       " 'Gibraltar',\n",
       " 'Greenland',\n",
       " 'Guatemala',\n",
       " 'Indonesia',\n",
       " 'Lithuania',\n",
       " 'Mauritius',\n",
       " 'Nicaragua',\n",
       " 'Singapore',\n",
       " 'Swaziland',\n",
       " 'Venezuela',\n",
       " 'Barbados',\n",
       " 'Botswana',\n",
       " 'Bulgaria',\n",
       " 'Cambodia',\n",
       " 'Cameroon',\n",
       " 'Colombia',\n",
       " 'Dominica',\n",
       " 'Ethiopia',\n",
       " 'Djibouti',\n",
       " 'Kiribati',\n",
       " 'Honduras',\n",
       " 'Malaysia',\n",
       " 'Maldives',\n",
       " 'Mongolia',\n",
       " 'Pakistan',\n",
       " 'Paraguay',\n",
       " 'Pitcairn',\n",
       " 'Portugal',\n",
       " 'Anguilla',\n",
       " 'Slovakia',\n",
       " 'Viet Nam',\n",
       " 'Slovenia',\n",
       " 'Zimbabwe',\n",
       " 'Suriname',\n",
       " 'Thailand',\n",
       " 'Albania',\n",
       " 'Algeria',\n",
       " 'Andorra',\n",
       " 'Austria',\n",
       " 'Bahamas',\n",
       " 'Bahrain',\n",
       " 'Armenia',\n",
       " 'Belgium',\n",
       " 'Bermuda',\n",
       " 'Bolivia',\n",
       " 'Myanmar',\n",
       " 'Burundi',\n",
       " 'Belarus',\n",
       " 'Comoros',\n",
       " 'Croatia',\n",
       " 'Denmark',\n",
       " 'Ecuador',\n",
       " 'Eritrea',\n",
       " 'Estonia',\n",
       " 'Finland',\n",
       " 'Georgia',\n",
       " 'Germany',\n",
       " 'Grenada',\n",
       " 'Hungary',\n",
       " 'Iceland',\n",
       " 'Ireland',\n",
       " 'Jamaica',\n",
       " 'Lebanon',\n",
       " 'Lesotho',\n",
       " 'Liberia',\n",
       " 'Moldova',\n",
       " 'Morocco',\n",
       " 'Namibia',\n",
       " 'Vanuatu',\n",
       " 'Nigeria',\n",
       " 'R?union',\n",
       " 'Romania',\n",
       " 'Senegal',\n",
       " 'Somalia',\n",
       " 'Tunisia',\n",
       " 'Ukraine',\n",
       " 'Uruguay',\n",
       " 'Angola',\n",
       " 'Bhutan',\n",
       " 'Brazil',\n",
       " 'Belize',\n",
       " 'Canada',\n",
       " 'Cyprus',\n",
       " 'France',\n",
       " 'Gambia',\n",
       " 'Greece',\n",
       " 'Guinea',\n",
       " 'Guyana',\n",
       " 'Israel',\n",
       " 'Jordan',\n",
       " 'Kuwait',\n",
       " 'Latvia',\n",
       " 'Malawi',\n",
       " 'Mexico',\n",
       " 'Monaco',\n",
       " 'Norway',\n",
       " 'Panama',\n",
       " 'Poland',\n",
       " 'Rwanda',\n",
       " 'Sweden',\n",
       " 'Turkey',\n",
       " 'Tuvalu',\n",
       " 'Uganda',\n",
       " 'Zambia',\n",
       " 'Chile',\n",
       " 'China',\n",
       " 'Congo',\n",
       " 'Benin',\n",
       " 'Gabon',\n",
       " 'Ghana',\n",
       " 'Haiti',\n",
       " 'India',\n",
       " 'Italy',\n",
       " 'Japan',\n",
       " 'Kenya',\n",
       " 'Malta',\n",
       " 'Nauru',\n",
       " 'Nepal',\n",
       " 'Aruba',\n",
       " 'Niger',\n",
       " 'Palau',\n",
       " 'Qatar',\n",
       " 'Spain',\n",
       " 'Sudan',\n",
       " 'Tonga',\n",
       " 'Egypt',\n",
       " 'Samoa',\n",
       " 'Yemen',\n",
       " 'Chad',\n",
       " 'Cuba',\n",
       " 'Fiji',\n",
       " 'Guam',\n",
       " 'Iraq',\n",
       " 'Mali',\n",
       " 'Oman',\n",
       " 'Niue',\n",
       " 'Peru',\n",
       " 'Togo']"
      ]
     },
     "execution_count": 61,
     "metadata": {},
     "output_type": "execute_result"
    }
   ],
   "source": [
    "countries = []\n",
    "for line in body:\n",
    "    cols = line.split(',')\n",
    "    countries.append(cols[3])\n",
    "sorted(countries, key =len, reverse=True)"
   ]
  },
  {
   "cell_type": "markdown",
   "metadata": {},
   "source": [
    "Read data country_populations_by_year.csv\n",
    "task 1: print all country names\n",
    "task 2. find the population of australia in 1960\n"
   ]
  },
  {
   "cell_type": "code",
   "execution_count": 62,
   "metadata": {
    "collapsed": true
   },
   "outputs": [],
   "source": [
    "with open('G:/Python Charmers/Data/country_populations_by_year.csv') as f: \n",
    "    data = f.readlines()"
   ]
  },
  {
   "cell_type": "code",
   "execution_count": 81,
   "metadata": {
    "collapsed": false
   },
   "outputs": [
    {
     "name": "stdout",
     "output_type": "stream",
     "text": [
      "['Country Name', 'Afghanistan', 'Albania', 'Algeria', 'American Samoa', 'Andorra', 'Angola', 'Antigua and Barbuda', 'Argentina', 'Armenia', 'Aruba', 'Australia', 'Austria', 'Azerbaijan', '\"Bahamas', 'Bahrain', 'Bangladesh', 'Barbados', 'Belarus', 'Belgium', 'Belize', 'Benin', 'Bermuda', 'Bhutan', 'Bolivia', 'Bosnia and Herzegovina', 'Botswana', 'Brazil', 'Brunei Darussalam', 'Bulgaria', 'Burkina Faso', 'Burundi', 'Cambodia', 'Cameroon', 'Canada', 'Cape Verde', 'Cayman Islands', 'Central African Republic', 'Chad', 'Channel Islands', 'Chile', 'China', 'Colombia', 'Comoros', '\"Congo', '\"Congo', 'Costa Rica', \"Cote d'Ivoire\", 'Croatia', 'Cuba', 'Cyprus', 'Czech Republic', 'Denmark', 'Djibouti', 'Dominica', 'Dominican Republic', 'Ecuador', '\"Egypt', 'El Salvador', 'Equatorial Guinea', 'Eritrea', 'Estonia', 'Ethiopia', 'Faeroe Islands', 'Fiji', 'Finland', 'France', 'French Polynesia', 'Gabon', '\"Gambia', 'Georgia', 'Germany', 'Ghana', 'Gibraltar', 'Greece', 'Greenland', 'Grenada', 'Guam', 'Guatemala', 'Guinea', 'Guinea-Bissau', 'Guyana', 'Haiti', 'Honduras', '\"Hong Kong SAR', 'Hungary', 'Iceland', 'India', 'Indonesia', '\"Iran', 'Iraq', 'Ireland', 'Isle of Man', 'Israel', 'Italy', 'Jamaica', 'Japan', 'Jordan', 'Kazakhstan', 'Kenya', 'Kiribati', '\"Korea', '\"Korea', 'Kosovo', 'Kuwait', 'Kyrgyz Republic', 'Lao PDR', 'Latvia', 'Lebanon', 'Lesotho', 'Liberia', 'Libya', 'Liechtenstein', 'Lithuania', 'Luxembourg', '\"Macao SAR', '\"Macedonia', 'Madagascar', 'Malawi', 'Malaysia', 'Maldives', 'Mali', 'Malta', 'Marshall Islands', 'Mauritania', 'Mauritius', 'Mayotte', 'Mexico', '\"Micronesia', 'Moldova', 'Monaco', 'Mongolia', 'Montenegro', 'Morocco', 'Mozambique', 'Myanmar', 'Namibia', 'Nepal', 'Netherlands', 'New Caledonia', 'New Zealand', 'Nicaragua', 'Niger', 'Nigeria', 'Northern Mariana Islands', 'Norway', 'Oman', 'Pakistan', 'Palau', 'Panama', 'Papua New Guinea', 'Paraguay', 'Peru', 'Philippines', 'Poland', 'Portugal', 'Puerto Rico', 'Qatar', 'Romania', 'Russian Federation', 'Rwanda', 'Samoa', 'San Marino', 'Sao Tome and Principe', 'Saudi Arabia', 'Senegal', 'Seychelles', 'Sierra Leone', 'Singapore', 'Slovak Republic', 'Slovenia', 'Solomon Islands', 'Somalia', 'South Africa', 'Spain', 'Sri Lanka', 'St. Kitts and Nevis', 'St. Lucia', 'St. Martin (French part)', 'St. Vincent and the Grenadines', 'Sudan', 'Suriname', 'Swaziland', 'Sweden', 'Switzerland', 'Syrian Arab Republic', 'Tajikistan', 'Tanzania', 'Thailand', 'Timor-Leste', 'Togo', 'Tonga', 'Trinidad and Tobago', 'Tunisia', 'Turkey', 'Turkmenistan', 'Turks and Caicos Islands', 'Tuvalu', 'Uganda', 'Ukraine', 'United Arab Emirates', 'United Kingdom', 'United States', 'Uruguay', 'Uzbekistan', 'Vanuatu', '\"Venezuela', 'Vietnam', 'Virgin Islands (U.S.)', '\"Yemen', 'Zambia', 'Zimbabwe']\n"
     ]
    }
   ],
   "source": [
    "countries = []\n",
    "population1960 = []\n",
    "for line in data:\n",
    "    cols = line.split(',')\n",
    "    countries.append(cols[0])\n",
    "    population1960.append(cols[2])\n",
    "print(countries)"
   ]
  },
  {
   "cell_type": "code",
   "execution_count": 80,
   "metadata": {
    "collapsed": false
   },
   "outputs": [
    {
     "data": {
      "text/plain": [
       "11"
      ]
     },
     "execution_count": 80,
     "metadata": {},
     "output_type": "execute_result"
    }
   ],
   "source": [
    "countries.index('Australia')"
   ]
  },
  {
   "cell_type": "code",
   "execution_count": 82,
   "metadata": {
    "collapsed": false
   },
   "outputs": [
    {
     "name": "stdout",
     "output_type": "stream",
     "text": [
      "['1960', '9671046', '1610565', '10799997', '20041', '13377', '4963068', '54657', '20625451', '1867396', '54209', '10276477', '7048001', '3894492', 'BHS', '161825', '50101943', '230831', '8198000', '9119000', '91046', '2419644', '44400', '225993', '3354895', '3180020', '523997', '72758801', '79846', '7867006', '4881947', '2940498', '5433306', '5409083', '17909009', '210933', '8092', '1503509', '2954088', '109396', '7651579', '667070000', '16004714', '193052', 'COD', 'COG', '1334004', '3638385', '4140000', '7133582', '572997', '9554000', '4581000', '84877', '60015', '3308941', '4439206', 'EGY', '2773095', '252115', '1423599', '1215999', '22553350', '34334', '393366', '4430001', '46613691', '79335', '485732', 'GMB', '3645600', '72674000', '6742107', '21518', '8327000', '32500', '89844', '67436', '4158956', '3540756', '593289', '560184', '3867502', '1999530', 'HKG', '9984002', '175998', '434849000', '91946612', 'IRN', '7379922', '2833997', '48445', '2114020', '50199700', '1629003', '92500572', '844000', '9995997', '8105435', '40700', 'PRK', 'KOR', '947000', '263718', '2172500', '2129968', '2129000', '1907573', '851594', '1115736', '1349004', '16561', '2778555', '314900', 'MAC', 'MKD', '5103652', '3525246', '8160113', '90050', '5247877', '329000', '14661', '854167', '659351', '24055', '38418829', 'FSM', '2544000', '22135', '957044', '466674', '11625999', '7647298', '20957397', '602545', '9740462', '11486630', '79000', '2372000', '1772895', '3249965', '45926253', '10070', '3580998', '557492', '45920204', '9638', '1128378', '1966961', '1905829', '9929439', '26010295', '29561000', '8943100', '2358000', '47085', '18403000', '119897000', '2771018', '109917', '15392', '64251', '4041422', '3047804', '41700', '2187240', '1646000', '4144900', '1580008', '118054', '2819246', '17396000', '30455155', '10020405', '51000', '86440', '4279', '80948', '11561784', '290000', '349181', '7480002', '5361995', '4566822', '2082499', '10074485', '27312399', '499676', '1577708', '61601', '841210', '4220701', '28160579', '1593501', '5724', '6104', '6788219', '42783010', '89871', '52373000', '180671000', '2538095', '8558503', '63702', 'VEN', '34743000', '32000', 'YEM', '3044733', '3752373']\n"
     ]
    }
   ],
   "source": [
    "print( population1960)"
   ]
  },
  {
   "cell_type": "code",
   "execution_count": 88,
   "metadata": {
    "collapsed": false
   },
   "outputs": [
    {
     "data": {
      "text/plain": [
       "10276477.0"
      ]
     },
     "execution_count": 88,
     "metadata": {},
     "output_type": "execute_result"
    }
   ],
   "source": [
    "float( population1960[countries.index('Australia')] )"
   ]
  },
  {
   "cell_type": "code",
   "execution_count": 89,
   "metadata": {
    "collapsed": false
   },
   "outputs": [
    {
     "name": "stdout",
     "output_type": "stream",
     "text": [
      "10276477.0\n"
     ]
    }
   ],
   "source": [
    "countries = []\n",
    "population1960 = []\n",
    "for line in data:\n",
    "    cols = line.split(',')\n",
    "    countries.append(cols[0])\n",
    "    population1960.append(cols[2])\n",
    "print(float( population1960[countries.index('Australia')] ))"
   ]
  },
  {
   "cell_type": "code",
   "execution_count": 90,
   "metadata": {
    "collapsed": true
   },
   "outputs": [],
   "source": [
    "header?"
   ]
  },
  {
   "cell_type": "code",
   "execution_count": 91,
   "metadata": {
    "collapsed": true
   },
   "outputs": [],
   "source": [
    "header, body = data[0], data[1:]"
   ]
  },
  {
   "cell_type": "code",
   "execution_count": 92,
   "metadata": {
    "collapsed": false
   },
   "outputs": [
    {
     "data": {
      "text/plain": [
       "'Country Name,Country Code,1960,1961,1962,1963,1964,1965,1966,1967,1968,1969,1970,1971,1972,1973,1974,1975,1976,1977,1978,1979,1980,1981,1982,1983,1984,1985,1986,1987,1988,1989,1990,1991,1992,1993,1994,1995,1996,1997,1998,1999,2000,2001,2002,2003,2004,2005,2006,2007,2008,2009,2010\\n'"
      ]
     },
     "execution_count": 92,
     "metadata": {},
     "output_type": "execute_result"
    }
   ],
   "source": [
    "header"
   ]
  },
  {
   "cell_type": "code",
   "execution_count": 94,
   "metadata": {
    "collapsed": false
   },
   "outputs": [
    {
     "name": "stdout",
     "output_type": "stream",
     "text": [
      "10276477\n"
     ]
    }
   ],
   "source": [
    "col_headers = header.split(',')\n",
    "col_headers.index('1960')\n",
    "sixty_col=col_headers.index('1960')\n",
    "for line in body:\n",
    "    cols = line.split(',')\n",
    "    if cols[0] == 'Australia':\n",
    "        aus_population = int(cols[sixty_col])\n",
    "        print(aus_population)"
   ]
  },
  {
   "cell_type": "markdown",
   "metadata": {},
   "source": [
    "# In practice we will use pandas for csv file\n"
   ]
  },
  {
   "cell_type": "code",
   "execution_count": 96,
   "metadata": {
    "collapsed": false
   },
   "outputs": [
    {
     "name": "stderr",
     "output_type": "stream",
     "text": [
      "C:\\Anaconda3\\lib\\site-packages\\ipykernel\\__main__.py:4: FutureWarning: sort(columns=....) is deprecated, use sort_values(by=.....)\n"
     ]
    },
    {
     "data": {
      "text/plain": [
       "<matplotlib.axes._subplots.AxesSubplot at 0x5acaa90>"
      ]
     },
     "execution_count": 96,
     "metadata": {},
     "output_type": "execute_result"
    },
    {
     "data": {
      "image/png": "[encoded data removed]",
      "text/plain": [
       "<matplotlib.figure.Figure at 0x5aca170>"
      ]
     },
     "metadata": {},
     "output_type": "display_data"
    }
   ],
   "source": [
    "%matplotlib inline\n",
    "import pandas as pd\n",
    "populations = pd.read_csv('G:/Python Charmers/Data/country_populations_by_year.csv', index_col=0)\n",
    "top20 = populations.sort('1960', ascending=False)[:20]\n",
    "top20['1960'].plot(kind='bar')"
   ]
  },
  {
   "cell_type": "code",
   "execution_count": 97,
   "metadata": {
    "collapsed": false
   },
   "outputs": [
    {
     "name": "stdout",
     "output_type": "stream",
     "text": [
      "                         Country Code       1960          1961          1962  \\\n",
      "Country Name                                                                   \n",
      "Afghanistan                       AFG    9671046  9.859928e+06  1.005648e+07   \n",
      "Albania                           ALB    1610565  1.661158e+06  1.712563e+06   \n",
      "Algeria                           DZA   10799997  1.100664e+07  1.120984e+07   \n",
      "American Samoa                    ASM      20041  2.050000e+04  2.112400e+04   \n",
      "Andorra                           AND      13377  1.433700e+04  1.533700e+04   \n",
      "Angola                            AGO    4963068  5.053693e+06  5.147083e+06   \n",
      "Antigua and Barbuda               ATG      54657  5.540800e+04  5.636200e+04   \n",
      "Argentina                         ARG   20625451  2.096100e+07  2.129732e+07   \n",
      "Armenia                           ARM    1867396  1.934239e+06  2.002170e+06   \n",
      "Aruba                             ABW      54209  5.543600e+04  5.622700e+04   \n",
      "Australia                         AUS   10276477  1.048300e+07  1.074200e+07   \n",
      "Austria                           AUT    7048001  7.087000e+06  7.130000e+06   \n",
      "Azerbaijan                        AZE    3894492  4.026355e+06  4.163394e+06   \n",
      "Bahamas, The                      BHS     109527  1.151120e+05  1.210900e+05   \n",
      "Bahrain                           BHR     161825  1.671790e+05  1.722940e+05   \n",
      "Bangladesh                        BGD   50101943  5.153144e+07  5.297725e+07   \n",
      "Barbados                          BRB     230831  2.315740e+05  2.324900e+05   \n",
      "Belarus                           BLR    8198000  8.271216e+06  8.351928e+06   \n",
      "Belgium                           BEL    9119000  9.166000e+06  9.218000e+06   \n",
      "Belize                            BLZ      91046  9.424193e+04  9.767072e+04   \n",
      "Benin                             BEN    2419644  2.451123e+06  2.485248e+06   \n",
      "Bermuda                           BMU      44400  4.550000e+04  4.660000e+04   \n",
      "Bhutan                            BTN     225993  2.320000e+05  2.382010e+05   \n",
      "Bolivia                           BOL    3354895  3.430160e+06  3.507408e+06   \n",
      "Bosnia and Herzegovina            BIH    3180020  3.225391e+06  3.270585e+06   \n",
      "Botswana                          BWA     523997  5.365400e+05  5.499530e+05   \n",
      "Brazil                            BRA   72758801  7.497566e+07  7.727986e+07   \n",
      "Brunei Darussalam                 BRN      79846  8.345800e+04  8.719200e+04   \n",
      "Bulgaria                          BGR    7867006  7.943000e+06  8.013000e+06   \n",
      "Burkina Faso                      BFA    4881947  4.956921e+06  5.033296e+06   \n",
      "...                               ...        ...           ...           ...   \n",
      "Swaziland                         SWZ     349181  3.574590e+05  3.656450e+05   \n",
      "Sweden                            SWE    7480002  7.520000e+06  7.562000e+06   \n",
      "Switzerland                       CHE    5361995  5.434000e+06  5.574000e+06   \n",
      "Syrian Arab Republic              SYR    4566822  4.716875e+06  4.872506e+06   \n",
      "Tajikistan                        TJK    2082499  2.160358e+06  2.245098e+06   \n",
      "Tanzania                          TZA   10074485  1.037327e+07  1.068364e+07   \n",
      "Thailand                          THA   27312399  2.814965e+07  2.901694e+07   \n",
      "Timor-Leste                       TLS     499676  5.084990e+05  5.176980e+05   \n",
      "Togo                              TGO    1577708  1.593657e+06  1.607735e+06   \n",
      "Tonga                             TON      61601  6.374100e+04  6.625700e+04   \n",
      "Trinidad and Tobago               TTO     841210  8.562890e+05  8.669590e+05   \n",
      "Tunisia                           TUN    4220701  4.277371e+06  4.350811e+06   \n",
      "Turkey                            TUR   28160579  2.889437e+07  2.963359e+07   \n",
      "Turkmenistan                      TKM    1593501  1.649914e+06  1.708711e+06   \n",
      "Turks and Caicos Islands          TCA       5724  5.760000e+03  5.762000e+03   \n",
      "Tuvalu                            TUV       6104  6.242000e+03  6.391000e+03   \n",
      "Uganda                            UGA    6788219  7.006823e+06  7.240764e+06   \n",
      "Ukraine                           UKR   42783010  4.331604e+07  4.384719e+07   \n",
      "United Arab Emirates              ARE      89871  9.793600e+04  1.089270e+05   \n",
      "United Kingdom                    GBR   52373000  5.280700e+07  5.329200e+07   \n",
      "United States                     USA  180671000  1.836910e+08  1.865380e+08   \n",
      "Uruguay                           URY    2538095  2.571134e+06  2.603317e+06   \n",
      "Uzbekistan                        UZB    8558503  8.871244e+06  9.201176e+06   \n",
      "Vanuatu                           VUT      63702  6.570900e+04  6.780600e+04   \n",
      "Venezuela, RB                     VEN    7562108  7.852680e+06  8.150542e+06   \n",
      "Vietnam                           VNM   34743000  3.542772e+07  3.612302e+07   \n",
      "Virgin Islands (U.S.)             VIR      32000  3.410000e+04  3.630000e+04   \n",
      "Yemen, Rep.                       YEM    5116419  5.214688e+06  5.317095e+06   \n",
      "Zambia                            ZMB    3044733  3.134831e+06  3.229329e+06   \n",
      "Zimbabwe                          ZWE    3752373  3.876616e+06  4.006236e+06   \n",
      "\n",
      "                                  1963          1964       1965          1966  \\\n",
      "Country Name                                                                    \n",
      "Afghanistan               1.026125e+07  1.047490e+07   10697983  1.092772e+07   \n",
      "Albania                   1.764593e+06  1.817098e+06    1869942  1.922993e+06   \n",
      "Algeria                   1.142084e+07  1.165490e+07   11923002  1.222985e+07   \n",
      "American Samoa            2.187000e+04  2.267200e+04      23480  2.428300e+04   \n",
      "Andorra                   1.637300e+04  1.743800e+04      18529  1.964000e+04   \n",
      "Angola                    5.242084e+06  5.337063e+06    5431135  5.524090e+06   \n",
      "Antigua and Barbuda       5.747200e+04  5.865300e+04      59844  6.103200e+04   \n",
      "Argentina                 2.163313e+07  2.196648e+07   22296628  2.262201e+07   \n",
      "Armenia                   2.070427e+06  2.138133e+06    2204650  2.269475e+06   \n",
      "Aruba                     5.669800e+04  5.703100e+04      57362  5.771400e+04   \n",
      "Australia                 1.095000e+07  1.116700e+07   11388000  1.165100e+07   \n",
      "Austria                   7.172000e+06  7.215000e+06    7255000  7.308000e+06   \n",
      "Azerbaijan                4.302763e+06  4.440730e+06    4574497  4.702916e+06   \n",
      "Bahamas, The              1.273400e+05  1.337090e+05     140063  1.463790e+05   \n",
      "Bahrain                   1.771700e+05  1.818330e+05     186351  1.907340e+05   \n",
      "Bangladesh                5.447429e+07  5.607108e+07   57791778  5.968119e+07   \n",
      "Barbados                  2.334960e+05  2.344550e+05     235271  2.359120e+05   \n",
      "Belarus                   8.437232e+06  8.524224e+06    8610000  8.696496e+06   \n",
      "Belgium                   9.283000e+06  9.367000e+06    9448000  9.508000e+06   \n",
      "Belize                    1.011933e+05  1.045951e+05     107736  1.106435e+05   \n",
      "Benin                     2.521922e+06  2.561022e+06    2602490  2.646310e+06   \n",
      "Bermuda                   4.770000e+04  4.890000e+04      50100  5.100000e+04   \n",
      "Bhutan                    2.446530e+05  2.514190e+05     258559  2.660720e+05   \n",
      "Bolivia                   3.586804e+06  3.668568e+06    3752892  3.839751e+06   \n",
      "Bosnia and Herzegovina    3.314827e+06  3.357005e+06    3396402  3.432671e+06   \n",
      "Botswana                  5.642770e+05  5.795180e+05     595697  6.129030e+05   \n",
      "Brazil                    7.964221e+07  8.202186e+07   84388983  8.673516e+07   \n",
      "Brunei Darussalam         9.108800e+04  9.519100e+04      99536  1.041300e+05   \n",
      "Bulgaria                  8.078000e+06  8.144000e+06    8201000  8.258000e+06   \n",
      "Burkina Faso              5.112252e+06  5.195464e+06    5284154  5.378861e+06   \n",
      "...                                ...           ...        ...           ...   \n",
      "Swaziland                 3.739040e+05  3.824770e+05     391553  4.011840e+05   \n",
      "Sweden                    7.604000e+06  7.661000e+06    7734000  7.808000e+06   \n",
      "Switzerland               5.694000e+06  5.789000e+06    5856000  5.918000e+06   \n",
      "Syrian Arab Republic      5.034188e+06  5.202606e+06    5378287  5.561371e+06   \n",
      "Tajikistan                2.334221e+06  2.424189e+06    2512493  2.598074e+06   \n",
      "Tanzania                  1.100547e+07  1.133852e+07   11682835  1.203815e+07   \n",
      "Thailand                  2.991373e+07  3.083933e+07   31792743  3.277164e+07   \n",
      "Timor-Leste               5.272840e+05  5.372780e+05     547681  5.581100e+05   \n",
      "Togo                      1.625493e+06  1.654451e+06    1699541  1.763332e+06   \n",
      "Tonga                     6.900100e+04  7.175800e+04      74364  7.678700e+04   \n",
      "Trinidad and Tobago       8.750830e+05  8.834210e+05     893922  9.073400e+05   \n",
      "Tunisia                   4.436643e+06  4.530835e+06    4630000  4.731395e+06   \n",
      "Turkey                    3.037394e+07  3.110982e+07   31837999  3.255629e+07   \n",
      "Turkmenistan              1.769008e+06  1.829697e+06    1890000  1.949425e+06   \n",
      "Turks and Caicos Islands  5.741000e+03  5.705000e+03       5669  5.629000e+03   \n",
      "Tuvalu                    6.542000e+03  6.687000e+03       6819  6.935000e+03   \n",
      "Uganda                    7.488366e+06  7.746988e+06    8014352  8.290837e+06   \n",
      "Ukraine                   4.436835e+07  4.486866e+07   45340503  4.577946e+07   \n",
      "United Arab Emirates      1.216780e+05  1.344780e+05     146387  1.569340e+05   \n",
      "United Kingdom            5.362500e+07  5.399100e+07   54350000  5.464300e+07   \n",
      "United States             1.892420e+08  1.918890e+08  194303000  1.965600e+08   \n",
      "Uruguay                   2.634538e+06  2.664775e+06    2693906  2.722232e+06   \n",
      "Uzbekistan                9.542785e+06  9.888629e+06   10233502  1.057432e+07   \n",
      "Vanuatu                   6.996200e+04  7.213100e+04      74287  7.641000e+04   \n",
      "Venezuela, RB             8.453781e+06  8.759890e+06    9067485  9.375646e+06   \n",
      "Vietnam                   3.683630e+07  3.757388e+07   38341000  3.914186e+07   \n",
      "Virgin Islands (U.S.)     3.870000e+04  4.130000e+04      44000  4.730000e+04   \n",
      "Yemen, Rep.               5.422115e+06  5.527652e+06    5632206  5.737000e+06   \n",
      "Zambia                    3.328063e+06  3.430747e+06    3537265  3.647470e+06   \n",
      "Zimbabwe                  4.140773e+06  4.279524e+06    4422087  4.568266e+06   \n",
      "\n",
      "                                  1967          1968      ...       \\\n",
      "Country Name                                              ...        \n",
      "Afghanistan               1.116366e+07  1.141102e+07      ...        \n",
      "Albania                   1.976140e+06  2.029314e+06      ...        \n",
      "Algeria                   1.257263e+07  1.294546e+07      ...        \n",
      "American Samoa            2.508700e+04  2.586900e+04      ...        \n",
      "Andorra                   2.077200e+04  2.193100e+04      ...        \n",
      "Angola                    5.617242e+06  5.713156e+06      ...        \n",
      "Antigua and Barbuda       6.222600e+04  6.340100e+04      ...        \n",
      "Argentina                 2.294494e+07  2.327315e+07      ...        \n",
      "Armenia                   2.332624e+06  2.394635e+06      ...        \n",
      "Aruba                     5.805200e+04  5.838800e+04      ...        \n",
      "Australia                 1.179900e+07  1.200900e+07      ...        \n",
      "Austria                   7.338000e+06  7.362000e+06      ...        \n",
      "Azerbaijan                4.826258e+06  4.944928e+06      ...        \n",
      "Bahamas, The              1.526230e+05  1.586440e+05      ...        \n",
      "Bahrain                   1.951110e+05  1.998180e+05      ...        \n",
      "Bangladesh                6.170278e+07  6.370333e+07      ...        \n",
      "Barbados                  2.364430e+05  2.369740e+05      ...        \n",
      "Belarus                   8.785648e+06  8.874552e+06      ...        \n",
      "Belgium                   9.557000e+06  9.590000e+06      ...        \n",
      "Belize                    1.133332e+05  1.157873e+05      ...        \n",
      "Benin                     2.692610e+06  2.741672e+06      ...        \n",
      "Bermuda                   5.200000e+04  5.300000e+04      ...        \n",
      "Bhutan                    2.740000e+05  2.824950e+05      ...        \n",
      "Bolivia                   3.929192e+06  4.021551e+06      ...        \n",
      "Bosnia and Herzegovina    3.466307e+06  3.498470e+06      ...        \n",
      "Botswana                  6.312260e+05  6.506760e+05      ...        \n",
      "Brazil                    8.906824e+07  9.139492e+07      ...        \n",
      "Brunei Darussalam         1.089680e+05  1.140680e+05      ...        \n",
      "Bulgaria                  8.310000e+06  8.370000e+06      ...        \n",
      "Burkina Faso              5.479285e+06  5.584807e+06      ...        \n",
      "...                                ...           ...      ...        \n",
      "Swaziland                 4.113650e+05  4.221520e+05      ...        \n",
      "Sweden                    7.868000e+06  7.914000e+06      ...        \n",
      "Switzerland               5.992000e+06  6.068000e+06      ...        \n",
      "Syrian Arab Republic      5.751807e+06  5.949690e+06      ...        \n",
      "Tajikistan                2.681780e+06  2.765317e+06      ...        \n",
      "Tanzania                  1.240530e+07  1.278675e+07      ...        \n",
      "Thailand                  3.377403e+07  3.479925e+07      ...        \n",
      "Timor-Leste               5.684400e+05  5.791840e+05      ...        \n",
      "Togo                      1.843004e+06  1.931480e+06      ...        \n",
      "Tonga                     7.904900e+04  8.109600e+04      ...        \n",
      "Trinidad and Tobago       9.229420e+05  9.394130e+05      ...        \n",
      "Tunisia                   4.832923e+06  4.933131e+06      ...        \n",
      "Turkey                    3.326800e+07  3.398214e+07      ...        \n",
      "Turkmenistan              2.008148e+06  2.066889e+06      ...        \n",
      "Turks and Caicos Islands  5.589000e+03  5.563000e+03      ...        \n",
      "Tuvalu                    7.037000e+03  7.128000e+03      ...        \n",
      "Uganda                    8.576166e+06  8.866641e+06      ...        \n",
      "Ukraine                   4.618792e+07  4.657338e+07      ...        \n",
      "United Arab Emirates      1.674200e+05  1.808580e+05      ...        \n",
      "United Kingdom            5.495900e+07  5.521400e+07      ...        \n",
      "United States             1.987120e+08  2.007060e+08      ...        \n",
      "Uruguay                   2.749441e+06  2.774109e+06      ...        \n",
      "Uzbekistan                1.091271e+07  1.125387e+07      ...        \n",
      "Vanuatu                   7.852000e+04  8.067200e+04      ...        \n",
      "Venezuela, RB             9.686071e+06  1.000324e+07      ...        \n",
      "Vietnam                   3.997957e+07  4.085619e+07      ...        \n",
      "Virgin Islands (U.S.)     5.080000e+04  5.460000e+04      ...        \n",
      "Yemen, Rep.               5.842868e+06  5.947698e+06      ...        \n",
      "Zambia                    3.761707e+06  3.880914e+06      ...        \n",
      "Zimbabwe                  4.718550e+06  4.874043e+06      ...        \n",
      "\n",
      "                                  2001          2002          2003  \\\n",
      "Country Name                                                         \n",
      "Afghanistan               2.669743e+07  2.746553e+07  2.825572e+07   \n",
      "Albania                   3.077378e+06  3.089778e+06  3.106701e+06   \n",
      "Algeria                   3.098221e+07  3.144185e+07  3.191346e+07   \n",
      "American Samoa            5.863300e+04  5.968700e+04  6.077400e+04   \n",
      "Andorra                   6.639000e+04  6.904300e+04  7.220300e+04   \n",
      "Angola                    1.438824e+07  1.489047e+07  1.541994e+07   \n",
      "Antigua and Barbuda       7.916500e+04  8.050700e+04  8.171600e+04   \n",
      "Argentina                 3.730212e+07  3.765734e+07  3.800125e+07   \n",
      "Armenia                   3.065810e+06  3.061067e+06  3.060554e+06   \n",
      "Aruba                     9.236300e+04  9.459600e+04  9.687500e+04   \n",
      "Australia                 1.941300e+07  1.965140e+07  1.989540e+07   \n",
      "Austria                   8.043016e+06  8.083639e+06  8.117800e+06   \n",
      "Azerbaijan                8.111144e+06  8.171893e+06  8.234039e+06   \n",
      "Bahamas, The              3.016060e+05  3.058010e+05  3.102010e+05   \n",
      "Bahrain                   6.425100e+05  6.420700e+05  6.471640e+05   \n",
      "Bangladesh                1.319446e+08  1.342664e+08  1.365148e+08   \n",
      "Barbados                  2.681920e+05  2.688130e+05  2.693890e+05   \n",
      "Belarus                   9.970260e+06  9.925000e+06  9.873968e+06   \n",
      "Belgium                   1.028700e+07  1.033300e+07  1.037613e+07   \n",
      "Belize                    2.573000e+05  2.652000e+05  2.737000e+05   \n",
      "Benin                     6.721337e+06  6.937985e+06  7.164976e+06   \n",
      "Bermuda                   6.246000e+04  6.275000e+04  6.304000e+04   \n",
      "Bhutan                    5.880500e+05  6.060240e+05  6.244310e+05   \n",
      "Bolivia                   8.476709e+06  8.646659e+06  8.815911e+06   \n",
      "Bosnia and Herzegovina    3.748370e+06  3.775883e+06  3.782717e+06   \n",
      "Botswana                  1.784449e+06  1.808103e+06  1.830127e+06   \n",
      "Brazil                    1.768771e+08  1.792892e+08  1.816331e+08   \n",
      "Brunei Darussalam         3.343480e+05  3.415850e+05  3.487710e+05   \n",
      "Bulgaria                  7.910000e+06  7.869000e+06  7.823000e+06   \n",
      "Burkina Faso              1.264847e+07  1.301544e+07  1.339560e+07   \n",
      "...                                ...           ...           ...   \n",
      "Swaziland                 1.075083e+06  1.082777e+06  1.088724e+06   \n",
      "Sweden                    8.894000e+06  8.924000e+06  8.956000e+06   \n",
      "Switzerland               7.229808e+06  7.284695e+06  7.338957e+06   \n",
      "Syrian Arab Republic      1.645493e+07  1.696292e+07  1.749010e+07   \n",
      "Tajikistan                6.232587e+06  6.285809e+06  6.336724e+06   \n",
      "Tanzania                  3.491707e+07  3.583249e+07  3.678828e+07   \n",
      "Thailand                  6.389888e+07  6.464293e+07  6.537028e+07   \n",
      "Timor-Leste               8.525220e+05  8.880990e+05  9.313240e+05   \n",
      "Togo                      4.926142e+06  5.050919e+06  5.170252e+06   \n",
      "Tonga                     9.847600e+04  9.905300e+04  9.965900e+04   \n",
      "Trinidad and Tobago       1.296962e+06  1.301576e+06  1.306065e+06   \n",
      "Tunisia                   9.673600e+06  9.781900e+06  9.839800e+06   \n",
      "Turkey                    6.454491e+07  6.544616e+07  6.633943e+07   \n",
      "Turkmenistan              4.551737e+06  4.600093e+06  4.647912e+06   \n",
      "Turks and Caicos Islands  2.072800e+04  2.304400e+04  2.562500e+04   \n",
      "Tuvalu                    9.471000e+03  9.530000e+03  9.590000e+03   \n",
      "Uganda                    2.498418e+07  2.579440e+07  2.664163e+07   \n",
      "Ukraine                   4.868386e+07  4.820250e+07  4.781295e+07   \n",
      "United Arab Emirates      3.149440e+06  3.254691e+06  3.400959e+06   \n",
      "United Kingdom            5.910796e+07  5.932581e+07  5.956626e+07   \n",
      "United States             2.850820e+08  2.878040e+08  2.903260e+08   \n",
      "Uruguay                   3.308356e+06  3.308527e+06  3.303540e+06   \n",
      "Uzbekistan                2.496700e+07  2.527180e+07  2.556770e+07   \n",
      "Vanuatu                   1.895440e+05  1.945550e+05  1.999680e+05   \n",
      "Venezuela, RB             2.476500e+07  2.522000e+07  2.567400e+07   \n",
      "Vietnam                   7.862100e+07  7.953870e+07  8.046840e+07   \n",
      "Virgin Islands (U.S.)     1.087470e+05  1.089230e+05  1.091480e+05   \n",
      "Yemen, Rep.               1.826601e+07  1.883182e+07  1.941971e+07   \n",
      "Zambia                    1.044982e+07  1.069347e+07  1.093826e+07   \n",
      "Zimbabwe                  1.257502e+07  1.260779e+07  1.261296e+07   \n",
      "\n",
      "                                  2004          2005          2006  \\\n",
      "Country Name                                                         \n",
      "Afghanistan               2.906865e+07  2.990496e+07  3.075166e+07   \n",
      "Albania                   3.124861e+06  3.141800e+06  3.156607e+06   \n",
      "Algeria                   3.239605e+07  3.288845e+07  3.339195e+07   \n",
      "American Samoa            6.187100e+04  6.296200e+04  6.404500e+04   \n",
      "Andorra                   7.529200e+04  7.788800e+04  7.987400e+04   \n",
      "Angola                    1.595746e+07  1.648902e+07  1.701037e+07   \n",
      "Antigua and Barbuda       8.283800e+04  8.391600e+04  8.495200e+04   \n",
      "Argentina                 3.834078e+07  3.868117e+07  3.902385e+07   \n",
      "Armenia                   3.062612e+06  3.065954e+06  3.069844e+06   \n",
      "Aruba                     9.904600e+04  1.009960e+05  1.027110e+05   \n",
      "Australia                 2.012740e+07  2.039480e+07  2.069790e+07   \n",
      "Austria                   8.174700e+06  8.233300e+06  8.282424e+06   \n",
      "Azerbaijan                8.306400e+06  8.391850e+06  8.484550e+06   \n",
      "Bahamas, The              3.147390e+05  3.193580e+05  3.240660e+05   \n",
      "Bahrain                   6.717600e+05  7.248070e+05  8.114100e+05   \n",
      "Bangladesh                1.386334e+08  1.405879e+08  1.423535e+08   \n",
      "Barbados                  2.699470e+05  2.705030e+05  2.710620e+05   \n",
      "Belarus                   9.824469e+06  9.775591e+06  9.732500e+06   \n",
      "Belgium                   1.042114e+07  1.047862e+07  1.054796e+07   \n",
      "Belize                    2.826000e+05  2.918000e+05  3.013860e+05   \n",
      "Benin                     7.397985e+06  7.633757e+06  7.871707e+06   \n",
      "Bermuda                   6.332000e+04  6.357000e+04  6.380000e+04   \n",
      "Bhutan                    6.424000e+05  6.592930e+05  6.746810e+05   \n",
      "Bolivia                   8.982917e+06  9.146655e+06  9.306660e+06   \n",
      "Bosnia and Herzegovina    3.781358e+06  3.781001e+06  3.781588e+06   \n",
      "Botswana                  1.852243e+06  1.875673e+06  1.900905e+06   \n",
      "Brazil                    1.838734e+08  1.859870e+08  1.879582e+08   \n",
      "Brunei Darussalam         3.559430e+05  3.631230e+05  3.703170e+05   \n",
      "Bulgaria                  7.781161e+06  7.739900e+06  7.699020e+06   \n",
      "Burkina Faso              1.378974e+07  1.419846e+07  1.462220e+07   \n",
      "...                                ...           ...           ...   \n",
      "Swaziland                 1.095487e+06  1.104909e+06  1.117604e+06   \n",
      "Sweden                    8.991994e+06  9.024040e+06  9.080505e+06   \n",
      "Switzerland               7.389581e+06  7.437115e+06  7.483934e+06   \n",
      "Syrian Arab Republic      1.800480e+07  1.848412e+07  1.886094e+07   \n",
      "Tajikistan                6.391120e+06  6.453240e+06  6.524634e+06   \n",
      "Tanzania                  3.778695e+07  3.883102e+07  3.992361e+07   \n",
      "Thailand                  6.606038e+07  6.669848e+07  6.727638e+07   \n",
      "Timor-Leste               9.740240e+05  1.010367e+06  1.038572e+06   \n",
      "Togo                      5.288273e+06  5.408044e+06  5.529908e+06   \n",
      "Tonga                     1.002860e+05  1.009260e+05  1.015840e+05   \n",
      "Trinidad and Tobago       1.310622e+06  1.315386e+06  1.320418e+06   \n",
      "Tunisia                   9.932400e+06  1.002900e+07  1.012790e+07   \n",
      "Turkey                    6.723593e+07  6.814319e+07  6.906354e+07   \n",
      "Turkmenistan              4.696771e+06  4.747839e+06  4.801847e+06   \n",
      "Turks and Caicos Islands  2.819100e+04  3.053100e+04  3.259000e+04   \n",
      "Tuvalu                    9.646000e+03  9.694000e+03  9.732000e+03   \n",
      "Uganda                    2.752163e+07  2.843120e+07  2.937025e+07   \n",
      "Ukraine                   4.745160e+07  4.710515e+07  4.678775e+07   \n",
      "United Arab Emirates      3.658042e+06  4.069349e+06  4.662728e+06   \n",
      "United Kingdom            5.986787e+07  6.022431e+07  6.059563e+07   \n",
      "United States             2.930460e+08  2.957530e+08  2.985930e+08   \n",
      "Uruguay                   3.301732e+06  3.305723e+06  3.314466e+06   \n",
      "Uzbekistan                2.586439e+07  2.616737e+07  2.648580e+07   \n",
      "Vanuatu                   2.055610e+05  2.111700e+05  2.167600e+05   \n",
      "Venezuela, RB             2.612700e+07  2.657700e+07  2.703100e+07   \n",
      "Vietnam                   8.143770e+07  8.239350e+07  8.331300e+07   \n",
      "Virgin Islands (U.S.)     1.093540e+05  1.096000e+05  1.097640e+05   \n",
      "Yemen, Rep.               2.002612e+07  2.064864e+07  2.128807e+07   \n",
      "Zambia                    1.119242e+07  1.146236e+07  1.175010e+07   \n",
      "Zimbabwe                  1.259788e+07  1.257069e+07  1.252966e+07   \n",
      "\n",
      "                                  2007          2008          2009  \\\n",
      "Country Name                                                         \n",
      "Afghanistan               3.162233e+07  3.251766e+07  3.343833e+07   \n",
      "Albania                   3.169665e+06  3.181397e+06  3.192723e+06   \n",
      "Algeria                   3.390660e+07  3.442803e+07  3.495017e+07   \n",
      "American Samoa            6.513000e+04  6.621700e+04  6.731200e+04   \n",
      "Andorra                   8.139000e+04  8.257700e+04  8.367700e+04   \n",
      "Angola                    1.752537e+07  1.803796e+07  1.855512e+07   \n",
      "Antigua and Barbuda       8.593500e+04  8.688100e+04  8.780200e+04   \n",
      "Argentina                 3.936807e+07  3.971430e+07  4.006247e+07   \n",
      "Armenia                   3.074181e+06  3.079087e+06  3.084979e+06   \n",
      "Aruba                     1.042250e+05  1.055260e+05  1.066120e+05   \n",
      "Australia                 2.107250e+07  2.149850e+07  2.195170e+07   \n",
      "Austria                   8.300788e+06  8.336926e+06  8.365275e+06   \n",
      "Azerbaijan                8.581300e+06  8.763400e+06  8.947150e+06   \n",
      "Bahamas, The              3.288610e+05  3.336610e+05  3.383580e+05   \n",
      "Bahrain                   9.257330e+05  1.052359e+06  1.169578e+06   \n",
      "Bangladesh                1.439568e+08  1.454783e+08  1.470301e+08   \n",
      "Barbados                  2.716180e+05  2.721800e+05  2.727500e+05   \n",
      "Belarus                   9.702000e+06  9.602000e+06  9.507000e+06   \n",
      "Belgium                   1.062570e+07  1.070997e+07  1.079649e+07   \n",
      "Belize                    3.115000e+05  3.221000e+05  3.332000e+05   \n",
      "Benin                     8.112573e+06  8.355980e+06  8.601771e+06   \n",
      "Bermuda                   6.400000e+04  6.420000e+04  6.440000e+04   \n",
      "Bhutan                    6.885810e+05  7.013630e+05  7.136650e+05   \n",
      "Bolivia                   9.463497e+06  9.618466e+06  9.773441e+06   \n",
      "Bosnia and Herzegovina    3.779034e+06  3.774164e+06  3.767683e+06   \n",
      "Botswana                  1.927540e+06  1.954822e+06  1.981576e+06   \n",
      "Brazil                    1.897981e+08  1.915432e+08  1.932466e+08   \n",
      "Brunei Darussalam         3.775130e+05  3.846950e+05  3.918370e+05   \n",
      "Bulgaria                  7.659764e+06  7.623395e+06  7.585131e+06   \n",
      "Burkina Faso              1.506113e+07  1.551526e+07  1.598448e+07   \n",
      "...                                ...           ...           ...   \n",
      "Swaziland                 1.133007e+06  1.150344e+06  1.168345e+06   \n",
      "Sweden                    9.148092e+06  9.219637e+06  9.298515e+06   \n",
      "Switzerland               7.551117e+06  7.647675e+06  7.743831e+06   \n",
      "Syrian Arab Republic      1.924544e+07  1.963778e+07  2.003811e+07   \n",
      "Tajikistan                6.604426e+06  6.691416e+06  6.783390e+06   \n",
      "Tanzania                  4.106818e+07  4.226767e+07  4.352474e+07   \n",
      "Thailand                  6.779645e+07  6.826798e+07  6.870612e+07   \n",
      "Timor-Leste               1.060770e+06  1.079749e+06  1.099887e+06   \n",
      "Togo                      5.652811e+06  5.776837e+06  5.901859e+06   \n",
      "Tonga                     1.022540e+05  1.029100e+05  1.035190e+05   \n",
      "Trinidad and Tobago       1.325672e+06  1.331040e+06  1.336349e+06   \n",
      "Tunisia                   1.022510e+07  1.032890e+07  1.043960e+07   \n",
      "Turkey                    6.999275e+07  7.092373e+07  7.184621e+07   \n",
      "Turkmenistan              4.858843e+06  4.918396e+06  4.979672e+06   \n",
      "Turks and Caicos Islands  3.440400e+04  3.596000e+04  3.727100e+04   \n",
      "Tuvalu                    9.762000e+03  9.786000e+03  9.806000e+03   \n",
      "Uganda                    3.033990e+07  3.133939e+07  3.236791e+07   \n",
      "Ukraine                   4.650935e+07  4.625820e+07  4.605330e+07   \n",
      "United Arab Emirates      5.405541e+06  6.206623e+06  6.938815e+06   \n",
      "United Kingdom            6.098665e+07  6.139352e+07  6.180157e+07   \n",
      "United States             3.015800e+08  3.043750e+08  3.070070e+08   \n",
      "Uruguay                   3.323906e+06  3.334052e+06  3.344938e+06   \n",
      "Uzbekistan                2.686780e+07  2.731370e+07  2.776710e+07   \n",
      "Vanuatu                   2.223770e+05  2.280410e+05  2.337900e+05   \n",
      "Venezuela, RB             2.748300e+07  2.793500e+07  2.838400e+07   \n",
      "Vietnam                   8.422110e+07  8.512230e+07  8.602460e+07   \n",
      "Virgin Islands (U.S.)     1.098210e+05  1.098400e+05  1.098250e+05   \n",
      "Yemen, Rep.               2.194699e+07  2.262660e+07  2.332821e+07   \n",
      "Zambia                    1.205538e+07  1.237961e+07  1.272375e+07   \n",
      "Zimbabwe                  1.248124e+07  1.245154e+07  1.247399e+07   \n",
      "\n",
      "                                  2010  \n",
      "Country Name                            \n",
      "Afghanistan               3.438507e+07  \n",
      "Albania                   3.204284e+06  \n",
      "Algeria                   3.546821e+07  \n",
      "American Samoa            6.842000e+04  \n",
      "Andorra                   8.486400e+04  \n",
      "Angola                    1.908191e+07  \n",
      "Antigua and Barbuda       8.871000e+04  \n",
      "Argentina                 4.041238e+07  \n",
      "Armenia                   3.092072e+06  \n",
      "Aruba                     1.074880e+05  \n",
      "Australia                 2.232880e+07  \n",
      "Austria                   8.384745e+06  \n",
      "Azerbaijan                9.047932e+06  \n",
      "Bahamas, The              3.428770e+05  \n",
      "Bahrain                   1.261835e+06  \n",
      "Bangladesh                1.486921e+08  \n",
      "Barbados                  2.733310e+05  \n",
      "Belarus                   9.490500e+06  \n",
      "Belgium                   1.087916e+07  \n",
      "Belize                    3.447000e+05  \n",
      "Benin                     8.849892e+06  \n",
      "Bermuda                   6.460000e+04  \n",
      "Bhutan                    7.259400e+05  \n",
      "Bolivia                   9.929849e+06  \n",
      "Bosnia and Herzegovina    3.760149e+06  \n",
      "Botswana                  2.006945e+06  \n",
      "Brazil                    1.949465e+08  \n",
      "Brunei Darussalam         3.989200e+05  \n",
      "Bulgaria                  7.543325e+06  \n",
      "Burkina Faso              1.646871e+07  \n",
      "...                                ...  \n",
      "Swaziland                 1.186056e+06  \n",
      "Sweden                    9.379116e+06  \n",
      "Switzerland               7.825243e+06  \n",
      "Syrian Arab Republic      2.044661e+07  \n",
      "Tajikistan                6.878637e+06  \n",
      "Tanzania                  4.484123e+07  \n",
      "Thailand                  6.912223e+07  \n",
      "Timor-Leste               1.124355e+06  \n",
      "Togo                      6.027798e+06  \n",
      "Tonga                     1.040580e+05  \n",
      "Trinidad and Tobago       1.341465e+06  \n",
      "Tunisia                   1.054910e+07  \n",
      "Turkey                    7.275232e+07  \n",
      "Turkmenistan              5.041995e+06  \n",
      "Turks and Caicos Islands  3.835400e+04  \n",
      "Tuvalu                    9.827000e+03  \n",
      "Uganda                    3.342468e+07  \n",
      "Ukraine                   4.587070e+07  \n",
      "United Arab Emirates      7.511690e+06  \n",
      "United Kingdom            6.221876e+07  \n",
      "United States             3.090508e+08  \n",
      "Uruguay                   3.356584e+06  \n",
      "Uzbekistan                2.816036e+07  \n",
      "Vanuatu                   2.396510e+05  \n",
      "Venezuela, RB             2.883400e+07  \n",
      "Vietnam                   8.693646e+07  \n",
      "Virgin Islands (U.S.)     1.097750e+05  \n",
      "Yemen, Rep.               2.405251e+07  \n",
      "Zambia                    1.292641e+07  \n",
      "Zimbabwe                  1.257145e+07  \n",
      "\n",
      "[211 rows x 52 columns]\n"
     ]
    }
   ],
   "source": [
    "print(populations)"
   ]
  },
  {
   "cell_type": "markdown",
   "metadata": {},
   "source": [
    "# Dictionaries"
   ]
  },
  {
   "cell_type": "code",
   "execution_count": 104,
   "metadata": {
    "collapsed": false
   },
   "outputs": [
    {
     "data": {
      "text/plain": [
       "['Maciej',\n",
       " 'Chris',\n",
       " 'Paulus',\n",
       " 'Mark',\n",
       " 'Mick',\n",
       " 'Nandun',\n",
       " 'Ruhi',\n",
       " 'Atikur',\n",
       " 'Say',\n",
       " 'Chris',\n",
       " 'Niru',\n",
       " 'Yong Bing']"
      ]
     },
     "execution_count": 104,
     "metadata": {},
     "output_type": "execute_result"
    }
   ],
   "source": [
    "namelist"
   ]
  },
  {
   "cell_type": "code",
   "execution_count": 99,
   "metadata": {
    "collapsed": true
   },
   "outputs": [],
   "source": [
    "heightlist=[175,190,170,180,183,178,175,165,172,182,175,180]"
   ]
  },
  {
   "cell_type": "code",
   "execution_count": 105,
   "metadata": {
    "collapsed": false
   },
   "outputs": [
    {
     "data": {
      "text/plain": [
       "True"
      ]
     },
     "execution_count": 105,
     "metadata": {},
     "output_type": "execute_result"
    }
   ],
   "source": [
    "len(namelist) == len(heightlist)"
   ]
  },
  {
   "cell_type": "code",
   "execution_count": 106,
   "metadata": {
    "collapsed": true
   },
   "outputs": [],
   "source": [
    "heights={'Maciej':175,\n",
    " 'Chris Watkins': 190,\n",
    " 'Paulus': 170,\n",
    " 'Chris Dunn': 182}"
   ]
  },
  {
   "cell_type": "code",
   "execution_count": 107,
   "metadata": {
    "collapsed": false
   },
   "outputs": [
    {
     "data": {
      "text/plain": [
       "{'Chris Dunn': 182, 'Chris Watkins': 190, 'Maciej': 175, 'Paulus': 170}"
      ]
     },
     "execution_count": 107,
     "metadata": {},
     "output_type": "execute_result"
    }
   ],
   "source": [
    "heights"
   ]
  },
  {
   "cell_type": "code",
   "execution_count": 108,
   "metadata": {
    "collapsed": true
   },
   "outputs": [],
   "source": [
    "namelist[1] = 'Chris Watkins'\n",
    "namelist[3] = 'Chris Dunn'"
   ]
  },
  {
   "cell_type": "code",
   "execution_count": 109,
   "metadata": {
    "collapsed": false
   },
   "outputs": [
    {
     "data": {
      "text/plain": [
       "[('a', 'd'), ('b', 'e'), ('c', 'f')]"
      ]
     },
     "execution_count": 109,
     "metadata": {},
     "output_type": "execute_result"
    }
   ],
   "source": [
    "list(zip('abc', 'def'))"
   ]
  },
  {
   "cell_type": "code",
   "execution_count": 110,
   "metadata": {
    "collapsed": true
   },
   "outputs": [],
   "source": [
    "heights = dict( zip(namelist, heightlist) )"
   ]
  },
  {
   "cell_type": "code",
   "execution_count": 111,
   "metadata": {
    "collapsed": false
   },
   "outputs": [
    {
     "data": {
      "text/plain": [
       "{'Atikur': 165,\n",
       " 'Chris': 182,\n",
       " 'Chris Dunn': 180,\n",
       " 'Chris Watkins': 190,\n",
       " 'Maciej': 175,\n",
       " 'Mick': 183,\n",
       " 'Nandun': 178,\n",
       " 'Niru': 175,\n",
       " 'Paulus': 170,\n",
       " 'Ruhi': 175,\n",
       " 'Say': 172,\n",
       " 'Yong Bing': 180}"
      ]
     },
     "execution_count": 111,
     "metadata": {},
     "output_type": "execute_result"
    }
   ],
   "source": [
    "heights"
   ]
  },
  {
   "cell_type": "code",
   "execution_count": 114,
   "metadata": {
    "collapsed": false
   },
   "outputs": [
    {
     "data": {
      "text/plain": [
       "183"
      ]
     },
     "execution_count": 114,
     "metadata": {},
     "output_type": "execute_result"
    }
   ],
   "source": [
    "heights['Mick']"
   ]
  },
  {
   "cell_type": "code",
   "execution_count": 112,
   "metadata": {
    "collapsed": true
   },
   "outputs": [],
   "source": [
    "heightlist=[175,190,170,180,183,178,175,165,172,182,175,180]"
   ]
  },
  {
   "cell_type": "code",
   "execution_count": 115,
   "metadata": {
    "collapsed": false
   },
   "outputs": [
    {
     "data": {
      "text/plain": [
       "False"
      ]
     },
     "execution_count": 115,
     "metadata": {},
     "output_type": "execute_result"
    }
   ],
   "source": [
    "'Ed' in heights"
   ]
  },
  {
   "cell_type": "code",
   "execution_count": 113,
   "metadata": {
    "collapsed": true
   },
   "outputs": [],
   "source": [
    "names = '''\n",
    "Maciej\n",
    "Chris\n",
    "Paulus\n",
    "Mark\n",
    "Mick\n",
    "Nandun\n",
    "Ruhi\n",
    "Atikur\n",
    "Say\n",
    "Chris\n",
    "Niru\n",
    "Yong Bing\n",
    "'''\n",
    "namelist = names.strip().split('\\n')"
   ]
  },
  {
   "cell_type": "code",
   "execution_count": 117,
   "metadata": {
    "collapsed": true
   },
   "outputs": [],
   "source": [
    "heights={'Maciej':175,\n",
    " 'Chris Watkins': 190,\n",
    " 'Paulus': 170,\n",
    " 'Chris Dunn': 182}\n",
    "namelist[1] = 'Chris Watkins'\n",
    "namelist[3] = 'Chris Dunn'"
   ]
  },
  {
   "cell_type": "code",
   "execution_count": 119,
   "metadata": {
    "collapsed": false
   },
   "outputs": [
    {
     "data": {
      "text/plain": [
       "{'Atikur': 165,\n",
       " 'Chris': 182,\n",
       " 'Chris Dunn': 180,\n",
       " 'Chris Watkins': 190,\n",
       " 'Maciej': 175,\n",
       " 'Mick': 183,\n",
       " 'Nandun': 178,\n",
       " 'Niru': 175,\n",
       " 'Paulus': 170,\n",
       " 'Ruhi': 175,\n",
       " 'Say': 172,\n",
       " 'Yong Bing': 180}"
      ]
     },
     "execution_count": 119,
     "metadata": {},
     "output_type": "execute_result"
    }
   ],
   "source": [
    "heights = dict( zip(namelist, heightlist) )\n",
    "heights"
   ]
  },
  {
   "cell_type": "code",
   "execution_count": 120,
   "metadata": {
    "collapsed": false
   },
   "outputs": [
    {
     "data": {
      "text/plain": [
       "dict_values([175, 175, 190, 178, 180, 180, 183, 172, 182, 165, 170, 175])"
      ]
     },
     "execution_count": 120,
     "metadata": {},
     "output_type": "execute_result"
    }
   ],
   "source": [
    "heights.values()"
   ]
  },
  {
   "cell_type": "code",
   "execution_count": 121,
   "metadata": {
    "collapsed": false
   },
   "outputs": [
    {
     "data": {
      "text/plain": [
       "dict_items([('Maciej', 175), ('Niru', 175), ('Chris Watkins', 190), ('Nandun', 178), ('Yong Bing', 180), ('Chris Dunn', 180), ('Mick', 183), ('Say', 172), ('Chris', 182), ('Atikur', 165), ('Paulus', 170), ('Ruhi', 175)])"
      ]
     },
     "execution_count": 121,
     "metadata": {},
     "output_type": "execute_result"
    }
   ],
   "source": [
    "heights.items()"
   ]
  },
  {
   "cell_type": "code",
   "execution_count": 122,
   "metadata": {
    "collapsed": false
   },
   "outputs": [
    {
     "data": {
      "text/plain": [
       "177.08333333333334"
      ]
     },
     "execution_count": 122,
     "metadata": {},
     "output_type": "execute_result"
    }
   ],
   "source": [
    "sum(heights.values()) / len(heights)"
   ]
  },
  {
   "cell_type": "code",
   "execution_count": 124,
   "metadata": {
    "collapsed": false
   },
   "outputs": [
    {
     "data": {
      "text/plain": [
       "177.08333333333334"
      ]
     },
     "execution_count": 124,
     "metadata": {},
     "output_type": "execute_result"
    }
   ],
   "source": [
    "from statistics import mean\n",
    "mean(heights.values())"
   ]
  },
  {
   "cell_type": "markdown",
   "metadata": {},
   "source": [
    "# word count: Alice"
   ]
  },
  {
   "cell_type": "code",
   "execution_count": 129,
   "metadata": {
    "collapsed": false
   },
   "outputs": [
    {
     "data": {
      "text/plain": [
       "str"
      ]
     },
     "execution_count": 129,
     "metadata": {},
     "output_type": "execute_result"
    }
   ],
   "source": [
    "with open('G:/Python Charmers/Data/alice_in_wonderland.txt') as f3:\n",
    "    alice = f3.read()\n",
    "type(alice)"
   ]
  },
  {
   "cell_type": "code",
   "execution_count": 131,
   "metadata": {
    "collapsed": false
   },
   "outputs": [],
   "source": [
    "with open('G:/Python Charmers/Data/alice_in_wonderland.txt') as f3:\n",
    "    alice = f3.read()\n",
    "type(alice)\n",
    "alice[:100]\n",
    "word = alice.split()"
   ]
  },
  {
   "cell_type": "code",
   "execution_count": 133,
   "metadata": {
    "collapsed": false
   },
   "outputs": [],
   "source": [
    "words= alice.upper().split()\n",
    "counts = {}\n",
    "for word in words:\n",
    "    if word in counts.keys():\n",
    "        counts[word] = counts[word] + 1\n",
    "    else:\n",
    "        counts[word] = 1\n",
    "    "
   ]
  },
  {
   "cell_type": "code",
   "execution_count": 135,
   "metadata": {
    "collapsed": false
   },
   "outputs": [
    {
     "data": {
      "text/plain": [
       "30"
      ]
     },
     "execution_count": 135,
     "metadata": {},
     "output_type": "execute_result"
    }
   ],
   "source": [
    "counts['RABBIT']"
   ]
  },
  {
   "cell_type": "code",
   "execution_count": 136,
   "metadata": {
    "collapsed": false
   },
   "outputs": [
    {
     "data": {
      "text/plain": [
       "30"
      ]
     },
     "execution_count": 136,
     "metadata": {},
     "output_type": "execute_result"
    }
   ],
   "source": [
    "with open('G:/Python Charmers/Data/alice_in_wonderland.txt') as f3:\n",
    "    alice = f3.read()\n",
    "    \n",
    "words= alice.upper().split()\n",
    "counts = {}\n",
    "for word in words:\n",
    "    if word in counts.keys():\n",
    "        counts[word] = counts[word] + 1\n",
    "    else:\n",
    "        counts[word] = 1\n",
    "counts['RABBIT']"
   ]
  },
  {
   "cell_type": "code",
   "execution_count": 140,
   "metadata": {
    "collapsed": false
   },
   "outputs": [],
   "source": [
    "top20 = sorted(counts, key=counts.get, reverse=True)[:20]"
   ]
  },
  {
   "cell_type": "code",
   "execution_count": 141,
   "metadata": {
    "collapsed": false
   },
   "outputs": [
    {
     "name": "stdout",
     "output_type": "stream",
     "text": [
      "THE : 1604\n",
      "AND : 766\n",
      "TO : 706\n",
      "A : 614\n",
      "SHE : 518\n",
      "OF : 493\n",
      "SAID : 421\n",
      "IT : 362\n",
      "IN : 351\n",
      "WAS : 333\n",
      "YOU : 264\n",
      "I : 260\n",
      "AS : 249\n",
      "THAT : 222\n",
      "ALICE : 221\n",
      "HER : 208\n",
      "AT : 205\n",
      "HAD : 176\n",
      "WITH : 169\n",
      "ALL : 155\n"
     ]
    }
   ],
   "source": [
    "for word in top20:\n",
    "    print(word, ':', counts[word])"
   ]
  },
  {
   "cell_type": "code",
   "execution_count": 142,
   "metadata": {
    "collapsed": false
   },
   "outputs": [
    {
     "name": "stdout",
     "output_type": "stream",
     "text": [
      "THE : 1604\n",
      "AND : 766\n",
      "TO : 706\n",
      "A : 614\n",
      "SHE : 518\n",
      "OF : 493\n",
      "SAID : 421\n",
      "IT : 362\n",
      "IN : 351\n",
      "WAS : 333\n",
      "YOU : 264\n",
      "I : 260\n",
      "AS : 249\n",
      "THAT : 222\n",
      "ALICE : 221\n",
      "HER : 208\n",
      "AT : 205\n",
      "HAD : 176\n",
      "WITH : 169\n",
      "ALL : 155\n"
     ]
    }
   ],
   "source": [
    "with open('G:/Python Charmers/Data/alice_in_wonderland.txt') as f3:\n",
    "    alice = f3.read()\n",
    "    \n",
    "words= alice.upper().split()\n",
    "counts = {}\n",
    "for word in words:\n",
    "    if word in counts.keys():\n",
    "        counts[word] = counts[word] + 1\n",
    "    else:\n",
    "        counts[word] = 1\n",
    "\n",
    "top20 = sorted(counts, key=counts.get, reverse=True)[:20]\n",
    "for word in top20:\n",
    "    print(word, ':', counts[word])"
   ]
  },
  {
   "cell_type": "code",
   "execution_count": 145,
   "metadata": {
    "collapsed": false
   },
   "outputs": [
    {
     "data": {
      "text/plain": [
       "[('THE', 1604),\n",
       " ('AND', 766),\n",
       " ('TO', 706),\n",
       " ('A', 614),\n",
       " ('SHE', 518),\n",
       " ('OF', 493),\n",
       " ('SAID', 421),\n",
       " ('IT', 362),\n",
       " ('IN', 351),\n",
       " ('WAS', 333),\n",
       " ('YOU', 264),\n",
       " ('I', 260),\n",
       " ('AS', 249),\n",
       " ('THAT', 222),\n",
       " ('ALICE', 221),\n",
       " ('HER', 208),\n",
       " ('AT', 205),\n",
       " ('HAD', 176),\n",
       " ('WITH', 169),\n",
       " ('ALL', 155)]"
      ]
     },
     "execution_count": 145,
     "metadata": {},
     "output_type": "execute_result"
    }
   ],
   "source": [
    "from collections import Counter \n",
    "counts = Counter(words)\n",
    "counts.most_common(20)"
   ]
  },
  {
   "cell_type": "code",
   "execution_count": 146,
   "metadata": {
    "collapsed": false
   },
   "outputs": [
    {
     "data": {
      "text/plain": [
       "[('THE', 1604),\n",
       " ('AND', 766),\n",
       " ('TO', 706),\n",
       " ('A', 614),\n",
       " ('SHE', 518),\n",
       " ('OF', 493),\n",
       " ('SAID', 421),\n",
       " ('IT', 362),\n",
       " ('IN', 351),\n",
       " ('WAS', 333),\n",
       " ('YOU', 264),\n",
       " ('I', 260),\n",
       " ('AS', 249),\n",
       " ('THAT', 222),\n",
       " ('ALICE', 221),\n",
       " ('HER', 208),\n",
       " ('AT', 205),\n",
       " ('HAD', 176),\n",
       " ('WITH', 169),\n",
       " ('ALL', 155)]"
      ]
     },
     "execution_count": 146,
     "metadata": {},
     "output_type": "execute_result"
    }
   ],
   "source": [
    "with open('G:/Python Charmers/Data/alice_in_wonderland.txt') as f3:\n",
    "    alice = f3.read()\n",
    "    \n",
    "words= alice.upper().split()\n",
    "\n",
    "from collections import Counter \n",
    "counts = Counter(words)\n",
    "counts.most_common(20)"
   ]
  },
  {
   "cell_type": "code",
   "execution_count": 159,
   "metadata": {
    "collapsed": false
   },
   "outputs": [
    {
     "data": {
      "text/plain": [
       "[\"ALICE'S\",\n",
       " 'ADVENTURES',\n",
       " 'IN',\n",
       " 'WONDERLAND',\n",
       " 'LEWIS',\n",
       " 'CARROLL',\n",
       " 'CHAPTER',\n",
       " 'I.',\n",
       " 'DOWN',\n",
       " 'THE',\n",
       " 'RABBIT-HOLE',\n",
       " 'ALICE',\n",
       " 'WAS',\n",
       " 'BEGINNING',\n",
       " 'TO',\n",
       " 'GET',\n",
       " 'VERY',\n",
       " 'TIRED',\n",
       " 'OF',\n",
       " 'SITTING',\n",
       " 'BY',\n",
       " 'HER',\n",
       " 'SISTER',\n",
       " 'ON',\n",
       " 'THE',\n",
       " 'BANK,',\n",
       " 'AND',\n",
       " 'OF',\n",
       " 'HAVING',\n",
       " 'NOTHING',\n",
       " 'TO',\n",
       " 'DO:',\n",
       " 'ONCE',\n",
       " 'OR',\n",
       " 'TWICE',\n",
       " 'SHE',\n",
       " 'HAD',\n",
       " 'PEEPED',\n",
       " 'INTO',\n",
       " 'THE',\n",
       " 'BOOK',\n",
       " 'HER',\n",
       " 'SISTER',\n",
       " 'WAS',\n",
       " 'READING,',\n",
       " 'BUT',\n",
       " 'IT',\n",
       " 'HAD',\n",
       " 'NO',\n",
       " 'PICTURES',\n",
       " 'OR',\n",
       " 'CONVERSATIONS',\n",
       " 'IN',\n",
       " 'IT,',\n",
       " \"'AND\",\n",
       " 'WHAT',\n",
       " 'IS',\n",
       " 'THE',\n",
       " 'USE',\n",
       " 'OF',\n",
       " 'A',\n",
       " \"BOOK,'\",\n",
       " 'THOUGHT',\n",
       " 'ALICE',\n",
       " \"'WITHOUT\",\n",
       " 'PICTURES',\n",
       " 'OR',\n",
       " \"CONVERSATION?'\",\n",
       " 'SO',\n",
       " 'SHE',\n",
       " 'WAS',\n",
       " 'CONSIDERING',\n",
       " 'IN',\n",
       " 'HER',\n",
       " 'OWN',\n",
       " 'MIND',\n",
       " '(AS',\n",
       " 'WELL',\n",
       " 'AS',\n",
       " 'SHE',\n",
       " 'COULD,',\n",
       " 'FOR',\n",
       " 'THE',\n",
       " 'HOT',\n",
       " 'DAY',\n",
       " 'MADE',\n",
       " 'HER',\n",
       " 'FEEL',\n",
       " 'VERY',\n",
       " 'SLEEPY',\n",
       " 'AND',\n",
       " 'STUPID),',\n",
       " 'WHETHER',\n",
       " 'THE',\n",
       " 'PLEASURE',\n",
       " 'OF',\n",
       " 'MAKING',\n",
       " 'A',\n",
       " 'DAISY-CHAIN',\n",
       " 'WOULD',\n",
       " 'BE',\n",
       " 'WORTH',\n",
       " 'THE',\n",
       " 'TROUBLE',\n",
       " 'OF',\n",
       " 'GETTING',\n",
       " 'UP',\n",
       " 'AND',\n",
       " 'PICKING',\n",
       " 'THE',\n",
       " 'DAISIES,',\n",
       " 'WHEN',\n",
       " 'SUDDENLY',\n",
       " 'A',\n",
       " 'WHITE',\n",
       " 'RABBIT',\n",
       " 'WITH',\n",
       " 'PINK',\n",
       " 'EYES',\n",
       " 'RAN',\n",
       " 'CLOSE',\n",
       " 'BY',\n",
       " 'HER.',\n",
       " 'THERE',\n",
       " 'WAS',\n",
       " 'NOTHING',\n",
       " 'SO',\n",
       " 'VERY',\n",
       " 'REMARKABLE',\n",
       " 'IN',\n",
       " 'THAT;',\n",
       " 'NOR',\n",
       " 'DID',\n",
       " 'ALICE',\n",
       " 'THINK',\n",
       " 'IT',\n",
       " 'SO',\n",
       " 'VERY',\n",
       " 'MUCH',\n",
       " 'OUT',\n",
       " 'OF',\n",
       " 'THE',\n",
       " 'WAY',\n",
       " 'TO',\n",
       " 'HEAR',\n",
       " 'THE',\n",
       " 'RABBIT',\n",
       " 'SAY',\n",
       " 'TO',\n",
       " 'ITSELF,',\n",
       " \"'OH\",\n",
       " 'DEAR!',\n",
       " 'OH',\n",
       " 'DEAR!',\n",
       " 'I',\n",
       " 'SHALL',\n",
       " 'BE',\n",
       " \"LATE!'\",\n",
       " '(WHEN',\n",
       " 'SHE',\n",
       " 'THOUGHT',\n",
       " 'IT',\n",
       " 'OVER',\n",
       " 'AFTERWARDS,',\n",
       " 'IT',\n",
       " 'OCCURRED',\n",
       " 'TO',\n",
       " 'HER',\n",
       " 'THAT',\n",
       " 'SHE',\n",
       " 'OUGHT',\n",
       " 'TO',\n",
       " 'HAVE',\n",
       " 'WONDERED',\n",
       " 'AT',\n",
       " 'THIS,',\n",
       " 'BUT',\n",
       " 'AT',\n",
       " 'THE',\n",
       " 'TIME',\n",
       " 'IT',\n",
       " 'ALL',\n",
       " 'SEEMED',\n",
       " 'QUITE',\n",
       " 'NATURAL);',\n",
       " 'BUT',\n",
       " 'WHEN',\n",
       " 'THE',\n",
       " 'RABBIT',\n",
       " 'ACTUALLY',\n",
       " 'TOOK',\n",
       " 'A',\n",
       " 'WATCH',\n",
       " 'OUT',\n",
       " 'OF',\n",
       " 'ITS',\n",
       " 'WAISTCOAT-POCKET,',\n",
       " 'AND',\n",
       " 'LOOKED',\n",
       " 'AT',\n",
       " 'IT,',\n",
       " 'AND',\n",
       " 'THEN',\n",
       " 'HURRIED',\n",
       " 'ON,',\n",
       " 'ALICE',\n",
       " 'STARTED',\n",
       " 'TO',\n",
       " 'HER',\n",
       " 'FEET,',\n",
       " 'FOR',\n",
       " 'IT',\n",
       " 'FLASHED',\n",
       " 'ACROSS',\n",
       " 'HER',\n",
       " 'MIND',\n",
       " 'THAT',\n",
       " 'SHE',\n",
       " 'HAD',\n",
       " 'NEVER',\n",
       " 'BEFORE',\n",
       " 'SEEN',\n",
       " 'A',\n",
       " 'RABBIT',\n",
       " 'WITH',\n",
       " 'EITHER',\n",
       " 'A',\n",
       " 'WAISTCOAT-POCKET,',\n",
       " 'OR',\n",
       " 'A',\n",
       " 'WATCH',\n",
       " 'TO',\n",
       " 'TAKE',\n",
       " 'OUT',\n",
       " 'OF',\n",
       " 'IT,',\n",
       " 'AND',\n",
       " 'BURNING',\n",
       " 'WITH',\n",
       " 'CURIOSITY,',\n",
       " 'SHE',\n",
       " 'RAN',\n",
       " 'ACROSS',\n",
       " 'THE',\n",
       " 'FIELD',\n",
       " 'AFTER',\n",
       " 'IT,',\n",
       " 'AND',\n",
       " 'FORTUNATELY',\n",
       " 'WAS',\n",
       " 'JUST',\n",
       " 'IN',\n",
       " 'TIME',\n",
       " 'TO',\n",
       " 'SEE',\n",
       " 'IT',\n",
       " 'POP',\n",
       " 'DOWN',\n",
       " 'A',\n",
       " 'LARGE',\n",
       " 'RABBIT-HOLE',\n",
       " 'UNDER',\n",
       " 'THE',\n",
       " 'HEDGE.',\n",
       " 'IN',\n",
       " 'ANOTHER',\n",
       " 'MOMENT',\n",
       " 'DOWN',\n",
       " 'WENT',\n",
       " 'ALICE',\n",
       " 'AFTER',\n",
       " 'IT,',\n",
       " 'NEVER',\n",
       " 'ONCE',\n",
       " 'CONSIDERING',\n",
       " 'HOW',\n",
       " 'IN',\n",
       " 'THE',\n",
       " 'WORLD',\n",
       " 'SHE',\n",
       " 'WAS',\n",
       " 'TO',\n",
       " 'GET',\n",
       " 'OUT',\n",
       " 'AGAIN.',\n",
       " 'THE',\n",
       " 'RABBIT-HOLE',\n",
       " 'WENT',\n",
       " 'STRAIGHT',\n",
       " 'ON',\n",
       " 'LIKE',\n",
       " 'A',\n",
       " 'TUNNEL',\n",
       " 'FOR',\n",
       " 'SOME',\n",
       " 'WAY,',\n",
       " 'AND',\n",
       " 'THEN',\n",
       " 'DIPPED',\n",
       " 'SUDDENLY',\n",
       " 'DOWN,',\n",
       " 'SO',\n",
       " 'SUDDENLY',\n",
       " 'THAT',\n",
       " 'ALICE',\n",
       " 'HAD',\n",
       " 'NOT',\n",
       " 'A',\n",
       " 'MOMENT',\n",
       " 'TO',\n",
       " 'THINK',\n",
       " 'ABOUT',\n",
       " 'STOPPING',\n",
       " 'HERSELF',\n",
       " 'BEFORE',\n",
       " 'SHE',\n",
       " 'FOUND',\n",
       " 'HERSELF',\n",
       " 'FALLING',\n",
       " 'DOWN',\n",
       " 'A',\n",
       " 'VERY',\n",
       " 'DEEP',\n",
       " 'WELL.',\n",
       " 'EITHER',\n",
       " 'THE',\n",
       " 'WELL',\n",
       " 'WAS',\n",
       " 'VERY',\n",
       " 'DEEP,',\n",
       " 'OR',\n",
       " 'SHE',\n",
       " 'FELL',\n",
       " 'VERY',\n",
       " 'SLOWLY,',\n",
       " 'FOR',\n",
       " 'SHE',\n",
       " 'HAD',\n",
       " 'PLENTY',\n",
       " 'OF',\n",
       " 'TIME',\n",
       " 'AS',\n",
       " 'SHE',\n",
       " 'WENT',\n",
       " 'DOWN',\n",
       " 'TO',\n",
       " 'LOOK',\n",
       " 'ABOUT',\n",
       " 'HER',\n",
       " 'AND',\n",
       " 'TO',\n",
       " 'WONDER',\n",
       " 'WHAT',\n",
       " 'WAS',\n",
       " 'GOING',\n",
       " 'TO',\n",
       " 'HAPPEN',\n",
       " 'NEXT.',\n",
       " 'FIRST,',\n",
       " 'SHE',\n",
       " 'TRIED',\n",
       " 'TO',\n",
       " 'LOOK',\n",
       " 'DOWN',\n",
       " 'AND',\n",
       " 'MAKE',\n",
       " 'OUT',\n",
       " 'WHAT',\n",
       " 'SHE',\n",
       " 'WAS',\n",
       " 'COMING',\n",
       " 'TO,',\n",
       " 'BUT',\n",
       " 'IT',\n",
       " 'WAS',\n",
       " 'TOO',\n",
       " 'DARK',\n",
       " 'TO',\n",
       " 'SEE',\n",
       " 'ANYTHING;',\n",
       " 'THEN',\n",
       " 'SHE',\n",
       " 'LOOKED',\n",
       " 'AT',\n",
       " 'THE',\n",
       " 'SIDES',\n",
       " 'OF',\n",
       " 'THE',\n",
       " 'WELL,',\n",
       " 'AND',\n",
       " 'NOTICED',\n",
       " 'THAT',\n",
       " 'THEY',\n",
       " 'WERE',\n",
       " 'FILLED',\n",
       " 'WITH',\n",
       " 'CUPBOARDS',\n",
       " 'AND',\n",
       " 'BOOK-SHELVES;',\n",
       " 'HERE',\n",
       " 'AND',\n",
       " 'THERE',\n",
       " 'SHE',\n",
       " 'SAW',\n",
       " 'MAPS',\n",
       " 'AND',\n",
       " 'PICTURES',\n",
       " 'HUNG',\n",
       " 'UPON',\n",
       " 'PEGS.',\n",
       " 'SHE',\n",
       " 'TOOK',\n",
       " 'DOWN',\n",
       " 'A',\n",
       " 'JAR',\n",
       " 'FROM',\n",
       " 'ONE',\n",
       " 'OF',\n",
       " 'THE',\n",
       " 'SHELVES',\n",
       " 'AS',\n",
       " 'SHE',\n",
       " 'PASSED;',\n",
       " 'IT',\n",
       " 'WAS',\n",
       " 'LABELLED',\n",
       " \"'ORANGE\",\n",
       " \"MARMALADE',\",\n",
       " 'BUT',\n",
       " 'TO',\n",
       " 'HER',\n",
       " 'GREAT',\n",
       " 'DISAPPOINTMENT',\n",
       " 'IT',\n",
       " 'WAS',\n",
       " 'EMPTY:',\n",
       " 'SHE',\n",
       " 'DID',\n",
       " 'NOT',\n",
       " 'LIKE',\n",
       " 'TO',\n",
       " 'DROP',\n",
       " 'THE',\n",
       " 'JAR',\n",
       " 'FOR',\n",
       " 'FEAR',\n",
       " 'OF',\n",
       " 'KILLING',\n",
       " 'SOMEBODY,',\n",
       " 'SO',\n",
       " 'MANAGED',\n",
       " 'TO',\n",
       " 'PUT',\n",
       " 'IT',\n",
       " 'INTO',\n",
       " 'ONE',\n",
       " 'OF',\n",
       " 'THE',\n",
       " 'CUPBOARDS',\n",
       " 'AS',\n",
       " 'SHE',\n",
       " 'FELL',\n",
       " 'PAST',\n",
       " 'IT.',\n",
       " \"'WELL!'\",\n",
       " 'THOUGHT',\n",
       " 'ALICE',\n",
       " 'TO',\n",
       " 'HERSELF,',\n",
       " \"'AFTER\",\n",
       " 'SUCH',\n",
       " 'A',\n",
       " 'FALL',\n",
       " 'AS',\n",
       " 'THIS,',\n",
       " 'I',\n",
       " 'SHALL',\n",
       " 'THINK',\n",
       " 'NOTHING',\n",
       " 'OF',\n",
       " 'TUMBLING',\n",
       " 'DOWN',\n",
       " 'STAIRS!',\n",
       " 'HOW',\n",
       " 'BRAVE',\n",
       " \"THEY'LL\",\n",
       " 'ALL',\n",
       " 'THINK',\n",
       " 'ME',\n",
       " 'AT',\n",
       " 'HOME!',\n",
       " 'WHY,',\n",
       " 'I',\n",
       " \"WOULDN'T\",\n",
       " 'SAY',\n",
       " 'ANYTHING',\n",
       " 'ABOUT',\n",
       " 'IT,',\n",
       " 'EVEN',\n",
       " 'IF',\n",
       " 'I',\n",
       " 'FELL',\n",
       " 'OFF',\n",
       " 'THE',\n",
       " 'TOP',\n",
       " 'OF',\n",
       " 'THE',\n",
       " \"HOUSE!'\",\n",
       " '(WHICH',\n",
       " 'WAS',\n",
       " 'VERY',\n",
       " 'LIKELY',\n",
       " 'TRUE.)',\n",
       " 'DOWN,',\n",
       " 'DOWN,',\n",
       " 'DOWN.',\n",
       " 'WOULD',\n",
       " 'THE',\n",
       " 'FALL',\n",
       " 'NEVER',\n",
       " 'COME',\n",
       " 'TO',\n",
       " 'AN',\n",
       " 'END!',\n",
       " \"'I\",\n",
       " 'WONDER',\n",
       " 'HOW',\n",
       " 'MANY',\n",
       " 'MILES',\n",
       " \"I'VE\",\n",
       " 'FALLEN',\n",
       " 'BY',\n",
       " 'THIS',\n",
       " \"TIME?'\",\n",
       " 'SHE',\n",
       " 'SAID',\n",
       " 'ALOUD.',\n",
       " \"'I\",\n",
       " 'MUST',\n",
       " 'BE',\n",
       " 'GETTING',\n",
       " 'SOMEWHERE',\n",
       " 'NEAR',\n",
       " 'THE',\n",
       " 'CENTRE',\n",
       " 'OF',\n",
       " 'THE',\n",
       " 'EARTH.',\n",
       " 'LET',\n",
       " 'ME',\n",
       " 'SEE:',\n",
       " 'THAT',\n",
       " 'WOULD',\n",
       " 'BE',\n",
       " 'FOUR',\n",
       " 'THOUSAND',\n",
       " 'MILES',\n",
       " 'DOWN,',\n",
       " 'I',\n",
       " \"THINK--'\",\n",
       " '(FOR,',\n",
       " 'YOU',\n",
       " 'SEE,',\n",
       " 'ALICE',\n",
       " 'HAD',\n",
       " 'LEARNT',\n",
       " 'SEVERAL',\n",
       " 'THINGS',\n",
       " 'OF',\n",
       " 'THIS',\n",
       " 'SORT',\n",
       " 'IN',\n",
       " 'HER',\n",
       " 'LESSONS',\n",
       " 'IN',\n",
       " 'THE',\n",
       " 'SCHOOLROOM,',\n",
       " 'AND',\n",
       " 'THOUGH',\n",
       " 'THIS',\n",
       " 'WAS',\n",
       " 'NOT',\n",
       " 'A',\n",
       " 'VERY',\n",
       " 'GOOD',\n",
       " 'OPPORTUNITY',\n",
       " 'FOR',\n",
       " 'SHOWING',\n",
       " 'OFF',\n",
       " 'HER',\n",
       " 'KNOWLEDGE,',\n",
       " 'AS',\n",
       " 'THERE',\n",
       " 'WAS',\n",
       " 'NO',\n",
       " 'ONE',\n",
       " 'TO',\n",
       " 'LISTEN',\n",
       " 'TO',\n",
       " 'HER,',\n",
       " 'STILL',\n",
       " 'IT',\n",
       " 'WAS',\n",
       " 'GOOD',\n",
       " 'PRACTICE',\n",
       " 'TO',\n",
       " 'SAY',\n",
       " 'IT',\n",
       " 'OVER)',\n",
       " \"'--YES,\",\n",
       " \"THAT'S\",\n",
       " 'ABOUT',\n",
       " 'THE',\n",
       " 'RIGHT',\n",
       " 'DISTANCE--BUT',\n",
       " 'THEN',\n",
       " 'I',\n",
       " 'WONDER',\n",
       " 'WHAT',\n",
       " 'LATITUDE',\n",
       " 'OR',\n",
       " 'LONGITUDE',\n",
       " \"I'VE\",\n",
       " 'GOT',\n",
       " \"TO?'\",\n",
       " '(ALICE',\n",
       " 'HAD',\n",
       " 'NO',\n",
       " 'IDEA',\n",
       " 'WHAT',\n",
       " 'LATITUDE',\n",
       " 'WAS,',\n",
       " 'OR',\n",
       " 'LONGITUDE',\n",
       " 'EITHER,',\n",
       " 'BUT',\n",
       " 'THOUGHT',\n",
       " 'THEY',\n",
       " 'WERE',\n",
       " 'NICE',\n",
       " 'GRAND',\n",
       " 'WORDS',\n",
       " 'TO',\n",
       " 'SAY.)',\n",
       " 'PRESENTLY',\n",
       " 'SHE',\n",
       " 'BEGAN',\n",
       " 'AGAIN.',\n",
       " \"'I\",\n",
       " 'WONDER',\n",
       " 'IF',\n",
       " 'I',\n",
       " 'SHALL',\n",
       " 'FALL',\n",
       " 'RIGHT',\n",
       " 'THROUGH',\n",
       " 'THE',\n",
       " 'EARTH!',\n",
       " 'HOW',\n",
       " 'FUNNY',\n",
       " \"IT'LL\",\n",
       " 'SEEM',\n",
       " 'TO',\n",
       " 'COME',\n",
       " 'OUT',\n",
       " 'AMONG',\n",
       " 'THE',\n",
       " 'PEOPLE',\n",
       " 'THAT',\n",
       " 'WALK',\n",
       " 'WITH',\n",
       " 'THEIR',\n",
       " 'HEADS',\n",
       " 'DOWNWARD!',\n",
       " 'THE',\n",
       " 'ANTIPATHIES,',\n",
       " 'I',\n",
       " \"THINK--'\",\n",
       " '(SHE',\n",
       " 'WAS',\n",
       " 'RATHER',\n",
       " 'GLAD',\n",
       " 'THERE',\n",
       " 'WAS',\n",
       " 'NO',\n",
       " 'ONE',\n",
       " 'LISTENING,',\n",
       " 'THIS',\n",
       " 'TIME,',\n",
       " 'AS',\n",
       " 'IT',\n",
       " \"DIDN'T\",\n",
       " 'SOUND',\n",
       " 'AT',\n",
       " 'ALL',\n",
       " 'THE',\n",
       " 'RIGHT',\n",
       " 'WORD)',\n",
       " \"'--BUT\",\n",
       " 'I',\n",
       " 'SHALL',\n",
       " 'HAVE',\n",
       " 'TO',\n",
       " 'ASK',\n",
       " 'THEM',\n",
       " 'WHAT',\n",
       " 'THE',\n",
       " 'NAME',\n",
       " 'OF',\n",
       " 'THE',\n",
       " 'COUNTRY',\n",
       " 'IS,',\n",
       " 'YOU',\n",
       " 'KNOW.',\n",
       " 'PLEASE,',\n",
       " \"MA'AM,\",\n",
       " 'IS',\n",
       " 'THIS',\n",
       " 'NEW',\n",
       " 'ZEALAND',\n",
       " 'OR',\n",
       " \"AUSTRALIA?'\",\n",
       " '(AND',\n",
       " 'SHE',\n",
       " 'TRIED',\n",
       " 'TO',\n",
       " 'CURTSEY',\n",
       " 'AS',\n",
       " 'SHE',\n",
       " 'SPOKE--FANCY',\n",
       " 'CURTSEYING',\n",
       " 'AS',\n",
       " \"YOU'RE\",\n",
       " 'FALLING',\n",
       " 'THROUGH',\n",
       " 'THE',\n",
       " 'AIR!',\n",
       " 'DO',\n",
       " 'YOU',\n",
       " 'THINK',\n",
       " 'YOU',\n",
       " 'COULD',\n",
       " 'MANAGE',\n",
       " 'IT?)',\n",
       " \"'AND\",\n",
       " 'WHAT',\n",
       " 'AN',\n",
       " 'IGNORANT',\n",
       " 'LITTLE',\n",
       " 'GIRL',\n",
       " \"SHE'LL\",\n",
       " 'THINK',\n",
       " 'ME',\n",
       " 'FOR',\n",
       " 'ASKING!',\n",
       " 'NO,',\n",
       " \"IT'LL\",\n",
       " 'NEVER',\n",
       " 'DO',\n",
       " 'TO',\n",
       " 'ASK:',\n",
       " 'PERHAPS',\n",
       " 'I',\n",
       " 'SHALL',\n",
       " 'SEE',\n",
       " 'IT',\n",
       " 'WRITTEN',\n",
       " 'UP',\n",
       " \"SOMEWHERE.'\",\n",
       " 'DOWN,',\n",
       " 'DOWN,',\n",
       " 'DOWN.',\n",
       " 'THERE',\n",
       " 'WAS',\n",
       " 'NOTHING',\n",
       " 'ELSE',\n",
       " 'TO',\n",
       " 'DO,',\n",
       " 'SO',\n",
       " 'ALICE',\n",
       " 'SOON',\n",
       " 'BEGAN',\n",
       " 'TALKING',\n",
       " 'AGAIN.',\n",
       " \"'DINAH'LL\",\n",
       " 'MISS',\n",
       " 'ME',\n",
       " 'VERY',\n",
       " 'MUCH',\n",
       " 'TO-NIGHT,',\n",
       " 'I',\n",
       " 'SHOULD',\n",
       " \"THINK!'\",\n",
       " '(DINAH',\n",
       " 'WAS',\n",
       " 'THE',\n",
       " 'CAT.)',\n",
       " \"'I\",\n",
       " 'HOPE',\n",
       " \"THEY'LL\",\n",
       " 'REMEMBER',\n",
       " 'HER',\n",
       " 'SAUCER',\n",
       " 'OF',\n",
       " 'MILK',\n",
       " 'AT',\n",
       " 'TEA-TIME.',\n",
       " 'DINAH',\n",
       " 'MY',\n",
       " 'DEAR!',\n",
       " 'I',\n",
       " 'WISH',\n",
       " 'YOU',\n",
       " 'WERE',\n",
       " 'DOWN',\n",
       " 'HERE',\n",
       " 'WITH',\n",
       " 'ME!',\n",
       " 'THERE',\n",
       " 'ARE',\n",
       " 'NO',\n",
       " 'MICE',\n",
       " 'IN',\n",
       " 'THE',\n",
       " 'AIR,',\n",
       " \"I'M\",\n",
       " 'AFRAID,',\n",
       " 'BUT',\n",
       " 'YOU',\n",
       " 'MIGHT',\n",
       " 'CATCH',\n",
       " 'A',\n",
       " 'BAT,',\n",
       " 'AND',\n",
       " \"THAT'S\",\n",
       " 'VERY',\n",
       " 'LIKE',\n",
       " 'A',\n",
       " 'MOUSE,',\n",
       " 'YOU',\n",
       " 'KNOW.',\n",
       " 'BUT',\n",
       " 'DO',\n",
       " 'CATS',\n",
       " 'EAT',\n",
       " 'BATS,',\n",
       " 'I',\n",
       " \"WONDER?'\",\n",
       " 'AND',\n",
       " 'HERE',\n",
       " 'ALICE',\n",
       " 'BEGAN',\n",
       " 'TO',\n",
       " 'GET',\n",
       " 'RATHER',\n",
       " 'SLEEPY,',\n",
       " 'AND',\n",
       " 'WENT',\n",
       " 'ON',\n",
       " 'SAYING',\n",
       " 'TO',\n",
       " 'HERSELF,',\n",
       " 'IN',\n",
       " 'A',\n",
       " 'DREAMY',\n",
       " 'SORT',\n",
       " 'OF',\n",
       " 'WAY,',\n",
       " \"'DO\",\n",
       " 'CATS',\n",
       " 'EAT',\n",
       " 'BATS?',\n",
       " 'DO',\n",
       " 'CATS',\n",
       " 'EAT',\n",
       " \"BATS?'\",\n",
       " 'AND',\n",
       " 'SOMETIMES,',\n",
       " \"'DO\",\n",
       " 'BATS',\n",
       " 'EAT',\n",
       " \"CATS?'\",\n",
       " 'FOR,',\n",
       " 'YOU',\n",
       " 'SEE,',\n",
       " 'AS',\n",
       " 'SHE',\n",
       " \"COULDN'T\",\n",
       " 'ANSWER',\n",
       " 'EITHER',\n",
       " 'QUESTION,',\n",
       " 'IT',\n",
       " \"DIDN'T\",\n",
       " 'MUCH',\n",
       " 'MATTER',\n",
       " 'WHICH',\n",
       " 'WAY',\n",
       " 'SHE',\n",
       " 'PUT',\n",
       " 'IT.',\n",
       " 'SHE',\n",
       " 'FELT',\n",
       " 'THAT',\n",
       " 'SHE',\n",
       " 'WAS',\n",
       " 'DOZING',\n",
       " 'OFF,',\n",
       " 'AND',\n",
       " 'HAD',\n",
       " 'JUST',\n",
       " 'BEGUN',\n",
       " 'TO',\n",
       " 'DREAM',\n",
       " 'THAT',\n",
       " 'SHE',\n",
       " 'WAS',\n",
       " 'WALKING',\n",
       " 'HAND',\n",
       " 'IN',\n",
       " 'HAND',\n",
       " 'WITH',\n",
       " 'DINAH,',\n",
       " 'AND',\n",
       " 'SAYING',\n",
       " 'TO',\n",
       " 'HER',\n",
       " 'VERY',\n",
       " 'EARNESTLY,',\n",
       " \"'NOW,\",\n",
       " 'DINAH,',\n",
       " 'TELL',\n",
       " 'ME',\n",
       " 'THE',\n",
       " 'TRUTH:',\n",
       " 'DID',\n",
       " 'YOU',\n",
       " 'EVER',\n",
       " 'EAT',\n",
       " 'A',\n",
       " \"BAT?'\",\n",
       " 'WHEN',\n",
       " 'SUDDENLY,',\n",
       " 'THUMP!',\n",
       " 'THUMP!',\n",
       " 'DOWN',\n",
       " 'SHE',\n",
       " 'CAME',\n",
       " 'UPON',\n",
       " 'A',\n",
       " 'HEAP',\n",
       " 'OF',\n",
       " 'STICKS',\n",
       " 'AND',\n",
       " 'DRY',\n",
       " 'LEAVES,',\n",
       " 'AND',\n",
       " 'THE',\n",
       " 'FALL',\n",
       " 'WAS',\n",
       " 'OVER.',\n",
       " 'ALICE',\n",
       " 'WAS',\n",
       " 'NOT',\n",
       " 'A',\n",
       " 'BIT',\n",
       " 'HURT,',\n",
       " 'AND',\n",
       " 'SHE',\n",
       " 'JUMPED',\n",
       " 'UP',\n",
       " 'ON',\n",
       " 'TO',\n",
       " 'HER',\n",
       " 'FEET',\n",
       " 'IN',\n",
       " 'A',\n",
       " 'MOMENT:',\n",
       " 'SHE',\n",
       " 'LOOKED',\n",
       " 'UP,',\n",
       " 'BUT',\n",
       " 'IT',\n",
       " 'WAS',\n",
       " 'ALL',\n",
       " 'DARK',\n",
       " 'OVERHEAD;',\n",
       " 'BEFORE',\n",
       " 'HER',\n",
       " 'WAS',\n",
       " 'ANOTHER',\n",
       " 'LONG',\n",
       " 'PASSAGE,',\n",
       " 'AND',\n",
       " 'THE',\n",
       " 'WHITE',\n",
       " 'RABBIT',\n",
       " 'WAS',\n",
       " 'STILL',\n",
       " 'IN',\n",
       " 'SIGHT,',\n",
       " ...]"
      ]
     },
     "execution_count": 159,
     "metadata": {},
     "output_type": "execute_result"
    }
   ],
   "source": [
    "alice.upper().split()"
   ]
  },
  {
   "cell_type": "code",
   "execution_count": 167,
   "metadata": {
    "collapsed": false
   },
   "outputs": [
    {
     "data": {
      "text/plain": [
       "'ALL'"
      ]
     },
     "execution_count": 167,
     "metadata": {},
     "output_type": "execute_result"
    }
   ],
   "source": [
    "word"
   ]
  },
  {
   "cell_type": "raw",
   "metadata": {},
   "source": [
    "zip(words, counts)"
   ]
  },
  {
   "cell_type": "code",
   "execution_count": 169,
   "metadata": {
    "collapsed": false
   },
   "outputs": [
    {
     "data": {
      "text/plain": [
       "False"
      ]
     },
     "execution_count": 169,
     "metadata": {},
     "output_type": "execute_result"
    }
   ],
   "source": []
  },
  {
   "cell_type": "code",
   "execution_count": 170,
   "metadata": {
    "collapsed": true
   },
   "outputs": [],
   "source": [
    "counts = Counter(words)"
   ]
  },
  {
   "cell_type": "code",
   "execution_count": 171,
   "metadata": {
    "collapsed": false
   },
   "outputs": [
    {
     "data": {
      "text/plain": [
       "Counter({'EXTRAORDINARY': 2,\n",
       "         'ADJOURN,': 1,\n",
       "         'CAUSE,': 1,\n",
       "         \"ADVANTAGE,'\": 1,\n",
       "         'GOOSE,': 1,\n",
       "         'FINDS': 1,\n",
       "         'PAT,': 1,\n",
       "         'MACHINES': 1,\n",
       "         \"'STUPID,'\": 1,\n",
       "         'CALLED': 15,\n",
       "         'USURPATION': 1,\n",
       "         'AGAIN.)': 1,\n",
       "         \"MIND,'\": 1,\n",
       "         'WHITING.': 1,\n",
       "         'BROWN,': 1,\n",
       "         '\"LET': 1,\n",
       "         'SLEEPY;': 1,\n",
       "         'INVOLVED': 1,\n",
       "         'ANN,': 2,\n",
       "         \"DULL!'\": 1,\n",
       "         'BOWED,': 1,\n",
       "         'HOT': 4,\n",
       "         'PRETENDING': 1,\n",
       "         'CAKES,': 1,\n",
       "         'FATHER,': 1,\n",
       "         'MADE': 29,\n",
       "         \"SUPPOSE.'\": 1,\n",
       "         'WORM.': 1,\n",
       "         'REMARKED;': 1,\n",
       "         'OLDEST': 1,\n",
       "         'COULD!': 1,\n",
       "         'TREES': 5,\n",
       "         'CONDUCT': 1,\n",
       "         'LEAVE': 7,\n",
       "         'FRENCH': 3,\n",
       "         \"TWO!'\": 1,\n",
       "         'PLATES': 1,\n",
       "         'SISTER,': 2,\n",
       "         'WISE': 2,\n",
       "         'JURY,\"': 1,\n",
       "         'WONDERING': 7,\n",
       "         'FAR': 9,\n",
       "         'CHANGE': 9,\n",
       "         'SIGHT,': 4,\n",
       "         'READY': 7,\n",
       "         'STRETCHED': 2,\n",
       "         \"TOO.'\": 1,\n",
       "         'SLATES.': 1,\n",
       "         'CROSS,': 1,\n",
       "         'SIGH.': 1,\n",
       "         \"GARDEN!'\": 1,\n",
       "         'ROOM': 8,\n",
       "         'MAKE': 26,\n",
       "         'CALMLY,': 1,\n",
       "         'TIMIDLY,': 4,\n",
       "         'PRODUCED': 1,\n",
       "         'SHORT': 4,\n",
       "         'CHEERED,': 2,\n",
       "         'FLOWER-BEDS': 1,\n",
       "         'CARRIED': 4,\n",
       "         'CROQUETED': 1,\n",
       "         'HASTE,': 1,\n",
       "         'SNEEZES;': 1,\n",
       "         \"TO,'\": 1,\n",
       "         'GRIN,': 3,\n",
       "         'TELLING': 2,\n",
       "         'VOTE': 1,\n",
       "         'NEARER,': 1,\n",
       "         'TEACUP': 3,\n",
       "         \"DAY!'\": 1,\n",
       "         'PLEASANTER': 1,\n",
       "         'SCROLL,': 1,\n",
       "         'HURRY.': 3,\n",
       "         'DOZING': 1,\n",
       "         'GRUNTED': 3,\n",
       "         'CATCHING': 2,\n",
       "         \"'LOOK\": 1,\n",
       "         \"THINK,'\": 3,\n",
       "         'DOUBT:': 1,\n",
       "         'HISTORIES': 1,\n",
       "         'FELLOW!': 1,\n",
       "         \"'WOW!\": 2,\n",
       "         'SOMETHING;': 1,\n",
       "         'PARTS': 1,\n",
       "         'PRETEND': 1,\n",
       "         'SIMPLY': 2,\n",
       "         'SAFE': 2,\n",
       "         'CONCLUDED': 2,\n",
       "         'TRIUMPHANTLY,': 1,\n",
       "         'SHYLY,': 1,\n",
       "         'SAID:': 3,\n",
       "         'SIZE:': 3,\n",
       "         'PULLED': 1,\n",
       "         \"GUILT,'\": 1,\n",
       "         'DELIGHTFUL': 2,\n",
       "         'O': 1,\n",
       "         'HISS': 1,\n",
       "         'BITE.': 1,\n",
       "         'PERSONAL': 2,\n",
       "         \"WOULDN'T\": 12,\n",
       "         'SUPPRESS': 1,\n",
       "         'KIND': 6,\n",
       "         'WORDS:': 2,\n",
       "         \"FOURTH.'\": 1,\n",
       "         'ELBOW': 2,\n",
       "         'RABBIT-HOLE--AND': 1,\n",
       "         'SCRATCHING': 1,\n",
       "         'SALT': 2,\n",
       "         'PLACE': 6,\n",
       "         'THOUGHT,': 6,\n",
       "         \"'YES,'\": 3,\n",
       "         \"'A\": 11,\n",
       "         'IRRITATED': 1,\n",
       "         'HUMBLY:': 1,\n",
       "         'BRUSH,': 1,\n",
       "         'THOSE': 10,\n",
       "         'SEEN:': 1,\n",
       "         'DO,': 7,\n",
       "         'WITHIN--A': 1,\n",
       "         'THOUGHT': 63,\n",
       "         'THIRTEEN,': 1,\n",
       "         \"PACE,'\": 1,\n",
       "         'VANISHED.': 1,\n",
       "         'BUTTER,': 1,\n",
       "         'MINE': 3,\n",
       "         'SAID.': 4,\n",
       "         'BIRDS,)': 1,\n",
       "         'I?': 1,\n",
       "         'SECOND': 4,\n",
       "         'CURLY': 1,\n",
       "         'UNWILLINGLY': 1,\n",
       "         'LONG': 30,\n",
       "         'VIOLENTLY,': 2,\n",
       "         'SHIFTING': 1,\n",
       "         'BUTTERED': 1,\n",
       "         'TUNNEL': 1,\n",
       "         'CONTEMPT.': 1,\n",
       "         'LAMPS': 1,\n",
       "         'HAPPENED.': 1,\n",
       "         'ELSE': 8,\n",
       "         'WHOLE': 13,\n",
       "         'LOOKED': 45,\n",
       "         'DEARS!': 1,\n",
       "         \"'HUSH!\": 1,\n",
       "         \"BED!'\": 1,\n",
       "         'WHICH),': 1,\n",
       "         'HAPPENED.)': 1,\n",
       "         'DAUGHTER': 1,\n",
       "         \"'HAND\": 1,\n",
       "         'VOICE,': 15,\n",
       "         'OUT': 97,\n",
       "         \"DOG'S\": 1,\n",
       "         'YOU:': 1,\n",
       "         'IMPOSSIBLE.': 1,\n",
       "         'WORSE': 2,\n",
       "         \"TO-DAY?'\": 1,\n",
       "         \"BROTHER'S\": 1,\n",
       "         'AFFAIR,': 1,\n",
       "         'PICTURES': 4,\n",
       "         'GRAMMAR,': 1,\n",
       "         \"ON.'\": 2,\n",
       "         'SEA': 2,\n",
       "         'FORTUNATELY': 1,\n",
       "         'STOCKINGS': 1,\n",
       "         'FULL': 6,\n",
       "         'LIFE.': 2,\n",
       "         'LAUGH;': 1,\n",
       "         'RESPECTABLE': 1,\n",
       "         'COURT,\"': 1,\n",
       "         'VIOLENTLY': 2,\n",
       "         'OPENED,': 1,\n",
       "         \"'ON\": 1,\n",
       "         'THOUGHTS': 2,\n",
       "         \"'PLEASE,\": 1,\n",
       "         'FORWARDS': 1,\n",
       "         \"UGLIFYING!'\": 1,\n",
       "         'KNOWN': 1,\n",
       "         'EAGERLY,': 3,\n",
       "         \"'MINE\": 1,\n",
       "         'CHRYSALIS--YOU': 1,\n",
       "         \"'SWIM\": 1,\n",
       "         \"'IMPORTANT--UNIMPORTANT--UNIMPORTANT--IMPORTANT--'\": 1,\n",
       "         \"'SEALS,\": 1,\n",
       "         'REPLY,': 1,\n",
       "         'BEND': 1,\n",
       "         'CAPITAL': 4,\n",
       "         'THOROUGHLY': 2,\n",
       "         'CROWN.': 1,\n",
       "         'ABOUT;': 1,\n",
       "         'KNEW': 12,\n",
       "         'REGULAR': 2,\n",
       "         'QUEER-SHAPED': 1,\n",
       "         \"FOR?'\": 2,\n",
       "         'MEANS,': 1,\n",
       "         'FRONTISPIECE': 1,\n",
       "         'KEY;': 1,\n",
       "         'CLASPED': 1,\n",
       "         'CLIMB': 1,\n",
       "         'SURE;': 1,\n",
       "         'SETTLED': 3,\n",
       "         \"BABY?'\": 1,\n",
       "         'EITHER': 6,\n",
       "         'PASSIONATE': 1,\n",
       "         \"'SIXTEENTH,'\": 1,\n",
       "         \"NOT?'\": 1,\n",
       "         'EARS': 4,\n",
       "         \"IS--'\": 1,\n",
       "         \"WITS!'\": 1,\n",
       "         'MAPS': 1,\n",
       "         'DISHES.': 1,\n",
       "         'SLATES,': 4,\n",
       "         'FIVE.': 1,\n",
       "         'FALL': 6,\n",
       "         \"'ALL\": 3,\n",
       "         \"BEGIN.'\": 3,\n",
       "         'UNHAPPY.': 1,\n",
       "         'HURRIED': 11,\n",
       "         'ACCIDENTALLY': 1,\n",
       "         \"PRESENT!'\": 1,\n",
       "         \"MORNING,'\": 1,\n",
       "         'RABBIT,': 8,\n",
       "         'STRENGTH,': 1,\n",
       "         'UGLIFICATION,': 1,\n",
       "         'TERRIBLY': 1,\n",
       "         'UPSTAIRS,': 1,\n",
       "         'SOUNDS': 3,\n",
       "         'SHRILL': 3,\n",
       "         'REST': 9,\n",
       "         'V.': 1,\n",
       "         'PURRING': 1,\n",
       "         \"SCHOOL,'\": 1,\n",
       "         \"'WELL,\": 20,\n",
       "         'SUBJECT!': 1,\n",
       "         'THAT;': 1,\n",
       "         \"WINDOW?'\": 1,\n",
       "         'KNIFE': 1,\n",
       "         'EARTH.': 2,\n",
       "         \"ENOUGH!'\": 1,\n",
       "         \"WERE',\": 1,\n",
       "         'REFUSED': 1,\n",
       "         'BEAK--': 1,\n",
       "         'PENCIL': 1,\n",
       "         'SOOTHING': 1,\n",
       "         'JOIN': 9,\n",
       "         \"DUCHESS?'\": 1,\n",
       "         'POSSIBLE': 1,\n",
       "         'SKIRT,': 1,\n",
       "         'DECIDEDLY,': 3,\n",
       "         'INTERRUPTED:': 1,\n",
       "         'CATERPILLAR.': 12,\n",
       "         'ACROSS': 5,\n",
       "         'SURPRISE': 1,\n",
       "         'UNUSUALLY': 1,\n",
       "         'TREMULOUS': 1,\n",
       "         \"WRONG!'\": 1,\n",
       "         \"SOUP!'\": 3,\n",
       "         'BALLS': 1,\n",
       "         'DRINKING.': 1,\n",
       "         'SHRIEK,': 2,\n",
       "         'COMPLETELY.': 1,\n",
       "         \"SIR--'\": 1,\n",
       "         'SPEAKING': 2,\n",
       "         'RIGHT;': 1,\n",
       "         'CONVERSATIONS': 1,\n",
       "         'POWDERED': 1,\n",
       "         \"SELL,'\": 1,\n",
       "         'SEARCH': 1,\n",
       "         'RATTLING': 2,\n",
       "         'LOW-SPIRITED.': 1,\n",
       "         \"'UNIMPORTANT.'\": 1,\n",
       "         'REACHING': 1,\n",
       "         'BILL!': 3,\n",
       "         'PRIZE': 1,\n",
       "         'YESTERDAY': 2,\n",
       "         'TIMID': 3,\n",
       "         'MARK;': 1,\n",
       "         'VOICES': 2,\n",
       "         'IT.)': 2,\n",
       "         'CATERPILLAR;': 1,\n",
       "         \"DINAH'LL\": 1,\n",
       "         'CAUTIOUSLY:': 1,\n",
       "         'CONFUSION': 3,\n",
       "         'SHARING': 1,\n",
       "         'EYE,': 1,\n",
       "         'LONELY': 2,\n",
       "         'FATHER;': 1,\n",
       "         'DOZE;': 1,\n",
       "         'DIRECTED': 2,\n",
       "         \"'THAN\": 1,\n",
       "         \"'--OR\": 1,\n",
       "         \"WATCH,'\": 1,\n",
       "         'SAME,': 2,\n",
       "         'STUPID),': 1,\n",
       "         'WON,': 1,\n",
       "         'THINK:': 1,\n",
       "         'SHRIEKS,': 1,\n",
       "         'SECONDLY,': 2,\n",
       "         'EARTH!': 1,\n",
       "         \"THAT?'\": 6,\n",
       "         'CHANGING': 2,\n",
       "         \"OTHER.'\": 1,\n",
       "         'FOR,': 3,\n",
       "         'WIN,': 1,\n",
       "         'GROUND': 2,\n",
       "         \"AGAIN!'\": 7,\n",
       "         \"THINK?'\": 2,\n",
       "         'CLAWS,': 1,\n",
       "         'HOPE': 3,\n",
       "         'GUINEA-PIG': 1,\n",
       "         'KETTLE': 1,\n",
       "         'EVER:': 1,\n",
       "         'SNEEZING,': 1,\n",
       "         \"'AND\": 55,\n",
       "         'FLASHED': 1,\n",
       "         'DORMOUSE.': 3,\n",
       "         'NORTHUMBRIA,': 1,\n",
       "         \"STAIRS!'\": 1,\n",
       "         'DAY,': 4,\n",
       "         'NEVER': 40,\n",
       "         'PAIRS': 1,\n",
       "         'FUNNY': 3,\n",
       "         'SOMETIMES,': 1,\n",
       "         'ON;': 1,\n",
       "         'SEATED': 1,\n",
       "         \"'GIVE\": 3,\n",
       "         'ALL': 155,\n",
       "         'OTHER': 26,\n",
       "         \"'I--I'M\": 1,\n",
       "         'ALTOGETHER,': 2,\n",
       "         'YELLED': 1,\n",
       "         'WINDOW,': 5,\n",
       "         'FOOTMAN,': 2,\n",
       "         'AIRS!': 1,\n",
       "         'REST,': 1,\n",
       "         \"OF?'\": 3,\n",
       "         'SEEMED': 27,\n",
       "         'LATIN': 1,\n",
       "         'ATTEMPTS': 1,\n",
       "         \"YOU'RE\": 17,\n",
       "         'ODD': 1,\n",
       "         'DESPERATE': 1,\n",
       "         \"D,'\": 1,\n",
       "         \"MOMENT!'\": 1,\n",
       "         'MUST,': 1,\n",
       "         'WAS': 333,\n",
       "         'CONSULTATION': 1,\n",
       "         'LAUGHING': 1,\n",
       "         'LEARN!': 2,\n",
       "         'ALARM': 1,\n",
       "         \"BETTER';\": 1,\n",
       "         'COUNTRY': 1,\n",
       "         'HOPELESS': 1,\n",
       "         \"MAYBE,'\": 1,\n",
       "         'NOTICED': 7,\n",
       "         'VENTURE': 3,\n",
       "         'EAGLET,': 1,\n",
       "         'CALL': 5,\n",
       "         \"ASK.'\": 1,\n",
       "         'FORTY-TWO.': 1,\n",
       "         'WHO': 54,\n",
       "         'HIM,)': 1,\n",
       "         'NOTHING,': 2,\n",
       "         'BEAUTIFUL,': 3,\n",
       "         'MOSTLY': 1,\n",
       "         \"'OH\": 2,\n",
       "         'PERFECTLY': 4,\n",
       "         'GRACEFUL': 1,\n",
       "         'OBLIGED': 3,\n",
       "         'SON,': 1,\n",
       "         'PEOPLE.': 1,\n",
       "         'PINCHED': 2,\n",
       "         'ACCEPTANCE': 1,\n",
       "         'EXPLAIN': 8,\n",
       "         'ALTOGETHER': 1,\n",
       "         '(POINTING': 1,\n",
       "         'EARTH': 1,\n",
       "         \"WAY?',\": 1,\n",
       "         'SOUP,': 2,\n",
       "         'THINKING': 10,\n",
       "         'CAMOMILE': 1,\n",
       "         'PASSAGE:': 1,\n",
       "         'IN:': 1,\n",
       "         \"IDIOTIC!'\": 1,\n",
       "         \"BIT,'\": 2,\n",
       "         'FINGER;': 1,\n",
       "         'RUDE,': 1,\n",
       "         'ENGLISH': 1,\n",
       "         \"'BY-THE-BYE,\": 1,\n",
       "         'MASTER,': 1,\n",
       "         \"CROQUET.'\": 2,\n",
       "         \"'EVERYBODY\": 2,\n",
       "         \"HEDGE!'\": 1,\n",
       "         'INSULT': 1,\n",
       "         'SUPPOSE': 8,\n",
       "         'FOUNTAINS,': 1,\n",
       "         \"INVITED,'\": 1,\n",
       "         'ASKED.': 8,\n",
       "         'AT': 205,\n",
       "         'SPELL': 1,\n",
       "         'WET,': 1,\n",
       "         'GREEN': 3,\n",
       "         'TUREEN!': 1,\n",
       "         \"THEN,'\": 6,\n",
       "         \"NEEDN'T\": 3,\n",
       "         \"'FIFTEENTH,'\": 1,\n",
       "         'COMMOTION': 1,\n",
       "         'WAY:--': 1,\n",
       "         'WORD': 7,\n",
       "         'BEING': 19,\n",
       "         'SHAPED': 2,\n",
       "         \"FAR,'\": 2,\n",
       "         \"'COME\": 6,\n",
       "         'CRAB,': 2,\n",
       "         'THINGS,': 2,\n",
       "         'PASSED': 4,\n",
       "         'THOUGHT.': 2,\n",
       "         \"MINUTE!'\": 1,\n",
       "         \"SORT,'\": 1,\n",
       "         \"EVER,'\": 2,\n",
       "         'MANNER': 1,\n",
       "         'BLEEDS;': 1,\n",
       "         'ABSENCE,': 1,\n",
       "         'BEAUTIFUL': 8,\n",
       "         'LIKE': 75,\n",
       "         'COUPLES:': 1,\n",
       "         \"DREAM!'\": 1,\n",
       "         \"CHOICE!'\": 1,\n",
       "         'WOW!': 2,\n",
       "         \"DO?'\": 1,\n",
       "         'PUZZLING': 4,\n",
       "         \"DON'T!'\": 1,\n",
       "         'WHY': 7,\n",
       "         \"IDEA,'\": 1,\n",
       "         'COURSE': 11,\n",
       "         'AGAIN!': 1,\n",
       "         'INDEED:': 1,\n",
       "         'MOMENT': 21,\n",
       "         'BEAUTI--FUL': 1,\n",
       "         'TWINKLE,': 4,\n",
       "         'RETURNED': 2,\n",
       "         'TAIL': 3,\n",
       "         \"IT?'\": 11,\n",
       "         'PARTICULAR--HERE,': 1,\n",
       "         'SEE--HOW': 1,\n",
       "         'PIGS': 1,\n",
       "         'LIE': 2,\n",
       "         'FLUNG': 1,\n",
       "         \"'WHOEVER\": 1,\n",
       "         'KEY': 5,\n",
       "         'PAT!': 1,\n",
       "         'STRAIGHTENED': 1,\n",
       "         'LIZARD': 2,\n",
       "         'ONE!': 1,\n",
       "         'WAYS': 1,\n",
       "         'DODO': 9,\n",
       "         'SMOKING': 2,\n",
       "         'VOICE;': 2,\n",
       "         '\\'\"--FOUND': 1,\n",
       "         'WILDLY': 2,\n",
       "         \"COILS.'\": 1,\n",
       "         'NUMBER': 5,\n",
       "         'OUTSIDE.': 1,\n",
       "         'SOUND': 3,\n",
       "         \"'WOULDN'T\": 1,\n",
       "         \"PLAN.'\": 1,\n",
       "         'ANYTHING;': 2,\n",
       "         'MICE': 3,\n",
       "         'GOOD': 23,\n",
       "         \"M?'\": 1,\n",
       "         'GIVEN': 1,\n",
       "         'OTHER.': 2,\n",
       "         \"USUAL,'\": 1,\n",
       "         'GO!': 1,\n",
       "         'SMALL.': 1,\n",
       "         'BLOWS': 1,\n",
       "         \"CREATURES,'\": 1,\n",
       "         'HERSELF,': 31,\n",
       "         \"LESS,'\": 1,\n",
       "         \"CASE,'\": 1,\n",
       "         'JURY.': 2,\n",
       "         'WORDS': 14,\n",
       "         'CHOKED': 3,\n",
       "         \"BIRD,'\": 1,\n",
       "         'FISH)--AND': 1,\n",
       "         'RED.': 1,\n",
       "         'BOOK,': 2,\n",
       "         'BOX': 3,\n",
       "         'RULE': 2,\n",
       "         'ALICE:': 7,\n",
       "         '(NOT': 1,\n",
       "         'GOLDEN': 7,\n",
       "         'COMFORT,': 1,\n",
       "         'BUTTERCUP': 1,\n",
       "         'GLASS.)': 1,\n",
       "         'THISTLE': 1,\n",
       "         \"ALL,'\": 3,\n",
       "         \"DEAR?'\": 1,\n",
       "         \"'ONCE,'\": 1,\n",
       "         'SILENT,': 2,\n",
       "         'LAUGHED,': 1,\n",
       "         'FAMILY': 1,\n",
       "         'INTRODUCED': 1,\n",
       "         'CHORUS,': 1,\n",
       "         'MIXED': 2,\n",
       "         'CONTINUED,': 2,\n",
       "         \"DO.'\": 2,\n",
       "         'NECK': 6,\n",
       "         \"SHE'D\": 1,\n",
       "         'REMARKS,': 1,\n",
       "         'QUICK': 1,\n",
       "         'SIDES': 4,\n",
       "         'MORAL,': 1,\n",
       "         'SUDDENLY:': 2,\n",
       "         'SAGE,': 1,\n",
       "         'LOW.': 1,\n",
       "         'ARITHMETIC--AMBITION,': 1,\n",
       "         'LOST': 1,\n",
       "         \"'THERE'S\": 7,\n",
       "         'MORNING?': 1,\n",
       "         'SAD': 2,\n",
       "         'RIGHTLY': 1,\n",
       "         'WASTING': 2,\n",
       "         'PIGEON': 6,\n",
       "         'SOUP,\"': 1,\n",
       "         'DAISY-CHAIN': 1,\n",
       "         'NEARER': 4,\n",
       "         'EAGERLY:': 1,\n",
       "         'FIRST--THEY': 1,\n",
       "         'RABBIT': 30,\n",
       "         'SLIPPED': 2,\n",
       "         'JOINED):--': 1,\n",
       "         'KNOWLEDGE.': 1,\n",
       "         'CHILD': 3,\n",
       "         'DOOR:': 1,\n",
       "         'DUNCE?': 1,\n",
       "         \"'TIS\": 2,\n",
       "         'GARDENERS,': 4,\n",
       "         'SUGAR': 1,\n",
       "         'ADVENTURES': 4,\n",
       "         'EDGAR': 1,\n",
       "         'ANSWER,': 1,\n",
       "         'UNCOMMONLY': 1,\n",
       "         'SKURRIED': 1,\n",
       "         'LOOK-OUT': 1,\n",
       "         'NOWHERE': 2,\n",
       "         'JURYMEN': 2,\n",
       "         'VANISHED': 3,\n",
       "         'DORMOUSE:': 1,\n",
       "         'RAPIDLY:': 1,\n",
       "         'DANCE.': 5,\n",
       "         'WILLIAM,\"\\'': 1,\n",
       "         'ABOVE': 3,\n",
       "         'VOICE:--': 1,\n",
       "         'BONE': 1,\n",
       "         'CHEATED': 1,\n",
       "         'KNAVE': 7,\n",
       "         \"TORTOISE--'\": 1,\n",
       "         'PARTICULAR;': 1,\n",
       "         'SPADES,': 1,\n",
       "         'ROUND,': 7,\n",
       "         \"TWELFTH?'\": 1,\n",
       "         'CONSTANT': 2,\n",
       "         'SCOLDED': 1,\n",
       "         'THOUSAND': 2,\n",
       "         'INSIDE,': 2,\n",
       "         'HARE,': 2,\n",
       "         'STRETCHING,': 1,\n",
       "         'ORNAMENTED': 2,\n",
       "         'POKY': 1,\n",
       "         'THINK!': 1,\n",
       "         'YEARS,': 1,\n",
       "         'BESIDES': 1,\n",
       "         'LOCK,': 1,\n",
       "         \"PARDON!'\": 4,\n",
       "         'CUSTODY': 2,\n",
       "         'BELONGS': 2,\n",
       "         'BLASTS': 2,\n",
       "         'PLEASURE': 2,\n",
       "         'REMARK.': 3,\n",
       "         \"MYSTERY,'\": 1,\n",
       "         'QUEEN': 35,\n",
       "         'MYSELF': 2,\n",
       "         'SIGHT:': 2,\n",
       "         'HEAD.': 5,\n",
       "         'KNOW--AND': 1,\n",
       "         'TAIL.': 2,\n",
       "         'FIREPLACE': 1,\n",
       "         \"WERE,'\": 1,\n",
       "         'PLENTY': 2,\n",
       "         'AWAY:': 1,\n",
       "         \"SEA--'\": 1,\n",
       "         'MISSED': 2,\n",
       "         'SPLENDIDLY': 1,\n",
       "         'SNEEZE': 1,\n",
       "         'SUBJECT': 2,\n",
       "         'SIZE': 6,\n",
       "         'FENDER,': 1,\n",
       "         \"'SILENCE!'\": 1,\n",
       "         'COURAGE.': 1,\n",
       "         'PLAYERS': 2,\n",
       "         'WAY?': 1,\n",
       "         'ESCAPE;': 1,\n",
       "         'BEFORE,': 11,\n",
       "         'SINGERS': 1,\n",
       "         'TOOK': 24,\n",
       "         'GRANT': 1,\n",
       "         'RISES': 1,\n",
       "         'TURNS': 1,\n",
       "         'LULLABY': 1,\n",
       "         'NONE,': 1,\n",
       "         \"TRYING--'\": 1,\n",
       "         'ATTEMPT': 1,\n",
       "         \"CUP,'\": 1,\n",
       "         \"'--YES,\": 1,\n",
       "         'THAT?--IT': 1,\n",
       "         'NO': 67,\n",
       "         'LISTENERS': 1,\n",
       "         'MEMORANDUM': 1,\n",
       "         \"MEANS--TO--MAKE--ANYTHING--PRETTIER.'\": 1,\n",
       "         'CATS': 9,\n",
       "         \"'EACH\": 1,\n",
       "         'CHERRY-TART,': 1,\n",
       "         'VARIOUS': 1,\n",
       "         \"'TALKING\": 1,\n",
       "         'DOWN!': 2,\n",
       "         'PICKED': 3,\n",
       "         \"SKY-ROCKET!'\": 1,\n",
       "         'SOFT': 1,\n",
       "         \"FIG?'\": 1,\n",
       "         'BONES': 1,\n",
       "         'HIT': 2,\n",
       "         'CHANCED': 1,\n",
       "         'GIRLS': 3,\n",
       "         \"SHE,'\": 1,\n",
       "         'JACK-IN-THE-BOX,': 1,\n",
       "         'FEW': 9,\n",
       "         'TEA-TIME.': 1,\n",
       "         \"SIZE,'\": 1,\n",
       "         'DREAM,': 1,\n",
       "         'KEPT': 13,\n",
       "         'KNOCKING,': 1,\n",
       "         'LEFT,': 1,\n",
       "         'PASSION.': 1,\n",
       "         'CANDLE.': 1,\n",
       "         \"IS.'\": 3,\n",
       "         'TONES': 2,\n",
       "         \"('THAT'S\": 1,\n",
       "         'PAWS': 2,\n",
       "         'WOULD': 76,\n",
       "         'ME': 46,\n",
       "         'SOLEMNLY.': 1,\n",
       "         \"'SO\": 7,\n",
       "         'OPEN': 6,\n",
       "         'CLOSED': 2,\n",
       "         'HERS': 3,\n",
       "         'HOURS,': 1,\n",
       "         'LIKE,': 2,\n",
       "         'WHISPERS': 1,\n",
       "         'PORPOISE': 1,\n",
       "         \"KNOW!'\": 2,\n",
       "         \"SEE!'\": 1,\n",
       "         \"DIRECTION,'\": 2,\n",
       "         \"MA!'\": 1,\n",
       "         '\"WILLIAM': 1,\n",
       "         'MUSIC,': 1,\n",
       "         'MOVE.': 1,\n",
       "         \"'UNTIL\": 1,\n",
       "         'HAIR': 5,\n",
       "         'CHUCKLED.': 1,\n",
       "         'UNDERNEATH': 1,\n",
       "         'SUET;': 1,\n",
       "         'THEM': 49,\n",
       "         'LOOK': 25,\n",
       "         'KEEP,': 1,\n",
       "         'SELL': 1,\n",
       "         \"'NO\": 2,\n",
       "         'MOVED.': 1,\n",
       "         \"RABBIT'S--'PAT!\": 1,\n",
       "         \"O'CLOCK\": 3,\n",
       "         \"DINNER!'\": 1,\n",
       "         'LONG,': 1,\n",
       "         'ENCOURAGING': 2,\n",
       "         \"CERTAINLY,'\": 3,\n",
       "         \"WOW!'\": 2,\n",
       "         \"IT!'\": 7,\n",
       "         'MORNING,': 2,\n",
       "         'PANTING,': 2,\n",
       "         '(ALICE': 4,\n",
       "         'TELL': 29,\n",
       "         'ALICE,)': 2,\n",
       "         \"CATERPILLAR'S\": 1,\n",
       "         'STUFF?': 1,\n",
       "         'NERVOUS': 4,\n",
       "         'TRIALS,': 1,\n",
       "         'ENOUGH;': 2,\n",
       "         'HURT,': 1,\n",
       "         'PRIZES.': 1,\n",
       "         \"INSTEAD!'\": 1,\n",
       "         'ASK!': 1,\n",
       "         'CLEARED': 1,\n",
       "         'LIST,': 1,\n",
       "         'THANKED': 1,\n",
       "         'AND': 766,\n",
       "         'GETTING': 21,\n",
       "         \"'OF\": 12,\n",
       "         'SAID,': 26,\n",
       "         'PUZZLED,': 1,\n",
       "         '\"WHAT': 2,\n",
       "         \"COURT.'\": 1,\n",
       "         \"TIME?'\": 1,\n",
       "         'TERROR.': 1,\n",
       "         \"'WAS,\": 1,\n",
       "         'ALAS': 1,\n",
       "         \"LESSONS?'\": 1,\n",
       "         'PEGS.': 1,\n",
       "         \"SOMETHING!'\": 1,\n",
       "         'FURTHER:': 1,\n",
       "         \"THIS,'\": 1,\n",
       "         'QUEER,': 1,\n",
       "         \"'JURY-MEN'\": 1,\n",
       "         'GROW': 13,\n",
       "         \"DAYS.'\": 1,\n",
       "         'PRETEXTS': 1,\n",
       "         \"SEA.'\": 1,\n",
       "         \"ARE!'\": 1,\n",
       "         'ROOTS': 1,\n",
       "         'SO,': 7,\n",
       "         'NILE': 1,\n",
       "         'DIGGING': 3,\n",
       "         'MIDDLE': 3,\n",
       "         'FLUSTERED': 1,\n",
       "         'DINAH,': 3,\n",
       "         'BILL,': 4,\n",
       "         'DOORWAY;': 1,\n",
       "         'LIVERY:': 1,\n",
       "         \"RABBIT'\": 1,\n",
       "         'HISTORY': 1,\n",
       "         \"SUBJECT,'\": 1,\n",
       "         \"JURORS.'\": 1,\n",
       "         'GUARD': 1,\n",
       "         'DIAMONDS,': 1,\n",
       "         'EGGS': 1,\n",
       "         \"RABBIT'S\": 3,\n",
       "         '(HE': 1,\n",
       "         'RATTLE': 1,\n",
       "         'SURE!': 1,\n",
       "         'HOLDING,': 1,\n",
       "         \"'EAT\": 1,\n",
       "         'HANDED': 3,\n",
       "         'CONCLUSION': 1,\n",
       "         \"CHILD!'\": 2,\n",
       "         'REASON,': 1,\n",
       "         'TOO:': 1,\n",
       "         'FIDGETED.': 1,\n",
       "         'CLEAN': 1,\n",
       "         \"'HERE!\": 2,\n",
       "         \"LIKES.'\": 1,\n",
       "         'GARDEN--HOW': 1,\n",
       "         \"MOUSE!')\": 1,\n",
       "         \"FIND?'\": 1,\n",
       "         'DRAGGLED': 1,\n",
       "         'SIDE,': 3,\n",
       "         \"'PRAY\": 1,\n",
       "         'BLOW': 2,\n",
       "         \"SAYING.'\": 1,\n",
       "         'HARE,)': 1,\n",
       "         \"'AH,\": 2,\n",
       "         'SURE': 16,\n",
       "         'SETTLE': 1,\n",
       "         'SINGING': 2,\n",
       "         'HASTILY,': 4,\n",
       "         'RECEIVED': 1,\n",
       "         'FITS,': 1,\n",
       "         \"AWAY!'\": 2,\n",
       "         'EVER;': 1,\n",
       "         'GIVE': 9,\n",
       "         \"WASN'T\": 11,\n",
       "         'KITCHEN,': 1,\n",
       "         \"FACT.'\": 1,\n",
       "         'HOWLING': 3,\n",
       "         \"STOP.'\": 1,\n",
       "         'DISAPPEARED;': 1,\n",
       "         'ADVANCE': 1,\n",
       "         'CREATURE': 2,\n",
       "         'HEAD:': 1,\n",
       "         \"HEARD!'\": 1,\n",
       "         'WHITING': 3,\n",
       "         'FANNED': 1,\n",
       "         'WAGS': 1,\n",
       "         'BRING': 2,\n",
       "         'FLAT': 1,\n",
       "         'MEEKLY:': 1,\n",
       "         'CAT:': 2,\n",
       "         'BREAD-AND-BUTTER.': 1,\n",
       "         'PIECES.': 1,\n",
       "         'SILENT.': 2,\n",
       "         \"'THREE\": 1,\n",
       "         \"ILL.'\": 2,\n",
       "         '\"COMING': 1,\n",
       "         'MOVED': 4,\n",
       "         'OUT.\"': 1,\n",
       "         'RACE': 2,\n",
       "         'HUNGRY': 2,\n",
       "         \"'VERY\": 4,\n",
       "         'UNROLLED': 2,\n",
       "         'RABBIT!': 1,\n",
       "         'MOVING': 3,\n",
       "         'EEL': 1,\n",
       "         \"SAVAGE!'\": 1,\n",
       "         \"DINN--'\": 1,\n",
       "         'BURST': 1,\n",
       "         'CAME,': 2,\n",
       "         'FIGHTING': 1,\n",
       "         'GREW': 1,\n",
       "         'STOOD': 7,\n",
       "         'CRUMBS': 1,\n",
       "         'ENOUGH--I': 1,\n",
       "         \"WINDOW.'\": 1,\n",
       "         'GOOD-BYE,': 1,\n",
       "         \"SPEAK?'\": 1,\n",
       "         \"THROAT,'\": 1,\n",
       "         'I': 260,\n",
       "         'SNEEZE,': 1,\n",
       "         'REPEAT': 6,\n",
       "         'TAKEN': 4,\n",
       "         'DISTRACTION,': 1,\n",
       "         'LARGE': 32,\n",
       "         'LIZARD,': 2,\n",
       "         \"HOME?'\": 1,\n",
       "         'WALK!\"': 1,\n",
       "         'OVER.': 2,\n",
       "         'SOO--OOP!': 4,\n",
       "         'DARESAY': 1,\n",
       "         'FACE,': 4,\n",
       "         \"'FOR\": 7,\n",
       "         'YARDS': 1,\n",
       "         'GRAVELY,': 2,\n",
       "         'EVEN': 19,\n",
       "         'SUBDUED': 1,\n",
       "         'DISAPPOINTMENT': 1,\n",
       "         'ANYWHERE': 1,\n",
       "         \"YOU.'\": 1,\n",
       "         'ARROW.': 1,\n",
       "         'PROVES': 2,\n",
       "         'NEVER!': 1,\n",
       "         'GROWL': 1,\n",
       "         \"QUEEN?'\": 1,\n",
       "         \"HERE!'\": 1,\n",
       "         'SIGHING.': 1,\n",
       "         \"MUSIC.'\": 2,\n",
       "         'WAISTCOAT-POCKET,': 2,\n",
       "         \"SAID,'\": 1,\n",
       "         'FRIGHTENED': 7,\n",
       "         \"'OU\": 1,\n",
       "         \"PUPPY'S\": 1,\n",
       "         'WATCHED': 2,\n",
       "         'LEAVES:': 1,\n",
       "         'REPLY.': 3,\n",
       "         'CREATURES': 6,\n",
       "         'NOSE': 1,\n",
       "         'MANAGED?': 1,\n",
       "         'MANNER,': 1,\n",
       "         \"LET'S\": 3,\n",
       "         'SUN.': 1,\n",
       "         'THEREFORE': 1,\n",
       "         'FASTER,': 1,\n",
       "         'NIBBLED': 2,\n",
       "         'CERTAINLY:': 2,\n",
       "         'EAT': 16,\n",
       "         \"IS!'\": 3,\n",
       "         'SANDS': 1,\n",
       "         'SIZE?': 1,\n",
       "         'MY': 56,\n",
       "         'PANTHER': 3,\n",
       "         'STAND,': 1,\n",
       "         'TURN-UP': 1,\n",
       "         'PACK': 4,\n",
       "         \"'HADN'T\": 1,\n",
       "         'SIDE': 12,\n",
       "         'FIGHT': 2,\n",
       "         'DAY': 11,\n",
       "         'YET--AND': 1,\n",
       "         \"BUSINESS,'\": 1,\n",
       "         \"'ANY\": 1,\n",
       "         \"VERDICT,'\": 3,\n",
       "         'EXPECTED:': 1,\n",
       "         'LIMBS': 1,\n",
       "         'NEIGHBOURING': 1,\n",
       "         \"HIM.'\": 1,\n",
       "         'CRY': 3,\n",
       "         'NONE': 3,\n",
       "         'UNLOCKING': 1,\n",
       "         'HONOUR,': 1,\n",
       "         'DEAR!\"': 1,\n",
       "         'PIECES': 2,\n",
       "         'DREADFULLY': 6,\n",
       "         'IF': 72,\n",
       "         'HEDGEHOGS;': 1,\n",
       "         'REMARKED': 1,\n",
       "         \"'REPEAT,\": 1,\n",
       "         'FURY:': 1,\n",
       "         \"SOBBING,'\": 1,\n",
       "         \"PLEASES!'\": 1,\n",
       "         \"'ONE\": 3,\n",
       "         'CAULDRON': 2,\n",
       "         \"MANAGE?'\": 1,\n",
       "         \"'WHICH\": 3,\n",
       "         'HEAD': 29,\n",
       "         'DO.\"': 1,\n",
       "         'CREEP': 1,\n",
       "         'THEMSELVES.\"\\'': 1,\n",
       "         'GUINEA-PIGS,': 2,\n",
       "         'WHOSE': 2,\n",
       "         'SUDDENLY': 10,\n",
       "         'SURE,': 2,\n",
       "         'DEAD': 4,\n",
       "         'WORDS,': 1,\n",
       "         'MORAL': 6,\n",
       "         'NOW?': 1,\n",
       "         \"LIZARD'S\": 1,\n",
       "         \"THINGS?'\": 1,\n",
       "         'CURRANTS.': 1,\n",
       "         'DAY;': 1,\n",
       "         \"NOT';\": 1,\n",
       "         'LAUGHED': 1,\n",
       "         'ARM-IN-ARM': 1,\n",
       "         '\"UGLIFICATION,\"\\'': 1,\n",
       "         'DODO.': 1,\n",
       "         'INDEED.': 1,\n",
       "         'GAZING': 1,\n",
       "         'TWENTY-FOUR': 1,\n",
       "         \"'WHY?'\": 2,\n",
       "         'OINTMENT--ONE': 1,\n",
       "         \"GRIN.'\": 1,\n",
       "         'THOUGHT),': 1,\n",
       "         \"'BEGIN\": 1,\n",
       "         \"ALICE'S\": 11,\n",
       "         'LETTERS.': 1,\n",
       "         'PARIS,': 1,\n",
       "         'LITTLE.': 1,\n",
       "         \"ONE.'\": 1,\n",
       "         'GRAVE': 3,\n",
       "         \"DOES.'\": 1,\n",
       "         \"TRIAL'S\": 3,\n",
       "         \"CATS.'\": 1,\n",
       "         'HEARTH': 1,\n",
       "         'EAGLET': 1,\n",
       "         'ANTIPATHIES,': 1,\n",
       "         \"DIDN'T,'\": 1,\n",
       "         'BOXED': 1,\n",
       "         \"'PEPPER,\": 1,\n",
       "         \"WAIST,'\": 1,\n",
       "         'TIPTOE,': 2,\n",
       "         'FLUTTERED': 1,\n",
       "         'FACES,': 2,\n",
       "         'SHOULDERS,': 1,\n",
       "         \"'LIVING\": 1,\n",
       "         \"WORDS,'\": 1,\n",
       "         \"'OFF\": 8,\n",
       "         \"'FLAMINGOES\": 1,\n",
       "         \"AFTERWARDS.'\": 1,\n",
       "         'IS!': 1,\n",
       "         'SPEAK--AND': 1,\n",
       "         'CLOCK.': 1,\n",
       "         'LIFE;': 1,\n",
       "         'GARDEN.\"\\'': 1,\n",
       "         \"DONE.'\": 1,\n",
       "         'TRUE.)': 1,\n",
       "         \"WOOD,'\": 1,\n",
       "         'BEGINS': 4,\n",
       "         'JURYMEN.': 2,\n",
       "         'BATS': 1,\n",
       "         \"FUN!'\": 1,\n",
       "         'ENTIRELY': 2,\n",
       "         'POUNDS!': 1,\n",
       "         \"JAWS!'\": 1,\n",
       "         'HANGING': 3,\n",
       "         'SELDOM': 1,\n",
       "         \"NONSENSE,'\": 1,\n",
       "         \"GO,'\": 2,\n",
       "         'POOL': 7,\n",
       "         'BAKED': 1,\n",
       "         \"BUTTER,'\": 1,\n",
       "         'ALLOW': 2,\n",
       "         \"MEANT,'\": 1,\n",
       "         'SOBS': 2,\n",
       "         'SHINGLE--WILL': 1,\n",
       "         \"THERE,'\": 2,\n",
       "         'FERRETS!': 1,\n",
       "         'ARE': 40,\n",
       "         'TIRED': 7,\n",
       "         \"GAME'S\": 1,\n",
       "         'BORE': 1,\n",
       "         \"SEA,'\": 1,\n",
       "         'SCRAMBLING': 1,\n",
       "         'ANGRY,': 1,\n",
       "         \"AGAIN,'\": 1,\n",
       "         'BIT': 8,\n",
       "         'DEAL': 11,\n",
       "         'MULTIPLICATION': 1,\n",
       "         ...})"
      ]
     },
     "execution_count": 171,
     "metadata": {},
     "output_type": "execute_result"
    }
   ],
   "source": [
    "counts"
   ]
  },
  {
   "cell_type": "code",
   "execution_count": 181,
   "metadata": {
    "collapsed": false
   },
   "outputs": [
    {
     "data": {
      "text/plain": [
       "16"
      ]
     },
     "execution_count": 181,
     "metadata": {},
     "output_type": "execute_result"
    }
   ],
   "source": [
    "counts['AGAIN.']"
   ]
  },
  {
   "cell_type": "code",
   "execution_count": 183,
   "metadata": {
    "collapsed": false
   },
   "outputs": [
    {
     "data": {
      "text/plain": [
       "362880"
      ]
     },
     "execution_count": 183,
     "metadata": {},
     "output_type": "execute_result"
    }
   ],
   "source": [
    "from math import factorial\n",
    "factorial(9)"
   ]
  },
  {
   "cell_type": "code",
   "execution_count": 217,
   "metadata": {
    "collapsed": false
   },
   "outputs": [],
   "source": [
    "import bz2\n",
    "with bz2.open('G:/Python Charmers/Data/websters_dictionary.txt.bz2', mode='rt', encoding='latin-1') as f: # read as rt file\n",
    "    text = f.read()"
   ]
  },
  {
   "cell_type": "code",
   "execution_count": 218,
   "metadata": {
    "collapsed": false
   },
   "outputs": [
    {
     "data": {
      "text/plain": [
       "['THE',\n",
       " 'PROJECT',\n",
       " 'GUTENBERG',\n",
       " 'EBOOK',\n",
       " 'OF',\n",
       " \"WEBSTER'S\",\n",
       " 'UNABRIDGED',\n",
       " 'DICTIONARY,',\n",
       " 'BY',\n",
       " 'VARIOUS',\n",
       " 'THIS',\n",
       " 'EBOOK',\n",
       " 'IS',\n",
       " 'FOR',\n",
       " 'THE',\n",
       " 'USE',\n",
       " 'OF',\n",
       " 'ANYONE',\n",
       " 'ANYWHERE',\n",
       " 'AT']"
      ]
     },
     "execution_count": 218,
     "metadata": {},
     "output_type": "execute_result"
    }
   ],
   "source": [
    "words = text.upper().split()\n",
    "words[:20]"
   ]
  },
  {
   "cell_type": "code",
   "execution_count": 203,
   "metadata": {
    "collapsed": false
   },
   "outputs": [
    {
     "data": {
      "text/plain": [
       "[('A', 'B', 'C'),\n",
       " ('A', 'C', 'B'),\n",
       " ('B', 'A', 'C'),\n",
       " ('B', 'C', 'A'),\n",
       " ('C', 'A', 'B'),\n",
       " ('C', 'B', 'A')]"
      ]
     },
     "execution_count": 203,
     "metadata": {},
     "output_type": "execute_result"
    }
   ],
   "source": [
    "from itertools import permutations\n",
    "list( permutations('ABC') )"
   ]
  },
  {
   "cell_type": "code",
   "execution_count": 236,
   "metadata": {
    "collapsed": false
   },
   "outputs": [
    {
     "name": "stdout",
     "output_type": "stream",
     "text": [
      "ERA\n",
      "EAR\n",
      "ARE\n"
     ]
    }
   ],
   "source": [
    "letters='REA'\n",
    "word_perm = []\n",
    "for perm in permutations(letters):\n",
    "    word =''.join(perm)\n",
    "    if word in words:\n",
    "        word_perm.append(word)\n",
    "        print(word)"
   ]
  },
  {
   "cell_type": "markdown",
   "metadata": {},
   "source": [
    "## sets"
   ]
  },
  {
   "cell_type": "code",
   "execution_count": 211,
   "metadata": {
    "collapsed": false
   },
   "outputs": [
    {
     "data": {
      "text/plain": [
       "{'green', 'red', 'yellow'}"
      ]
     },
     "execution_count": 211,
     "metadata": {},
     "output_type": "execute_result"
    }
   ],
   "source": [
    "colours1={'red', 'red', 'green', 'yellow'}\n",
    "colours1"
   ]
  },
  {
   "cell_type": "code",
   "execution_count": 213,
   "metadata": {
    "collapsed": false
   },
   "outputs": [
    {
     "data": {
      "text/plain": [
       "{'green', 'yellow'}"
      ]
     },
     "execution_count": 213,
     "metadata": {},
     "output_type": "execute_result"
    }
   ],
   "source": [
    "colours2 = {'green', 'yellow', 'blue'}\n",
    "colours1.intersection(colours2)"
   ]
  },
  {
   "cell_type": "code",
   "execution_count": 214,
   "metadata": {
    "collapsed": false
   },
   "outputs": [
    {
     "data": {
      "text/plain": [
       "{'blue', 'green', 'red', 'yellow'}"
      ]
     },
     "execution_count": 214,
     "metadata": {},
     "output_type": "execute_result"
    }
   ],
   "source": [
    "colours1.union(colours2)"
   ]
  },
  {
   "cell_type": "code",
   "execution_count": 228,
   "metadata": {
    "collapsed": false
   },
   "outputs": [
    {
     "data": {
      "text/plain": [
       "'AER'"
      ]
     },
     "execution_count": 228,
     "metadata": {},
     "output_type": "execute_result"
    }
   ],
   "source": [
    "word"
   ]
  },
  {
   "cell_type": "code",
   "execution_count": 237,
   "metadata": {
    "collapsed": false
   },
   "outputs": [
    {
     "ename": "AttributeError",
     "evalue": "'list' object has no attribute 'intersection'",
     "output_type": "error",
     "traceback": [
      "\u001b[1;31m---------------------------------------------------------------------------\u001b[0m",
      "\u001b[1;31mAttributeError\u001b[0m                            Traceback (most recent call last)",
      "\u001b[1;32m<ipython-input-237-74d0185c9cda>\u001b[0m in \u001b[0;36m<module>\u001b[1;34m()\u001b[0m\n\u001b[1;32m----> 1\u001b[1;33m \u001b[0mwords\u001b[0m\u001b[1;33m.\u001b[0m\u001b[0mintersection\u001b[0m\u001b[1;33m(\u001b[0m\u001b[0mword_perm\u001b[0m\u001b[1;33m)\u001b[0m\u001b[1;33m\u001b[0m\u001b[0m\n\u001b[0m",
      "\u001b[1;31mAttributeError\u001b[0m: 'list' object has no attribute 'intersection'"
     ]
    }
   ],
   "source": [
    "words.intersection(word_perm)"
   ]
  },
  {
   "cell_type": "code",
   "execution_count": 234,
   "metadata": {
    "collapsed": false
   },
   "outputs": [
    {
     "data": {
      "text/plain": [
       "['THE',\n",
       " 'PROJECT',\n",
       " 'GUTENBERG',\n",
       " 'EBOOK',\n",
       " 'OF',\n",
       " \"WEBSTER'S\",\n",
       " 'UNABRIDGED',\n",
       " 'DICTIONARY,',\n",
       " 'BY',\n",
       " 'VARIOUS',\n",
       " 'THIS',\n",
       " 'EBOOK',\n",
       " 'IS',\n",
       " 'FOR',\n",
       " 'THE',\n",
       " 'USE',\n",
       " 'OF',\n",
       " 'ANYONE',\n",
       " 'ANYWHERE',\n",
       " 'AT',\n",
       " 'NO',\n",
       " 'COST',\n",
       " 'AND',\n",
       " 'WITH',\n",
       " 'ALMOST',\n",
       " 'NO',\n",
       " 'RESTRICTIONS',\n",
       " 'WHATSOEVER.',\n",
       " 'YOU',\n",
       " 'MAY',\n",
       " 'COPY',\n",
       " 'IT,',\n",
       " 'GIVE',\n",
       " 'IT',\n",
       " 'AWAY',\n",
       " 'OR',\n",
       " 'RE-USE',\n",
       " 'IT',\n",
       " 'UNDER',\n",
       " 'THE',\n",
       " 'TERMS',\n",
       " 'OF',\n",
       " 'THE',\n",
       " 'PROJECT',\n",
       " 'GUTENBERG',\n",
       " 'LICENSE',\n",
       " 'INCLUDED',\n",
       " 'WITH',\n",
       " 'THIS',\n",
       " 'EBOOK',\n",
       " 'OR',\n",
       " 'ONLINE',\n",
       " 'AT',\n",
       " 'WWW.GUTENBERG.NET',\n",
       " 'TITLE:',\n",
       " \"WEBSTER'S\",\n",
       " 'UNABRIDGED',\n",
       " 'DICTIONARY',\n",
       " 'AUTHOR:',\n",
       " 'VARIOUS',\n",
       " 'RELEASE',\n",
       " 'DATE:',\n",
       " 'AUGUST',\n",
       " '22,',\n",
       " '2009',\n",
       " '[EBOOK',\n",
       " '#29765]',\n",
       " 'LANGUAGE:',\n",
       " 'ENGLISH',\n",
       " 'CHARACTER',\n",
       " 'SET',\n",
       " 'ENCODING:',\n",
       " 'ISO-8859-1',\n",
       " '***',\n",
       " 'START',\n",
       " 'OF',\n",
       " 'THIS',\n",
       " 'PROJECT',\n",
       " 'GUTENBERG',\n",
       " 'EBOOK',\n",
       " \"WEBSTER'S\",\n",
       " 'UNABRIDGED',\n",
       " 'DICTIONARY',\n",
       " '***',\n",
       " 'PRODUCED',\n",
       " 'BY',\n",
       " 'GRAHAM',\n",
       " 'LAWRENCE',\n",
       " 'A',\n",
       " 'A',\n",
       " '(NAMED',\n",
       " 'A',\n",
       " 'IN',\n",
       " 'THE',\n",
       " 'ENGLISH,',\n",
       " 'AND',\n",
       " 'MOST',\n",
       " 'COMMONLY',\n",
       " 'Ä',\n",
       " 'IN',\n",
       " 'OTHER',\n",
       " 'LANGUAGES).',\n",
       " 'DEFN:',\n",
       " 'THE',\n",
       " 'FIRST',\n",
       " 'LETTER',\n",
       " 'OF',\n",
       " 'THE',\n",
       " 'ENGLISH',\n",
       " 'AND',\n",
       " 'OF',\n",
       " 'MANY',\n",
       " 'OTHER',\n",
       " 'ALPHABETS.',\n",
       " 'THE',\n",
       " 'CAPITAL',\n",
       " 'A',\n",
       " 'OF',\n",
       " 'THE',\n",
       " 'ALPHABETS',\n",
       " 'OF',\n",
       " 'MIDDLE',\n",
       " 'AND',\n",
       " 'WESTERN',\n",
       " 'EUROPE,',\n",
       " 'AS',\n",
       " 'ALSO',\n",
       " 'THE',\n",
       " 'SMALL',\n",
       " 'LETTER',\n",
       " '(A),',\n",
       " 'BESIDES',\n",
       " 'THE',\n",
       " 'FORMS',\n",
       " 'IN',\n",
       " 'ITALIC,',\n",
       " 'BLACK',\n",
       " 'LETTER,',\n",
       " 'ETC.,',\n",
       " 'ARE',\n",
       " 'ALL',\n",
       " 'DESCENDED',\n",
       " 'FROM',\n",
       " 'THE',\n",
       " 'OLD',\n",
       " 'LATIN',\n",
       " 'A,',\n",
       " 'WHICH',\n",
       " 'WAS',\n",
       " 'BORROWED',\n",
       " 'FROM',\n",
       " 'THE',\n",
       " 'GREEK',\n",
       " 'ALPHA,',\n",
       " 'OF',\n",
       " 'THE',\n",
       " 'SAME',\n",
       " 'FORM;',\n",
       " 'AND',\n",
       " 'THIS',\n",
       " 'WAS',\n",
       " 'MADE',\n",
       " 'FROM',\n",
       " 'THE',\n",
       " 'FIRST',\n",
       " 'LETTER',\n",
       " '(ALEPH,',\n",
       " 'AND',\n",
       " 'ITSELF',\n",
       " 'FROM',\n",
       " 'THE',\n",
       " 'EGYPTIAN',\n",
       " 'ORIGIN.',\n",
       " 'THE',\n",
       " 'ALEPH',\n",
       " 'WAS',\n",
       " 'A',\n",
       " 'CONSONANT',\n",
       " 'LETTER,',\n",
       " 'WITH',\n",
       " 'A',\n",
       " 'GUTTURAL',\n",
       " 'BREATH',\n",
       " 'SOUND',\n",
       " 'THAT',\n",
       " 'WAS',\n",
       " 'NOT',\n",
       " 'AN',\n",
       " 'ELEMENT',\n",
       " 'OF',\n",
       " 'GREEK',\n",
       " 'ARTICULATION;',\n",
       " 'AND',\n",
       " 'THE',\n",
       " 'GREEKS',\n",
       " 'TOOK',\n",
       " 'IT',\n",
       " 'TO',\n",
       " 'REPRESENT',\n",
       " 'THEIR',\n",
       " 'VOWEL',\n",
       " 'ALPHA',\n",
       " 'WITH',\n",
       " 'THE',\n",
       " 'Ä',\n",
       " 'SOUND,',\n",
       " 'THE',\n",
       " 'PHOENICIAN',\n",
       " 'ALPHABET',\n",
       " 'HAVING',\n",
       " 'NO',\n",
       " 'VOWEL',\n",
       " 'SYMBOLS.',\n",
       " 'THIS',\n",
       " 'LETTER,',\n",
       " 'IN',\n",
       " 'ENGLISH,',\n",
       " 'IS',\n",
       " 'USED',\n",
       " 'FOR',\n",
       " 'SEVERAL',\n",
       " 'DIFFERENT',\n",
       " 'VOWEL',\n",
       " 'SOUNDS.',\n",
       " 'SEE',\n",
       " 'GUIDE',\n",
       " 'TO',\n",
       " 'PRONUNCIATION,',\n",
       " '§§',\n",
       " '43-74.',\n",
       " 'THE',\n",
       " 'REGULAR',\n",
       " 'LONG',\n",
       " 'A,',\n",
       " 'AS',\n",
       " 'IN',\n",
       " 'FATE,',\n",
       " 'ETC.,',\n",
       " 'IS',\n",
       " 'A',\n",
       " 'COMPARATIVELY',\n",
       " 'MODERN',\n",
       " 'SOUND,',\n",
       " 'AND',\n",
       " 'HAS',\n",
       " 'TAKEN',\n",
       " 'THE',\n",
       " 'PLACE',\n",
       " 'OF',\n",
       " 'WHAT,',\n",
       " 'TILL',\n",
       " 'ABOUT',\n",
       " 'THE',\n",
       " 'EARLY',\n",
       " 'PART',\n",
       " 'OF',\n",
       " 'THE',\n",
       " '17TH',\n",
       " 'CENTURY,',\n",
       " 'WAS',\n",
       " 'A',\n",
       " 'SOUND',\n",
       " 'OF',\n",
       " 'THE',\n",
       " 'QUALITY',\n",
       " 'OF',\n",
       " 'Ä',\n",
       " '(AS',\n",
       " 'IN',\n",
       " 'FAR).',\n",
       " '2.',\n",
       " '(MUS.)',\n",
       " 'DEFN:',\n",
       " 'THE',\n",
       " 'NAME',\n",
       " 'OF',\n",
       " 'THE',\n",
       " 'SIXTH',\n",
       " 'TONE',\n",
       " 'IN',\n",
       " 'THE',\n",
       " 'MODEL',\n",
       " 'MAJOR',\n",
       " 'SCALE',\n",
       " '(THAT',\n",
       " 'IN',\n",
       " 'C),',\n",
       " 'OR',\n",
       " 'THE',\n",
       " 'FIRST',\n",
       " 'TONE',\n",
       " 'OF',\n",
       " 'THE',\n",
       " 'MINOR',\n",
       " 'SCALE,',\n",
       " 'WHICH',\n",
       " 'IS',\n",
       " 'NAMED',\n",
       " 'AFTER',\n",
       " 'IT',\n",
       " 'THE',\n",
       " 'SCALE',\n",
       " 'IN',\n",
       " 'A',\n",
       " 'MINOR.',\n",
       " 'THE',\n",
       " 'SECOND',\n",
       " 'STRING',\n",
       " 'OF',\n",
       " 'THE',\n",
       " 'VIOLIN',\n",
       " 'IS',\n",
       " 'TUNED',\n",
       " 'TO',\n",
       " 'THE',\n",
       " 'A',\n",
       " 'IN',\n",
       " 'THE',\n",
       " 'TREBLE',\n",
       " 'STAFF.',\n",
       " '--',\n",
       " 'A',\n",
       " 'SHARP',\n",
       " '(A#)',\n",
       " 'IS',\n",
       " 'THE',\n",
       " 'NAME',\n",
       " 'OF',\n",
       " 'A',\n",
       " 'MUSICAL',\n",
       " 'TONE',\n",
       " 'INTERMEDIATE',\n",
       " 'BETWEEN',\n",
       " 'A',\n",
       " 'AND',\n",
       " 'B.',\n",
       " '--',\n",
       " 'A',\n",
       " 'FLAT',\n",
       " '(A)',\n",
       " 'IS',\n",
       " 'THE',\n",
       " 'NAME',\n",
       " 'OF',\n",
       " 'A',\n",
       " 'TONE',\n",
       " 'INTERMEDIATE',\n",
       " 'BETWEEN',\n",
       " 'A',\n",
       " 'AND',\n",
       " 'G.',\n",
       " 'A',\n",
       " 'PER',\n",
       " 'SE',\n",
       " 'ETYM:',\n",
       " '(L.',\n",
       " 'PER',\n",
       " 'SE',\n",
       " 'BY',\n",
       " 'ITSELF),',\n",
       " 'ONE',\n",
       " 'PREËMINENT;',\n",
       " 'A',\n",
       " 'NONESUCH.',\n",
       " '[OBS.]',\n",
       " 'O',\n",
       " 'FAIR',\n",
       " 'CRESEIDE,',\n",
       " 'THE',\n",
       " 'FLOWER',\n",
       " 'AND',\n",
       " 'A',\n",
       " 'PER',\n",
       " 'SE',\n",
       " 'OF',\n",
       " 'TROY',\n",
       " 'AND',\n",
       " 'GREECE.',\n",
       " 'CHAUCER.',\n",
       " 'A',\n",
       " 'A',\n",
       " '(#',\n",
       " 'EMPH.',\n",
       " '#).',\n",
       " '1.',\n",
       " 'ETYM:',\n",
       " '[SHORTENED',\n",
       " 'FORM',\n",
       " 'OF',\n",
       " 'AN.',\n",
       " 'AS.',\n",
       " 'AN',\n",
       " 'ONE.',\n",
       " 'SEE',\n",
       " 'ONE.]',\n",
       " 'DEFN:',\n",
       " 'AN',\n",
       " 'ADJECTIVE,',\n",
       " 'COMMONLY',\n",
       " 'CALLED',\n",
       " 'THE',\n",
       " 'INDEFINITE',\n",
       " 'ARTICLE,',\n",
       " 'AND',\n",
       " 'SIGNIFYING',\n",
       " 'ONE',\n",
       " 'OR',\n",
       " 'ANY,',\n",
       " 'BUT',\n",
       " 'LESS',\n",
       " 'EMPHATICALLY.',\n",
       " 'DEFN:',\n",
       " '\"AT',\n",
       " 'A',\n",
       " 'BIRTH\";',\n",
       " '\"IN',\n",
       " 'A',\n",
       " 'WORD\";',\n",
       " '\"AT',\n",
       " 'A',\n",
       " 'BLOW\".',\n",
       " 'SHAK.',\n",
       " 'NOTE:',\n",
       " 'IT',\n",
       " 'IS',\n",
       " 'PLACED',\n",
       " 'BEFORE',\n",
       " 'NOUNS',\n",
       " 'OF',\n",
       " 'THE',\n",
       " 'SINGULAR',\n",
       " 'NUMBER',\n",
       " 'DENOTING',\n",
       " 'AN',\n",
       " 'INDIVIDUAL',\n",
       " 'OBJECT,',\n",
       " 'OR',\n",
       " 'A',\n",
       " 'QUALITY',\n",
       " 'INDIVIDUALIZED,',\n",
       " 'BEFORE',\n",
       " 'COLLECTIVE',\n",
       " 'NOUNS,',\n",
       " 'AND',\n",
       " 'ALSO',\n",
       " 'BEFORE',\n",
       " 'PLURAL',\n",
       " 'NOUNS',\n",
       " 'WHEN',\n",
       " 'THE',\n",
       " 'ADJECTIVE',\n",
       " 'FEW',\n",
       " 'OR',\n",
       " 'THE',\n",
       " 'PHRASE',\n",
       " 'GREAT',\n",
       " 'MANY',\n",
       " 'OR',\n",
       " 'GOOD',\n",
       " 'MANY',\n",
       " 'IS',\n",
       " 'INTERPOSED;',\n",
       " 'AS,',\n",
       " 'A',\n",
       " 'DOG,',\n",
       " 'A',\n",
       " 'HOUSE,',\n",
       " 'A',\n",
       " 'MAN;',\n",
       " 'A',\n",
       " 'COLOR;',\n",
       " 'A',\n",
       " 'SWEETNESS;',\n",
       " 'A',\n",
       " 'HUNDRED,',\n",
       " 'A',\n",
       " 'FLEET,',\n",
       " 'A',\n",
       " 'REGIMENT;',\n",
       " 'A',\n",
       " 'FEW',\n",
       " 'PERSONS,',\n",
       " 'A',\n",
       " 'GREAT',\n",
       " 'MANY',\n",
       " 'DAYS.',\n",
       " 'IT',\n",
       " 'IS',\n",
       " 'USED',\n",
       " 'FOR',\n",
       " 'AN,',\n",
       " 'FOR',\n",
       " 'THE',\n",
       " 'SAKE',\n",
       " 'OF',\n",
       " 'EUPHONY,',\n",
       " 'BEFORE',\n",
       " 'WORDS',\n",
       " 'BEGINNING',\n",
       " 'WITH',\n",
       " 'A',\n",
       " 'CONSONANT',\n",
       " 'SOUND',\n",
       " '[FOR',\n",
       " 'EXCEPTION',\n",
       " 'OF',\n",
       " 'CERTAIN',\n",
       " 'WORDS',\n",
       " 'BEGINNING',\n",
       " 'WITH',\n",
       " 'H,',\n",
       " 'SEE',\n",
       " 'AN];',\n",
       " 'AS,',\n",
       " 'A',\n",
       " 'TABLE,',\n",
       " 'A',\n",
       " 'WOMAN,',\n",
       " 'A',\n",
       " 'YEAR,',\n",
       " 'A',\n",
       " 'UNIT,',\n",
       " 'A',\n",
       " 'EULOGY,',\n",
       " 'A',\n",
       " 'EWE,',\n",
       " 'A',\n",
       " 'ONENESS,',\n",
       " 'SUCH',\n",
       " 'A',\n",
       " 'ONE,',\n",
       " 'ETC.',\n",
       " 'FORMALLY',\n",
       " 'AN',\n",
       " 'WAS',\n",
       " 'USED',\n",
       " 'BOTH',\n",
       " 'BEFORE',\n",
       " 'VOWELS',\n",
       " 'AND',\n",
       " 'CONSONANTS.',\n",
       " '2.',\n",
       " 'ETYM:',\n",
       " '[ORIGINALLY',\n",
       " 'THE',\n",
       " 'PREPOSITION',\n",
       " 'A',\n",
       " '(AN,',\n",
       " 'ON).]',\n",
       " 'DEFN:',\n",
       " 'IN',\n",
       " 'EACH;',\n",
       " 'TO',\n",
       " 'OR',\n",
       " 'FOR',\n",
       " 'EACH;',\n",
       " 'AS,',\n",
       " '\"TWENTY',\n",
       " 'LEAGUES',\n",
       " 'A',\n",
       " 'DAY\",',\n",
       " '\"A',\n",
       " 'HUNDRED',\n",
       " 'POUNDS',\n",
       " 'A',\n",
       " 'YEAR\",',\n",
       " '\"A',\n",
       " 'DOLLAR',\n",
       " 'A',\n",
       " 'YARD\",',\n",
       " 'ETC.',\n",
       " 'A',\n",
       " 'A,',\n",
       " 'PREP.',\n",
       " 'ETYM:',\n",
       " '[ABBREVIATED',\n",
       " 'FORM',\n",
       " 'OF',\n",
       " 'AN',\n",
       " '(AS.',\n",
       " 'ON).',\n",
       " 'SEE',\n",
       " 'ON.]',\n",
       " '1.',\n",
       " 'IN;',\n",
       " 'ON;',\n",
       " 'AT;',\n",
       " 'BY.',\n",
       " '[OBS.]',\n",
       " '\"A',\n",
       " \"GOD'S\",\n",
       " 'NAME.\"',\n",
       " '\"TORN',\n",
       " 'A',\n",
       " 'PIECES.\"',\n",
       " '\"STAND',\n",
       " 'A',\n",
       " 'TIPTOE.\"',\n",
       " '\"A',\n",
       " 'SUNDAYS\"',\n",
       " 'SHAK.',\n",
       " '\"WIT',\n",
       " 'THAT',\n",
       " 'MEN',\n",
       " 'HAVE',\n",
       " 'NOW',\n",
       " 'A',\n",
       " 'DAYS.\"',\n",
       " 'CHAUCER.',\n",
       " '\"SET',\n",
       " 'THEM',\n",
       " 'A',\n",
       " 'WORK.\"',\n",
       " 'ROBYNSON',\n",
       " \"(MORE'S\",\n",
       " 'UTOPIA)',\n",
       " '2.',\n",
       " 'IN',\n",
       " 'PROCESS',\n",
       " 'OF;',\n",
       " 'IN',\n",
       " 'THE',\n",
       " 'ACT',\n",
       " 'OF;',\n",
       " 'INTO;',\n",
       " 'TO;',\n",
       " '--',\n",
       " 'USED',\n",
       " 'WITH',\n",
       " 'VERBAL',\n",
       " 'SUBSTANTIVES',\n",
       " 'IN',\n",
       " '-ING',\n",
       " 'WHICH',\n",
       " 'BEGIN',\n",
       " 'WITH',\n",
       " 'A',\n",
       " 'CONSONANT.',\n",
       " 'THIS',\n",
       " 'IS',\n",
       " 'A',\n",
       " 'SHORTENED',\n",
       " 'FORM',\n",
       " 'OF',\n",
       " 'THE',\n",
       " 'PREPOSITION',\n",
       " 'AN',\n",
       " '(WHICH',\n",
       " 'WAS',\n",
       " 'USED',\n",
       " 'BEFORE',\n",
       " 'THE',\n",
       " 'VOWEL',\n",
       " 'SOUND);',\n",
       " 'AS',\n",
       " 'IN',\n",
       " 'A',\n",
       " 'HUNTING,',\n",
       " 'A',\n",
       " 'BUILDING,',\n",
       " 'A',\n",
       " 'BEGGING.',\n",
       " '\"JACOB,',\n",
       " 'WHEN',\n",
       " 'HE',\n",
       " 'WAS',\n",
       " 'A',\n",
       " 'DYING\"',\n",
       " 'HEB.',\n",
       " 'XI.',\n",
       " '21.',\n",
       " '\"WE\\'LL',\n",
       " 'A',\n",
       " 'BIRDING',\n",
       " 'TOGETHER.\"',\n",
       " '\"',\n",
       " 'IT',\n",
       " 'WAS',\n",
       " 'A',\n",
       " 'DOING.\"',\n",
       " 'SHAK.',\n",
       " '\"HE',\n",
       " 'BURST',\n",
       " 'OUT',\n",
       " 'A',\n",
       " 'LAUGHING.\"',\n",
       " 'MACAULAY.',\n",
       " 'THE',\n",
       " 'HYPHEN',\n",
       " 'MAY',\n",
       " 'BE',\n",
       " 'USED',\n",
       " 'TO',\n",
       " 'CONNECT',\n",
       " 'A',\n",
       " 'WITH',\n",
       " 'THE',\n",
       " 'VERBAL',\n",
       " 'SUBSTANTIVE',\n",
       " '(AS,',\n",
       " 'A-HUNTING,',\n",
       " 'A-BUILDING)',\n",
       " 'OR',\n",
       " 'THE',\n",
       " 'WORDS',\n",
       " 'MAY',\n",
       " 'BE',\n",
       " 'WRITTEN',\n",
       " 'SEPARATELY.',\n",
       " 'THIS',\n",
       " 'FORM',\n",
       " 'OF',\n",
       " 'EXPRESSION',\n",
       " 'IS',\n",
       " 'NOW',\n",
       " 'FOR',\n",
       " 'THE',\n",
       " 'MOST',\n",
       " 'PART',\n",
       " 'OBSOLETE,',\n",
       " 'THE',\n",
       " 'A',\n",
       " 'BEING',\n",
       " 'OMITTED',\n",
       " 'AND',\n",
       " 'THE',\n",
       " 'VERBAL',\n",
       " 'SUBSTANTIVE',\n",
       " 'TREATED',\n",
       " 'AS',\n",
       " 'A',\n",
       " 'PARTICIPLE.',\n",
       " 'A',\n",
       " 'A.',\n",
       " 'ETYM:',\n",
       " '[FROM',\n",
       " 'AS.',\n",
       " 'OF',\n",
       " 'OFF,',\n",
       " 'FROM.',\n",
       " 'SEE',\n",
       " 'OF.]',\n",
       " 'DEFN:',\n",
       " 'OF.',\n",
       " '[OBS.]',\n",
       " '\"THE',\n",
       " 'NAME',\n",
       " 'OF',\n",
       " 'JOHN',\n",
       " 'A',\n",
       " 'GAUNT.\"',\n",
       " '\"WHAT',\n",
       " 'TIME',\n",
       " 'A',\n",
       " 'DAY',\n",
       " 'IS',\n",
       " 'IT',\n",
       " '\"',\n",
       " 'SHAK.',\n",
       " '\"IT\\'S',\n",
       " 'SIX',\n",
       " 'A',\n",
       " 'CLOCK.\"',\n",
       " 'B.',\n",
       " 'JONSON.',\n",
       " 'A',\n",
       " 'A.',\n",
       " 'DEFN:',\n",
       " 'A',\n",
       " 'BARBAROUS',\n",
       " 'CORRUPTION',\n",
       " 'OF',\n",
       " 'HAVE,',\n",
       " 'OF',\n",
       " 'HE,',\n",
       " 'AND',\n",
       " 'SOMETIMES',\n",
       " 'OF',\n",
       " 'IT',\n",
       " 'AND',\n",
       " 'OF',\n",
       " 'THEY.',\n",
       " '\"SO',\n",
       " 'WOULD',\n",
       " 'I',\n",
       " 'A',\n",
       " 'DONE\"',\n",
       " '\"A',\n",
       " 'BRUSHES',\n",
       " 'HIS',\n",
       " 'HAT.\"',\n",
       " 'SHAK.',\n",
       " 'A',\n",
       " 'A.',\n",
       " 'DEFN:',\n",
       " 'AN',\n",
       " 'EXPLETIVE,',\n",
       " 'VOID',\n",
       " 'OF',\n",
       " 'SENSE,',\n",
       " 'TO',\n",
       " 'FILL',\n",
       " 'UP',\n",
       " 'THE',\n",
       " 'METER',\n",
       " 'A',\n",
       " 'MERRY',\n",
       " 'HEART',\n",
       " 'GOES',\n",
       " 'ALL',\n",
       " 'THE',\n",
       " 'DAY,',\n",
       " 'YOUR',\n",
       " 'SAD',\n",
       " 'TIRES',\n",
       " 'IN',\n",
       " 'A',\n",
       " 'MILE-A.',\n",
       " 'SHAK.',\n",
       " 'A-',\n",
       " 'A-',\n",
       " 'DEFN:',\n",
       " 'A,',\n",
       " 'AS',\n",
       " 'A',\n",
       " 'PREFIX',\n",
       " 'TO',\n",
       " 'ENGLISH',\n",
       " 'WORDS,',\n",
       " 'IS',\n",
       " 'DERIVED',\n",
       " 'FROM',\n",
       " 'VARIOUS',\n",
       " 'SOURCES.',\n",
       " '(1)',\n",
       " 'IT',\n",
       " 'FREQUENTLY',\n",
       " 'SIGNIFIES',\n",
       " 'ON',\n",
       " 'OR',\n",
       " 'IN',\n",
       " '(FROM',\n",
       " 'AN,',\n",
       " 'A',\n",
       " 'FORMS',\n",
       " 'OF',\n",
       " 'AS.',\n",
       " 'ON),',\n",
       " 'DENOTING',\n",
       " 'A',\n",
       " 'STATE,',\n",
       " 'AS',\n",
       " 'IN',\n",
       " 'AFOOT,',\n",
       " 'ON',\n",
       " 'FOOT,',\n",
       " 'ABED,',\n",
       " 'AMISS,',\n",
       " 'ASLEEP,',\n",
       " 'AGROUND,',\n",
       " 'ALOFT,',\n",
       " 'AWAY',\n",
       " '(AS.',\n",
       " 'ONWEG),',\n",
       " 'AND',\n",
       " 'ANALOGICALLY,',\n",
       " 'ABLAZE,',\n",
       " 'ATREMBLE,',\n",
       " 'ETC.',\n",
       " '(2)',\n",
       " 'AS.',\n",
       " 'OF',\n",
       " 'OFF,',\n",
       " 'FROM,',\n",
       " 'AS',\n",
       " 'IN',\n",
       " 'ADOWN',\n",
       " '(AS.',\n",
       " 'OFDÜNE',\n",
       " 'OFF',\n",
       " 'THE',\n",
       " 'DUN',\n",
       " 'OR',\n",
       " 'HILL).',\n",
       " '(3)',\n",
       " 'AS.',\n",
       " 'A-',\n",
       " '(GOTH.',\n",
       " 'US-,',\n",
       " 'UR-,',\n",
       " 'GER.',\n",
       " 'ER-),',\n",
       " 'USUALLY',\n",
       " 'GIVING',\n",
       " 'AN',\n",
       " 'INTENSIVE',\n",
       " 'FORCE,',\n",
       " 'AND',\n",
       " 'SOMETIMES',\n",
       " 'THE',\n",
       " 'SENSE',\n",
       " 'OF',\n",
       " 'AWAY,',\n",
       " 'ON,',\n",
       " 'BACK,',\n",
       " 'AS',\n",
       " 'IN',\n",
       " 'ARISE,',\n",
       " 'ABIDE,',\n",
       " 'AGO.',\n",
       " '(4)',\n",
       " 'OLD',\n",
       " 'ENGLISH',\n",
       " 'Y-',\n",
       " 'OR',\n",
       " 'I-',\n",
       " '(CORRUPTED',\n",
       " 'FROM',\n",
       " 'THE',\n",
       " 'AS.',\n",
       " 'INSEPARABLE',\n",
       " 'PARTICLE',\n",
       " 'GE-,',\n",
       " 'COGNATE',\n",
       " 'WITH',\n",
       " 'OHG.',\n",
       " 'GA-,',\n",
       " 'GI-,',\n",
       " 'GOTH.',\n",
       " 'GA-),',\n",
       " 'WHICH,',\n",
       " 'AS',\n",
       " 'A',\n",
       " 'PREFIX,',\n",
       " 'MADE',\n",
       " 'NO',\n",
       " 'ESSENTIAL',\n",
       " 'ADDITION',\n",
       " 'TO',\n",
       " 'THE',\n",
       " 'MEANING,',\n",
       " 'AS',\n",
       " 'IN',\n",
       " 'AWARE.',\n",
       " '(5)',\n",
       " 'FRENCH',\n",
       " 'À',\n",
       " '(L.',\n",
       " 'AD',\n",
       " 'TO),',\n",
       " 'AS',\n",
       " 'IN',\n",
       " 'ABASE,',\n",
       " 'ACHIEVE.',\n",
       " '(6)',\n",
       " 'L.',\n",
       " 'A,',\n",
       " 'AB,',\n",
       " 'ABS,',\n",
       " 'FROM,',\n",
       " 'AS',\n",
       " 'IN',\n",
       " 'AVERT.',\n",
       " '(7)',\n",
       " 'GREEK',\n",
       " 'INSEP.',\n",
       " 'PREFIX',\n",
       " 'A',\n",
       " 'WITHOUT,',\n",
       " 'OR',\n",
       " 'PRIVATIVE,',\n",
       " 'NOT,',\n",
       " 'AS',\n",
       " 'IN',\n",
       " 'ABYSS,',\n",
       " 'ATHEIST;',\n",
       " 'AKIN',\n",
       " 'TO',\n",
       " 'E.',\n",
       " 'UN-.',\n",
       " 'NOTE:',\n",
       " 'BESIDES',\n",
       " 'THESE,',\n",
       " 'THERE',\n",
       " 'ARE',\n",
       " 'OTHER',\n",
       " 'SOURCES',\n",
       " 'FROM',\n",
       " 'WHICH',\n",
       " 'THE',\n",
       " 'PREFIX',\n",
       " 'A',\n",
       " 'TAKES',\n",
       " 'ITS',\n",
       " 'ORIGIN.',\n",
       " 'A',\n",
       " '1',\n",
       " 'A',\n",
       " '1.',\n",
       " 'A',\n",
       " ...]"
      ]
     },
     "execution_count": 234,
     "metadata": {},
     "output_type": "execute_result"
    }
   ],
   "source": [
    "words"
   ]
  },
  {
   "cell_type": "code",
   "execution_count": 238,
   "metadata": {
    "collapsed": false
   },
   "outputs": [
    {
     "name": "stdout",
     "output_type": "stream",
     "text": [
      "G:/Python Charmers/Data\\camels\\camels.csv\n",
      "G:/Python Charmers/Data\\camels\\citation.csv\n",
      "G:/Python Charmers/Data\\Energy\\BP_2014_coal_consumption_mtoe.csv\n",
      "G:/Python Charmers/Data\\Energy\\BP_2014_gas_consumption_ft3.csv\n",
      "G:/Python Charmers/Data\\Energy\\BP_2014_gas_consumption_m3.csv\n",
      "G:/Python Charmers/Data\\Energy\\BP_2014_gas_consumption_mtoe.csv\n",
      "G:/Python Charmers/Data\\Energy\\BP_2014_gas_production_ft3.csv\n",
      "G:/Python Charmers/Data\\Energy\\BP_2014_gas_production_m3.csv\n",
      "G:/Python Charmers/Data\\Energy\\BP_2014_gas_production_mtoe.csv\n",
      "G:/Python Charmers/Data\\Energy\\BP_2014_hydro_consumption_mtoe.csv\n",
      "G:/Python Charmers/Data\\Energy\\BP_2014_hydro_consumption_twh.csv\n",
      "G:/Python Charmers/Data\\Energy\\BP_2014_nuclear_consumption_mtoe.csv\n",
      "G:/Python Charmers/Data\\Energy\\BP_2014_nuclear_consumption_twh.csv\n",
      "G:/Python Charmers/Data\\Energy\\BP_2014_oil_consumption_bbl.csv\n",
      "G:/Python Charmers/Data\\Energy\\BP_2014_oil_consumption_mtoe.csv\n",
      "G:/Python Charmers/Data\\Energy\\BP_2014_oil_production_bbl.csv\n",
      "G:/Python Charmers/Data\\Energy\\BP_2014_oil_production_mtoe.csv\n",
      "G:/Python Charmers/Data\\Energy\\BP_2014_other_renewables_consumption_mtoe.csv\n",
      "G:/Python Charmers/Data\\Energy\\BP_2014_other_renewables_consumption_twh.csv\n",
      "G:/Python Charmers/Data\\Energy\\BP_2014_solar_consumption_mtoe.csv\n",
      "G:/Python Charmers/Data\\Energy\\BP_2014_solar_consumption_twh.csv\n",
      "G:/Python Charmers/Data\\Energy\\BP_2014_wind_consumption_mtoe.csv\n",
      "G:/Python Charmers/Data\\Energy\\BP_2014_wind_consumption_twh.csv\n",
      "G:/Python Charmers/Data\\lsat7_2002\\samples.csv\n",
      "G:/Python Charmers/Data\\lsat7_2002\\sample_key.csv\n",
      "G:/Python Charmers/Data\\Rainfall\\10010.csv\n",
      "G:/Python Charmers/Data\\Rainfall\\10011.csv\n",
      "G:/Python Charmers/Data\\Rainfall\\10012.csv\n",
      "G:/Python Charmers/Data\\Rainfall\\10013.csv\n"
     ]
    }
   ],
   "source": [
    "import glob\n",
    "for filename in glob.glob('G:/Python Charmers/Data/*/*.csv'):\n",
    "    print(filename)"
   ]
  },
  {
   "cell_type": "code",
   "execution_count": 242,
   "metadata": {
    "collapsed": false
   },
   "outputs": [],
   "source": [
    "import gzip\n",
    "data = gzip.open('G:/Python Charmers/Data/alice_in_wonderland.txt.gz', mode='rt').read()"
   ]
  },
  {
   "cell_type": "code",
   "execution_count": 244,
   "metadata": {
    "collapsed": false
   },
   "outputs": [
    {
     "name": "stderr",
     "output_type": "stream",
     "text": [
      "FIND: Invalid switch\n"
     ]
    }
   ],
   "source": [
    "import tarfile\n",
    "import lzma\n",
    "!find / -name \"*.tar\"\n",
    "#f=tarfile.Tarfile('/*.tar')"
   ]
  },
  {
   "cell_type": "code",
   "execution_count": 246,
   "metadata": {
    "collapsed": false
   },
   "outputs": [
    {
     "name": "stderr",
     "output_type": "stream",
     "text": [
      "'md5sum' is not recognized as an internal or external command,\n",
      "operable program or batch file.\n"
     ]
    }
   ],
   "source": [
    "!md5sum /data/044230.csv # see page 69 of lecture notes"
   ]
  },
  {
   "cell_type": "code",
   "execution_count": 251,
   "metadata": {
    "collapsed": false
   },
   "outputs": [
    {
     "ename": "NameError",
     "evalue": "name 'defaultdict' is not defined",
     "output_type": "error",
     "traceback": [
      "\u001b[1;31m---------------------------------------------------------------------------\u001b[0m",
      "\u001b[1;31mNameError\u001b[0m                                 Traceback (most recent call last)",
      "\u001b[1;32m<ipython-input-251-24d06bfda291>\u001b[0m in \u001b[0;36m<module>\u001b[1;34m()\u001b[0m\n\u001b[1;32m----> 1\u001b[1;33m \u001b[0mhashes\u001b[0m \u001b[1;33m=\u001b[0m \u001b[0mdefaultdict\u001b[0m\u001b[1;33m(\u001b[0m\u001b[0mlist\u001b[0m\u001b[1;33m)\u001b[0m\u001b[1;33m\u001b[0m\u001b[0m\n\u001b[0m\u001b[0;32m      2\u001b[0m \u001b[0mdict\u001b[0m\u001b[1;33m(\u001b[0m\u001b[0mhashes\u001b[0m\u001b[1;33m)\u001b[0m\u001b[1;33m\u001b[0m\u001b[0m\n\u001b[0;32m      3\u001b[0m \u001b[1;33m\u001b[0m\u001b[0m\n\u001b[0;32m      4\u001b[0m \u001b[1;32mimport\u001b[0m \u001b[0mos\u001b[0m\u001b[1;33m\u001b[0m\u001b[0m\n\u001b[0;32m      5\u001b[0m \u001b[1;32mfor\u001b[0m\u001b[1;33m(\u001b[0m\u001b[0mbase\u001b[0m\u001b[1;33m,\u001b[0m \u001b[0mfolders\u001b[0m\u001b[1;33m,\u001b[0m \u001b[0mfiles\u001b[0m\u001b[1;33m)\u001b[0m \u001b[1;32min\u001b[0m \u001b[0mos\u001b[0m\u001b[1;33m.\u001b[0m\u001b[0mwalk\u001b[0m\u001b[1;33m(\u001b[0m\u001b[1;34m'G:/Python Charmers/Data/'\u001b[0m\u001b[1;33m)\u001b[0m\u001b[1;33m:\u001b[0m\u001b[1;33m\u001b[0m\u001b[0m\n",
      "\u001b[1;31mNameError\u001b[0m: name 'defaultdict' is not defined"
     ]
    }
   ],
   "source": [
    "hashes = defaultdict(list)\n",
    "dict(hashes)\n",
    "\n",
    "import os\n",
    "for(base, folders, files) in os.walk('G:/Python Charmers/Data/'):\n",
    "    print(base)\n",
    "    for f in files:\n",
    "        filename = base + '/' + f\n",
    "        hashes[get_hash(filename)].append(filename)\n",
    "    return hashes"
   ]
  },
  {
   "cell_type": "code",
   "execution_count": 269,
   "metadata": {
    "collapsed": false
   },
   "outputs": [
    {
     "ename": "URLError",
     "evalue": "<urlopen error [Errno 11004] getaddrinfo failed>",
     "output_type": "error",
     "traceback": [
      "\u001b[1;31m---------------------------------------------------------------------------\u001b[0m",
      "\u001b[1;31mgaierror\u001b[0m                                  Traceback (most recent call last)",
      "\u001b[1;32mC:\\Anaconda3\\lib\\urllib\\request.py\u001b[0m in \u001b[0;36mdo_open\u001b[1;34m(self, http_class, req, **http_conn_args)\u001b[0m\n\u001b[0;32m   1239\u001b[0m             \u001b[1;32mtry\u001b[0m\u001b[1;33m:\u001b[0m\u001b[1;33m\u001b[0m\u001b[0m\n\u001b[1;32m-> 1240\u001b[1;33m                 \u001b[0mh\u001b[0m\u001b[1;33m.\u001b[0m\u001b[0mrequest\u001b[0m\u001b[1;33m(\u001b[0m\u001b[0mreq\u001b[0m\u001b[1;33m.\u001b[0m\u001b[0mget_method\u001b[0m\u001b[1;33m(\u001b[0m\u001b[1;33m)\u001b[0m\u001b[1;33m,\u001b[0m \u001b[0mreq\u001b[0m\u001b[1;33m.\u001b[0m\u001b[0mselector\u001b[0m\u001b[1;33m,\u001b[0m \u001b[0mreq\u001b[0m\u001b[1;33m.\u001b[0m\u001b[0mdata\u001b[0m\u001b[1;33m,\u001b[0m \u001b[0mheaders\u001b[0m\u001b[1;33m)\u001b[0m\u001b[1;33m\u001b[0m\u001b[0m\n\u001b[0m\u001b[0;32m   1241\u001b[0m             \u001b[1;32mexcept\u001b[0m \u001b[0mOSError\u001b[0m \u001b[1;32mas\u001b[0m \u001b[0merr\u001b[0m\u001b[1;33m:\u001b[0m \u001b[1;31m# timeout error\u001b[0m\u001b[1;33m\u001b[0m\u001b[0m\n",
      "\u001b[1;32mC:\\Anaconda3\\lib\\http\\client.py\u001b[0m in \u001b[0;36mrequest\u001b[1;34m(self, method, url, body, headers)\u001b[0m\n\u001b[0;32m   1082\u001b[0m         \u001b[1;34m\"\"\"Send a complete request to the server.\"\"\"\u001b[0m\u001b[1;33m\u001b[0m\u001b[0m\n\u001b[1;32m-> 1083\u001b[1;33m         \u001b[0mself\u001b[0m\u001b[1;33m.\u001b[0m\u001b[0m_send_request\u001b[0m\u001b[1;33m(\u001b[0m\u001b[0mmethod\u001b[0m\u001b[1;33m,\u001b[0m \u001b[0murl\u001b[0m\u001b[1;33m,\u001b[0m \u001b[0mbody\u001b[0m\u001b[1;33m,\u001b[0m \u001b[0mheaders\u001b[0m\u001b[1;33m)\u001b[0m\u001b[1;33m\u001b[0m\u001b[0m\n\u001b[0m\u001b[0;32m   1084\u001b[0m \u001b[1;33m\u001b[0m\u001b[0m\n",
      "\u001b[1;32mC:\\Anaconda3\\lib\\http\\client.py\u001b[0m in \u001b[0;36m_send_request\u001b[1;34m(self, method, url, body, headers)\u001b[0m\n\u001b[0;32m   1127\u001b[0m             \u001b[0mbody\u001b[0m \u001b[1;33m=\u001b[0m \u001b[0mbody\u001b[0m\u001b[1;33m.\u001b[0m\u001b[0mencode\u001b[0m\u001b[1;33m(\u001b[0m\u001b[1;34m'iso-8859-1'\u001b[0m\u001b[1;33m)\u001b[0m\u001b[1;33m\u001b[0m\u001b[0m\n\u001b[1;32m-> 1128\u001b[1;33m         \u001b[0mself\u001b[0m\u001b[1;33m.\u001b[0m\u001b[0mendheaders\u001b[0m\u001b[1;33m(\u001b[0m\u001b[0mbody\u001b[0m\u001b[1;33m)\u001b[0m\u001b[1;33m\u001b[0m\u001b[0m\n\u001b[0m\u001b[0;32m   1129\u001b[0m \u001b[1;33m\u001b[0m\u001b[0m\n",
      "\u001b[1;32mC:\\Anaconda3\\lib\\http\\client.py\u001b[0m in \u001b[0;36mendheaders\u001b[1;34m(self, message_body)\u001b[0m\n\u001b[0;32m   1078\u001b[0m             \u001b[1;32mraise\u001b[0m \u001b[0mCannotSendHeader\u001b[0m\u001b[1;33m(\u001b[0m\u001b[1;33m)\u001b[0m\u001b[1;33m\u001b[0m\u001b[0m\n\u001b[1;32m-> 1079\u001b[1;33m         \u001b[0mself\u001b[0m\u001b[1;33m.\u001b[0m\u001b[0m_send_output\u001b[0m\u001b[1;33m(\u001b[0m\u001b[0mmessage_body\u001b[0m\u001b[1;33m)\u001b[0m\u001b[1;33m\u001b[0m\u001b[0m\n\u001b[0m\u001b[0;32m   1080\u001b[0m \u001b[1;33m\u001b[0m\u001b[0m\n",
      "\u001b[1;32mC:\\Anaconda3\\lib\\http\\client.py\u001b[0m in \u001b[0;36m_send_output\u001b[1;34m(self, message_body)\u001b[0m\n\u001b[0;32m    910\u001b[0m \u001b[1;33m\u001b[0m\u001b[0m\n\u001b[1;32m--> 911\u001b[1;33m         \u001b[0mself\u001b[0m\u001b[1;33m.\u001b[0m\u001b[0msend\u001b[0m\u001b[1;33m(\u001b[0m\u001b[0mmsg\u001b[0m\u001b[1;33m)\u001b[0m\u001b[1;33m\u001b[0m\u001b[0m\n\u001b[0m\u001b[0;32m    912\u001b[0m         \u001b[1;32mif\u001b[0m \u001b[0mmessage_body\u001b[0m \u001b[1;32mis\u001b[0m \u001b[1;32mnot\u001b[0m \u001b[1;32mNone\u001b[0m\u001b[1;33m:\u001b[0m\u001b[1;33m\u001b[0m\u001b[0m\n",
      "\u001b[1;32mC:\\Anaconda3\\lib\\http\\client.py\u001b[0m in \u001b[0;36msend\u001b[1;34m(self, data)\u001b[0m\n\u001b[0;32m    853\u001b[0m             \u001b[1;32mif\u001b[0m \u001b[0mself\u001b[0m\u001b[1;33m.\u001b[0m\u001b[0mauto_open\u001b[0m\u001b[1;33m:\u001b[0m\u001b[1;33m\u001b[0m\u001b[0m\n\u001b[1;32m--> 854\u001b[1;33m                 \u001b[0mself\u001b[0m\u001b[1;33m.\u001b[0m\u001b[0mconnect\u001b[0m\u001b[1;33m(\u001b[0m\u001b[1;33m)\u001b[0m\u001b[1;33m\u001b[0m\u001b[0m\n\u001b[0m\u001b[0;32m    855\u001b[0m             \u001b[1;32melse\u001b[0m\u001b[1;33m:\u001b[0m\u001b[1;33m\u001b[0m\u001b[0m\n",
      "\u001b[1;32mC:\\Anaconda3\\lib\\http\\client.py\u001b[0m in \u001b[0;36mconnect\u001b[1;34m(self)\u001b[0m\n\u001b[0;32m    825\u001b[0m         self.sock = self._create_connection(\n\u001b[1;32m--> 826\u001b[1;33m             (self.host,self.port), self.timeout, self.source_address)\n\u001b[0m\u001b[0;32m    827\u001b[0m         \u001b[0mself\u001b[0m\u001b[1;33m.\u001b[0m\u001b[0msock\u001b[0m\u001b[1;33m.\u001b[0m\u001b[0msetsockopt\u001b[0m\u001b[1;33m(\u001b[0m\u001b[0msocket\u001b[0m\u001b[1;33m.\u001b[0m\u001b[0mIPPROTO_TCP\u001b[0m\u001b[1;33m,\u001b[0m \u001b[0msocket\u001b[0m\u001b[1;33m.\u001b[0m\u001b[0mTCP_NODELAY\u001b[0m\u001b[1;33m,\u001b[0m \u001b[1;36m1\u001b[0m\u001b[1;33m)\u001b[0m\u001b[1;33m\u001b[0m\u001b[0m\n",
      "\u001b[1;32mC:\\Anaconda3\\lib\\socket.py\u001b[0m in \u001b[0;36mcreate_connection\u001b[1;34m(address, timeout, source_address)\u001b[0m\n\u001b[0;32m    688\u001b[0m     \u001b[0merr\u001b[0m \u001b[1;33m=\u001b[0m \u001b[1;32mNone\u001b[0m\u001b[1;33m\u001b[0m\u001b[0m\n\u001b[1;32m--> 689\u001b[1;33m     \u001b[1;32mfor\u001b[0m \u001b[0mres\u001b[0m \u001b[1;32min\u001b[0m \u001b[0mgetaddrinfo\u001b[0m\u001b[1;33m(\u001b[0m\u001b[0mhost\u001b[0m\u001b[1;33m,\u001b[0m \u001b[0mport\u001b[0m\u001b[1;33m,\u001b[0m \u001b[1;36m0\u001b[0m\u001b[1;33m,\u001b[0m \u001b[0mSOCK_STREAM\u001b[0m\u001b[1;33m)\u001b[0m\u001b[1;33m:\u001b[0m\u001b[1;33m\u001b[0m\u001b[0m\n\u001b[0m\u001b[0;32m    690\u001b[0m         \u001b[0maf\u001b[0m\u001b[1;33m,\u001b[0m \u001b[0msocktype\u001b[0m\u001b[1;33m,\u001b[0m \u001b[0mproto\u001b[0m\u001b[1;33m,\u001b[0m \u001b[0mcanonname\u001b[0m\u001b[1;33m,\u001b[0m \u001b[0msa\u001b[0m \u001b[1;33m=\u001b[0m \u001b[0mres\u001b[0m\u001b[1;33m\u001b[0m\u001b[0m\n",
      "\u001b[1;32mC:\\Anaconda3\\lib\\socket.py\u001b[0m in \u001b[0;36mgetaddrinfo\u001b[1;34m(host, port, family, type, proto, flags)\u001b[0m\n\u001b[0;32m    727\u001b[0m     \u001b[0maddrlist\u001b[0m \u001b[1;33m=\u001b[0m \u001b[1;33m[\u001b[0m\u001b[1;33m]\u001b[0m\u001b[1;33m\u001b[0m\u001b[0m\n\u001b[1;32m--> 728\u001b[1;33m     \u001b[1;32mfor\u001b[0m \u001b[0mres\u001b[0m \u001b[1;32min\u001b[0m \u001b[0m_socket\u001b[0m\u001b[1;33m.\u001b[0m\u001b[0mgetaddrinfo\u001b[0m\u001b[1;33m(\u001b[0m\u001b[0mhost\u001b[0m\u001b[1;33m,\u001b[0m \u001b[0mport\u001b[0m\u001b[1;33m,\u001b[0m \u001b[0mfamily\u001b[0m\u001b[1;33m,\u001b[0m \u001b[0mtype\u001b[0m\u001b[1;33m,\u001b[0m \u001b[0mproto\u001b[0m\u001b[1;33m,\u001b[0m \u001b[0mflags\u001b[0m\u001b[1;33m)\u001b[0m\u001b[1;33m:\u001b[0m\u001b[1;33m\u001b[0m\u001b[0m\n\u001b[0m\u001b[0;32m    729\u001b[0m         \u001b[0maf\u001b[0m\u001b[1;33m,\u001b[0m \u001b[0msocktype\u001b[0m\u001b[1;33m,\u001b[0m \u001b[0mproto\u001b[0m\u001b[1;33m,\u001b[0m \u001b[0mcanonname\u001b[0m\u001b[1;33m,\u001b[0m \u001b[0msa\u001b[0m \u001b[1;33m=\u001b[0m \u001b[0mres\u001b[0m\u001b[1;33m\u001b[0m\u001b[0m\n",
      "\u001b[1;31mgaierror\u001b[0m: [Errno 11004] getaddrinfo failed",
      "\nDuring handling of the above exception, another exception occurred:\n",
      "\u001b[1;31mURLError\u001b[0m                                  Traceback (most recent call last)",
      "\u001b[1;32m<ipython-input-269-629fd044b109>\u001b[0m in \u001b[0;36m<module>\u001b[1;34m()\u001b[0m\n\u001b[0;32m      1\u001b[0m \u001b[1;32mimport\u001b[0m \u001b[0murllib\u001b[0m\u001b[1;33m.\u001b[0m\u001b[0mrequest\u001b[0m\u001b[1;33m\u001b[0m\u001b[0m\n\u001b[1;32m----> 2\u001b[1;33m \u001b[0mresponse\u001b[0m \u001b[1;33m=\u001b[0m \u001b[0murllib\u001b[0m\u001b[1;33m.\u001b[0m\u001b[0mrequest\u001b[0m\u001b[1;33m.\u001b[0m\u001b[0murlopen\u001b[0m\u001b[1;33m(\u001b[0m\u001b[1;34m'http://google.com'\u001b[0m\u001b[1;33m)\u001b[0m\u001b[1;33m\u001b[0m\u001b[0m\n\u001b[0m\u001b[0;32m      3\u001b[0m \u001b[0mdata\u001b[0m \u001b[1;33m=\u001b[0m \u001b[0mresponse\u001b[0m\u001b[1;33m.\u001b[0m\u001b[0mread\u001b[0m\u001b[1;33m(\u001b[0m\u001b[1;33m)\u001b[0m\u001b[1;33m\u001b[0m\u001b[0m\n\u001b[0;32m      4\u001b[0m \u001b[0mdata\u001b[0m\u001b[1;33m[\u001b[0m\u001b[1;33m:\u001b[0m\u001b[1;36m100\u001b[0m\u001b[1;33m]\u001b[0m\u001b[1;33m\u001b[0m\u001b[0m\n",
      "\u001b[1;32mC:\\Anaconda3\\lib\\urllib\\request.py\u001b[0m in \u001b[0;36murlopen\u001b[1;34m(url, data, timeout, cafile, capath, cadefault, context)\u001b[0m\n\u001b[0;32m    160\u001b[0m     \u001b[1;32melse\u001b[0m\u001b[1;33m:\u001b[0m\u001b[1;33m\u001b[0m\u001b[0m\n\u001b[0;32m    161\u001b[0m         \u001b[0mopener\u001b[0m \u001b[1;33m=\u001b[0m \u001b[0m_opener\u001b[0m\u001b[1;33m\u001b[0m\u001b[0m\n\u001b[1;32m--> 162\u001b[1;33m     \u001b[1;32mreturn\u001b[0m \u001b[0mopener\u001b[0m\u001b[1;33m.\u001b[0m\u001b[0mopen\u001b[0m\u001b[1;33m(\u001b[0m\u001b[0murl\u001b[0m\u001b[1;33m,\u001b[0m \u001b[0mdata\u001b[0m\u001b[1;33m,\u001b[0m \u001b[0mtimeout\u001b[0m\u001b[1;33m)\u001b[0m\u001b[1;33m\u001b[0m\u001b[0m\n\u001b[0m\u001b[0;32m    163\u001b[0m \u001b[1;33m\u001b[0m\u001b[0m\n\u001b[0;32m    164\u001b[0m \u001b[1;32mdef\u001b[0m \u001b[0minstall_opener\u001b[0m\u001b[1;33m(\u001b[0m\u001b[0mopener\u001b[0m\u001b[1;33m)\u001b[0m\u001b[1;33m:\u001b[0m\u001b[1;33m\u001b[0m\u001b[0m\n",
      "\u001b[1;32mC:\\Anaconda3\\lib\\urllib\\request.py\u001b[0m in \u001b[0;36mopen\u001b[1;34m(self, fullurl, data, timeout)\u001b[0m\n\u001b[0;32m    463\u001b[0m             \u001b[0mreq\u001b[0m \u001b[1;33m=\u001b[0m \u001b[0mmeth\u001b[0m\u001b[1;33m(\u001b[0m\u001b[0mreq\u001b[0m\u001b[1;33m)\u001b[0m\u001b[1;33m\u001b[0m\u001b[0m\n\u001b[0;32m    464\u001b[0m \u001b[1;33m\u001b[0m\u001b[0m\n\u001b[1;32m--> 465\u001b[1;33m         \u001b[0mresponse\u001b[0m \u001b[1;33m=\u001b[0m \u001b[0mself\u001b[0m\u001b[1;33m.\u001b[0m\u001b[0m_open\u001b[0m\u001b[1;33m(\u001b[0m\u001b[0mreq\u001b[0m\u001b[1;33m,\u001b[0m \u001b[0mdata\u001b[0m\u001b[1;33m)\u001b[0m\u001b[1;33m\u001b[0m\u001b[0m\n\u001b[0m\u001b[0;32m    466\u001b[0m \u001b[1;33m\u001b[0m\u001b[0m\n\u001b[0;32m    467\u001b[0m         \u001b[1;31m# post-process response\u001b[0m\u001b[1;33m\u001b[0m\u001b[1;33m\u001b[0m\u001b[0m\n",
      "\u001b[1;32mC:\\Anaconda3\\lib\\urllib\\request.py\u001b[0m in \u001b[0;36m_open\u001b[1;34m(self, req, data)\u001b[0m\n\u001b[0;32m    481\u001b[0m         \u001b[0mprotocol\u001b[0m \u001b[1;33m=\u001b[0m \u001b[0mreq\u001b[0m\u001b[1;33m.\u001b[0m\u001b[0mtype\u001b[0m\u001b[1;33m\u001b[0m\u001b[0m\n\u001b[0;32m    482\u001b[0m         result = self._call_chain(self.handle_open, protocol, protocol +\n\u001b[1;32m--> 483\u001b[1;33m                                   '_open', req)\n\u001b[0m\u001b[0;32m    484\u001b[0m         \u001b[1;32mif\u001b[0m \u001b[0mresult\u001b[0m\u001b[1;33m:\u001b[0m\u001b[1;33m\u001b[0m\u001b[0m\n\u001b[0;32m    485\u001b[0m             \u001b[1;32mreturn\u001b[0m \u001b[0mresult\u001b[0m\u001b[1;33m\u001b[0m\u001b[0m\n",
      "\u001b[1;32mC:\\Anaconda3\\lib\\urllib\\request.py\u001b[0m in \u001b[0;36m_call_chain\u001b[1;34m(self, chain, kind, meth_name, *args)\u001b[0m\n\u001b[0;32m    441\u001b[0m         \u001b[1;32mfor\u001b[0m \u001b[0mhandler\u001b[0m \u001b[1;32min\u001b[0m \u001b[0mhandlers\u001b[0m\u001b[1;33m:\u001b[0m\u001b[1;33m\u001b[0m\u001b[0m\n\u001b[0;32m    442\u001b[0m             \u001b[0mfunc\u001b[0m \u001b[1;33m=\u001b[0m \u001b[0mgetattr\u001b[0m\u001b[1;33m(\u001b[0m\u001b[0mhandler\u001b[0m\u001b[1;33m,\u001b[0m \u001b[0mmeth_name\u001b[0m\u001b[1;33m)\u001b[0m\u001b[1;33m\u001b[0m\u001b[0m\n\u001b[1;32m--> 443\u001b[1;33m             \u001b[0mresult\u001b[0m \u001b[1;33m=\u001b[0m \u001b[0mfunc\u001b[0m\u001b[1;33m(\u001b[0m\u001b[1;33m*\u001b[0m\u001b[0margs\u001b[0m\u001b[1;33m)\u001b[0m\u001b[1;33m\u001b[0m\u001b[0m\n\u001b[0m\u001b[0;32m    444\u001b[0m             \u001b[1;32mif\u001b[0m \u001b[0mresult\u001b[0m \u001b[1;32mis\u001b[0m \u001b[1;32mnot\u001b[0m \u001b[1;32mNone\u001b[0m\u001b[1;33m:\u001b[0m\u001b[1;33m\u001b[0m\u001b[0m\n\u001b[0;32m    445\u001b[0m                 \u001b[1;32mreturn\u001b[0m \u001b[0mresult\u001b[0m\u001b[1;33m\u001b[0m\u001b[0m\n",
      "\u001b[1;32mC:\\Anaconda3\\lib\\urllib\\request.py\u001b[0m in \u001b[0;36mhttp_open\u001b[1;34m(self, req)\u001b[0m\n\u001b[0;32m   1266\u001b[0m \u001b[1;33m\u001b[0m\u001b[0m\n\u001b[0;32m   1267\u001b[0m     \u001b[1;32mdef\u001b[0m \u001b[0mhttp_open\u001b[0m\u001b[1;33m(\u001b[0m\u001b[0mself\u001b[0m\u001b[1;33m,\u001b[0m \u001b[0mreq\u001b[0m\u001b[1;33m)\u001b[0m\u001b[1;33m:\u001b[0m\u001b[1;33m\u001b[0m\u001b[0m\n\u001b[1;32m-> 1268\u001b[1;33m         \u001b[1;32mreturn\u001b[0m \u001b[0mself\u001b[0m\u001b[1;33m.\u001b[0m\u001b[0mdo_open\u001b[0m\u001b[1;33m(\u001b[0m\u001b[0mhttp\u001b[0m\u001b[1;33m.\u001b[0m\u001b[0mclient\u001b[0m\u001b[1;33m.\u001b[0m\u001b[0mHTTPConnection\u001b[0m\u001b[1;33m,\u001b[0m \u001b[0mreq\u001b[0m\u001b[1;33m)\u001b[0m\u001b[1;33m\u001b[0m\u001b[0m\n\u001b[0m\u001b[0;32m   1269\u001b[0m \u001b[1;33m\u001b[0m\u001b[0m\n\u001b[0;32m   1270\u001b[0m     \u001b[0mhttp_request\u001b[0m \u001b[1;33m=\u001b[0m \u001b[0mAbstractHTTPHandler\u001b[0m\u001b[1;33m.\u001b[0m\u001b[0mdo_request_\u001b[0m\u001b[1;33m\u001b[0m\u001b[0m\n",
      "\u001b[1;32mC:\\Anaconda3\\lib\\urllib\\request.py\u001b[0m in \u001b[0;36mdo_open\u001b[1;34m(self, http_class, req, **http_conn_args)\u001b[0m\n\u001b[0;32m   1240\u001b[0m                 \u001b[0mh\u001b[0m\u001b[1;33m.\u001b[0m\u001b[0mrequest\u001b[0m\u001b[1;33m(\u001b[0m\u001b[0mreq\u001b[0m\u001b[1;33m.\u001b[0m\u001b[0mget_method\u001b[0m\u001b[1;33m(\u001b[0m\u001b[1;33m)\u001b[0m\u001b[1;33m,\u001b[0m \u001b[0mreq\u001b[0m\u001b[1;33m.\u001b[0m\u001b[0mselector\u001b[0m\u001b[1;33m,\u001b[0m \u001b[0mreq\u001b[0m\u001b[1;33m.\u001b[0m\u001b[0mdata\u001b[0m\u001b[1;33m,\u001b[0m \u001b[0mheaders\u001b[0m\u001b[1;33m)\u001b[0m\u001b[1;33m\u001b[0m\u001b[0m\n\u001b[0;32m   1241\u001b[0m             \u001b[1;32mexcept\u001b[0m \u001b[0mOSError\u001b[0m \u001b[1;32mas\u001b[0m \u001b[0merr\u001b[0m\u001b[1;33m:\u001b[0m \u001b[1;31m# timeout error\u001b[0m\u001b[1;33m\u001b[0m\u001b[0m\n\u001b[1;32m-> 1242\u001b[1;33m                 \u001b[1;32mraise\u001b[0m \u001b[0mURLError\u001b[0m\u001b[1;33m(\u001b[0m\u001b[0merr\u001b[0m\u001b[1;33m)\u001b[0m\u001b[1;33m\u001b[0m\u001b[0m\n\u001b[0m\u001b[0;32m   1243\u001b[0m             \u001b[0mr\u001b[0m \u001b[1;33m=\u001b[0m \u001b[0mh\u001b[0m\u001b[1;33m.\u001b[0m\u001b[0mgetresponse\u001b[0m\u001b[1;33m(\u001b[0m\u001b[1;33m)\u001b[0m\u001b[1;33m\u001b[0m\u001b[0m\n\u001b[0;32m   1244\u001b[0m         \u001b[1;32mexcept\u001b[0m\u001b[1;33m:\u001b[0m\u001b[1;33m\u001b[0m\u001b[0m\n",
      "\u001b[1;31mURLError\u001b[0m: <urlopen error [Errno 11004] getaddrinfo failed>"
     ]
    }
   ],
   "source": [
    "import urllib.request\n",
    "response = urllib.request.urlopen('http://google.com')\n",
    "data = response.read()\n",
    "data[:100]"
   ]
  },
  {
   "cell_type": "code",
   "execution_count": 258,
   "metadata": {
    "collapsed": true
   },
   "outputs": [],
   "source": [
    "import datetime as dt\n",
    "today = dt.date(2015,12,2)"
   ]
  },
  {
   "cell_type": "code",
   "execution_count": 259,
   "metadata": {
    "collapsed": false
   },
   "outputs": [
    {
     "data": {
      "text/plain": [
       "2"
      ]
     },
     "execution_count": 259,
     "metadata": {},
     "output_type": "execute_result"
    }
   ],
   "source": [
    "today.weekday()"
   ]
  },
  {
   "cell_type": "code",
   "execution_count": 263,
   "metadata": {
    "collapsed": true
   },
   "outputs": [],
   "source": [
    "future = today + dt.timedelta(days=1000)"
   ]
  },
  {
   "cell_type": "code",
   "execution_count": 264,
   "metadata": {
    "collapsed": false
   },
   "outputs": [
    {
     "data": {
      "text/plain": [
       "datetime.timedelta(2000)"
      ]
     },
     "execution_count": 264,
     "metadata": {},
     "output_type": "execute_result"
    }
   ],
   "source": [
    "future"
   ]
  },
  {
   "cell_type": "code",
   "execution_count": 266,
   "metadata": {
    "collapsed": false
   },
   "outputs": [
    {
     "data": {
      "text/plain": [
       "datetime.date(2013, 3, 30)"
      ]
     },
     "execution_count": 266,
     "metadata": {},
     "output_type": "execute_result"
    }
   ],
   "source": [
    "dt.date(2015, 12, 25) - today"
   ]
  },
  {
   "cell_type": "code",
   "execution_count": 17,
   "metadata": {
    "collapsed": false
   },
   "outputs": [
    {
     "ename": "ValueError",
     "evalue": "total size of new array must be unchanged",
     "output_type": "error",
     "traceback": [
      "\u001b[1;31m---------------------------------------------------------------------------\u001b[0m",
      "\u001b[1;31mValueError\u001b[0m                                Traceback (most recent call last)",
      "\u001b[1;32m<ipython-input-17-1193a5cbb963>\u001b[0m in \u001b[0;36m<module>\u001b[1;34m()\u001b[0m\n\u001b[0;32m      2\u001b[0m \u001b[1;31m# randint(low, high=None, size=None)\u001b[0m\u001b[1;33m\u001b[0m\u001b[1;33m\u001b[0m\u001b[0m\n\u001b[0;32m      3\u001b[0m \u001b[1;32mimport\u001b[0m \u001b[0mnumpy\u001b[0m \u001b[1;32mas\u001b[0m \u001b[0mnp\u001b[0m\u001b[1;33m\u001b[0m\u001b[0m\n\u001b[1;32m----> 4\u001b[1;33m \u001b[0mx\u001b[0m\u001b[1;33m=\u001b[0m\u001b[0mnp\u001b[0m\u001b[1;33m.\u001b[0m\u001b[0mrandom\u001b[0m\u001b[1;33m.\u001b[0m\u001b[0mrandint\u001b[0m\u001b[1;33m(\u001b[0m\u001b[0mlow\u001b[0m\u001b[1;33m=\u001b[0m\u001b[1;36m1\u001b[0m\u001b[1;33m,\u001b[0m\u001b[0mhigh\u001b[0m\u001b[1;33m=\u001b[0m\u001b[1;36m6\u001b[0m\u001b[1;33m,\u001b[0m\u001b[0msize\u001b[0m\u001b[1;33m=\u001b[0m\u001b[1;36m5000\u001b[0m\u001b[1;33m)\u001b[0m\u001b[1;33m.\u001b[0m\u001b[0mreshape\u001b[0m\u001b[1;33m(\u001b[0m\u001b[1;36m100\u001b[0m\u001b[1;33m,\u001b[0m\u001b[1;36m5\u001b[0m\u001b[1;33m)\u001b[0m\u001b[1;33m\u001b[0m\u001b[0m\n\u001b[0m",
      "\u001b[1;31mValueError\u001b[0m: total size of new array must be unchanged"
     ]
    }
   ],
   "source": [
    "# np.random.randint(low=1, high=5, size=100)\n",
    "# randint(low, high=None, size=None)\n",
    "import numpy as np\n",
    "x=np.random.randint(low=1,high=6, size=5000).reshape(100,5)"
   ]
  },
  {
   "cell_type": "code",
   "execution_count": 14,
   "metadata": {
    "collapsed": false
   },
   "outputs": [
    {
     "data": {
      "text/plain": [
       "(array([ 129.,   76.,  121.,   90.,   78.,  118.,   85.,  123.,   85.,   95.]),\n",
       " array([  1. ,   3.4,   5.8,   8.2,  10.6,  13. ,  15.4,  17.8,  20.2,\n",
       "         22.6,  25. ]),\n",
       " <a list of 10 Patch objects>)"
      ]
     },
     "execution_count": 14,
     "metadata": {},
     "output_type": "execute_result"
    },
    {
     "data": {
      "image/png": "[encoded data removed]",
      "text/plain": [
       "<matplotlib.figure.Figure at 0x5552230>"
      ]
     },
     "metadata": {},
     "output_type": "display_data"
    }
   ],
   "source": [
    "import matplotlib.pyplot as plt\n",
    "%matplotlib inline\n",
    "plt.hist(x)\n"
   ]
  },
  {
   "cell_type": "code",
   "execution_count": 15,
   "metadata": {
    "collapsed": true
   },
   "outputs": [],
   "source": [
    "?np.random.randint?"
   ]
  },
  {
   "cell_type": "code",
   "execution_count": null,
   "metadata": {
    "collapsed": true
   },
   "outputs": [],
   "source": [
    "?np.random.randint"
   ]
  },
  {
   "cell_type": "code",
   "execution_count": 16,
   "metadata": {
    "collapsed": true
   },
   "outputs": [],
   "source": [
    "?np.random?"
   ]
  },
  {
   "cell_type": "code",
   "execution_count": null,
   "metadata": {
    "collapsed": true
   },
   "outputs": [],
   "source": [
    "?np.random"
   ]
  },
  {
   "cell_type": "code",
   "execution_count": 22,
   "metadata": {
    "collapsed": false
   },
   "outputs": [
    {
     "data": {
      "image/png": "[encoded data removed]",
      "text/plain": [
       "<matplotlib.figure.Figure at 0x58fce90>"
      ]
     },
     "metadata": {},
     "output_type": "display_data"
    }
   ],
   "source": [
    "import numpy as np\n",
    "x = np.random.randint(low=1,high=6, size=5000).reshape(1000,5)\n",
    "import matplotlib.pyplot as plt\n",
    "%matplotlib inline\n",
    "plt.hist(x, bins = np.arange(5,31));"
   ]
  },
  {
   "cell_type": "code",
   "execution_count": 27,
   "metadata": {
    "collapsed": false
   },
   "outputs": [
    {
     "data": {
      "image/png": "[encoded data removed]",
      "text/plain": [
       "<matplotlib.figure.Figure at 0x6c460b0>"
      ]
     },
     "metadata": {},
     "output_type": "display_data"
    }
   ],
   "source": [
    "x = np.linspace(0,10,100)\n",
    "y1 = np.cos(x) + np.sin(x)/np.exp(x)\n",
    "plt.plot(x, y1);\n",
    "plt.plot(x, -y1);"
   ]
  },
  {
   "cell_type": "code",
   "execution_count": 29,
   "metadata": {
    "collapsed": false
   },
   "outputs": [],
   "source": [
    "#scientific constants"
   ]
  },
  {
   "cell_type": "code",
   "execution_count": 4,
   "metadata": {
    "collapsed": false
   },
   "outputs": [
    {
     "name": "stdout",
     "output_type": "stream",
     "text": [
      "Collecting pint\n",
      "  Downloading Pint-0.6.zip (145kB)\n",
      "Building wheels for collected packages: pint\n",
      "  Running setup.py bdist_wheel for pint\n",
      "  Stored in directory: C:\\Users\\Tumpa\\AppData\\Local\\pip\\Cache\\wheels\\33\\4d\\2c\\f31c019e67d643975b26dec3e0458f984a4e01a8ad83842938\n",
      "Successfully built pint\n",
      "Installing collected packages: pint\n",
      "Successfully installed pint-0.6\n"
     ]
    }
   ],
   "source": [
    "! pip install pint"
   ]
  },
  {
   "cell_type": "code",
   "execution_count": 5,
   "metadata": {
    "collapsed": false
   },
   "outputs": [],
   "source": [
    "import pint\n",
    "u = pint.UnitRegistry()"
   ]
  },
  {
   "cell_type": "code",
   "execution_count": 6,
   "metadata": {
    "collapsed": false
   },
   "outputs": [
    {
     "data": {
      "text/html": [
       "1 speed_of_light"
      ],
      "text/latex": [
       "$1 speed_of_light$"
      ],
      "text/plain": [
       "<Quantity(1, 'speed_of_light')>"
      ]
     },
     "execution_count": 6,
     "metadata": {},
     "output_type": "execute_result"
    }
   ],
   "source": [
    "u.c"
   ]
  },
  {
   "cell_type": "code",
   "execution_count": 7,
   "metadata": {
    "collapsed": false
   },
   "outputs": [
    {
     "ename": "UndefinedUnitError",
     "evalue": "'satronomical_unit' is not defined in the unit registry",
     "output_type": "error",
     "traceback": [
      "\u001b[1;31m---------------------------------------------------------------------------\u001b[0m",
      "\u001b[1;31mUndefinedUnitError\u001b[0m                        Traceback (most recent call last)",
      "\u001b[1;32m<ipython-input-7-943af606d117>\u001b[0m in \u001b[0;36m<module>\u001b[1;34m()\u001b[0m\n\u001b[0;32m      1\u001b[0m \u001b[0mspeed\u001b[0m \u001b[1;33m=\u001b[0m \u001b[0mu\u001b[0m\u001b[1;33m.\u001b[0m\u001b[0mspeed_of_light\u001b[0m\u001b[1;33m\u001b[0m\u001b[0m\n\u001b[1;32m----> 2\u001b[1;33m \u001b[0mdistance\u001b[0m \u001b[1;33m=\u001b[0m \u001b[0mu\u001b[0m\u001b[1;33m.\u001b[0m\u001b[0msatronomical_unit\u001b[0m\u001b[1;33m\u001b[0m\u001b[0m\n\u001b[0m\u001b[0;32m      3\u001b[0m \u001b[0mtime\u001b[0m \u001b[1;33m=\u001b[0m \u001b[0mdistance\u001b[0m \u001b[1;33m/\u001b[0m \u001b[0mspeed\u001b[0m\u001b[1;33m\u001b[0m\u001b[0m\n\u001b[0;32m      4\u001b[0m \u001b[0mtime\u001b[0m\u001b[1;33m.\u001b[0m\u001b[0mto\u001b[0m\u001b[1;33m(\u001b[0m\u001b[1;34m'seconds'\u001b[0m\u001b[1;33m)\u001b[0m\u001b[1;33m\u001b[0m\u001b[0m\n",
      "\u001b[1;32mC:\\Anaconda3\\lib\\site-packages\\pint\\unit.py\u001b[0m in \u001b[0;36m__getattr__\u001b[1;34m(self, item)\u001b[0m\n\u001b[0;32m    534\u001b[0m \u001b[1;33m\u001b[0m\u001b[0m\n\u001b[0;32m    535\u001b[0m     \u001b[1;32mdef\u001b[0m \u001b[0m__getattr__\u001b[0m\u001b[1;33m(\u001b[0m\u001b[0mself\u001b[0m\u001b[1;33m,\u001b[0m \u001b[0mitem\u001b[0m\u001b[1;33m)\u001b[0m\u001b[1;33m:\u001b[0m\u001b[1;33m\u001b[0m\u001b[0m\n\u001b[1;32m--> 536\u001b[1;33m         \u001b[1;32mreturn\u001b[0m \u001b[0mself\u001b[0m\u001b[1;33m.\u001b[0m\u001b[0mQuantity\u001b[0m\u001b[1;33m(\u001b[0m\u001b[1;36m1\u001b[0m\u001b[1;33m,\u001b[0m \u001b[0mitem\u001b[0m\u001b[1;33m)\u001b[0m\u001b[1;33m\u001b[0m\u001b[0m\n\u001b[0m\u001b[0;32m    537\u001b[0m \u001b[1;33m\u001b[0m\u001b[0m\n\u001b[0;32m    538\u001b[0m     \u001b[1;32mdef\u001b[0m \u001b[0m__getitem__\u001b[0m\u001b[1;33m(\u001b[0m\u001b[0mself\u001b[0m\u001b[1;33m,\u001b[0m \u001b[0mitem\u001b[0m\u001b[1;33m)\u001b[0m\u001b[1;33m:\u001b[0m\u001b[1;33m\u001b[0m\u001b[0m\n",
      "\u001b[1;32mC:\\Anaconda3\\lib\\site-packages\\pint\\quantity.py\u001b[0m in \u001b[0;36m__new__\u001b[1;34m(cls, value, units)\u001b[0m\n\u001b[0;32m     96\u001b[0m             \u001b[0minst\u001b[0m \u001b[1;33m=\u001b[0m \u001b[0mobject\u001b[0m\u001b[1;33m.\u001b[0m\u001b[0m__new__\u001b[0m\u001b[1;33m(\u001b[0m\u001b[0mcls\u001b[0m\u001b[1;33m)\u001b[0m\u001b[1;33m\u001b[0m\u001b[0m\n\u001b[0;32m     97\u001b[0m             \u001b[0minst\u001b[0m\u001b[1;33m.\u001b[0m\u001b[0m_magnitude\u001b[0m \u001b[1;33m=\u001b[0m \u001b[0m_to_magnitude\u001b[0m\u001b[1;33m(\u001b[0m\u001b[0mvalue\u001b[0m\u001b[1;33m,\u001b[0m \u001b[0minst\u001b[0m\u001b[1;33m.\u001b[0m\u001b[0mforce_ndarray\u001b[0m\u001b[1;33m)\u001b[0m\u001b[1;33m\u001b[0m\u001b[0m\n\u001b[1;32m---> 98\u001b[1;33m             \u001b[0minst\u001b[0m\u001b[1;33m.\u001b[0m\u001b[0m_units\u001b[0m \u001b[1;33m=\u001b[0m \u001b[0minst\u001b[0m\u001b[1;33m.\u001b[0m\u001b[0m_REGISTRY\u001b[0m\u001b[1;33m.\u001b[0m\u001b[0mparse_units\u001b[0m\u001b[1;33m(\u001b[0m\u001b[0munits\u001b[0m\u001b[1;33m)\u001b[0m\u001b[1;33m\u001b[0m\u001b[0m\n\u001b[0m\u001b[0;32m     99\u001b[0m         \u001b[1;32melif\u001b[0m \u001b[0misinstance\u001b[0m\u001b[1;33m(\u001b[0m\u001b[0munits\u001b[0m\u001b[1;33m,\u001b[0m \u001b[0mcls\u001b[0m\u001b[1;33m)\u001b[0m\u001b[1;33m:\u001b[0m\u001b[1;33m\u001b[0m\u001b[0m\n\u001b[0;32m    100\u001b[0m             \u001b[1;32mif\u001b[0m \u001b[0munits\u001b[0m\u001b[1;33m.\u001b[0m\u001b[0mmagnitude\u001b[0m \u001b[1;33m!=\u001b[0m \u001b[1;36m1\u001b[0m\u001b[1;33m:\u001b[0m\u001b[1;33m\u001b[0m\u001b[0m\n",
      "\u001b[1;32mC:\\Anaconda3\\lib\\site-packages\\pint\\unit.py\u001b[0m in \u001b[0;36mparse_units\u001b[1;34m(self, input_string, as_delta)\u001b[0m\n\u001b[0;32m   1195\u001b[0m         \u001b[0mmany\u001b[0m \u001b[1;33m=\u001b[0m \u001b[0mlen\u001b[0m\u001b[1;33m(\u001b[0m\u001b[0munits\u001b[0m\u001b[1;33m)\u001b[0m \u001b[1;33m>\u001b[0m \u001b[1;36m1\u001b[0m\u001b[1;33m\u001b[0m\u001b[0m\n\u001b[0;32m   1196\u001b[0m         \u001b[1;32mfor\u001b[0m \u001b[0mname\u001b[0m \u001b[1;32min\u001b[0m \u001b[0munits\u001b[0m\u001b[1;33m:\u001b[0m\u001b[1;33m\u001b[0m\u001b[0m\n\u001b[1;32m-> 1197\u001b[1;33m             \u001b[0mcname\u001b[0m \u001b[1;33m=\u001b[0m \u001b[0mself\u001b[0m\u001b[1;33m.\u001b[0m\u001b[0mget_name\u001b[0m\u001b[1;33m(\u001b[0m\u001b[0mname\u001b[0m\u001b[1;33m)\u001b[0m\u001b[1;33m\u001b[0m\u001b[0m\n\u001b[0m\u001b[0;32m   1198\u001b[0m             \u001b[0mvalue\u001b[0m \u001b[1;33m=\u001b[0m \u001b[0munits\u001b[0m\u001b[1;33m[\u001b[0m\u001b[0mname\u001b[0m\u001b[1;33m]\u001b[0m\u001b[1;33m\u001b[0m\u001b[0m\n\u001b[0;32m   1199\u001b[0m             \u001b[1;32mif\u001b[0m \u001b[1;32mnot\u001b[0m \u001b[0mcname\u001b[0m\u001b[1;33m:\u001b[0m\u001b[1;33m\u001b[0m\u001b[0m\n",
      "\u001b[1;32mC:\\Anaconda3\\lib\\site-packages\\pint\\unit.py\u001b[0m in \u001b[0;36mget_name\u001b[1;34m(self, name_or_alias, case_sensitive)\u001b[0m\n\u001b[0;32m    854\u001b[0m         \u001b[0mcandidates\u001b[0m \u001b[1;33m=\u001b[0m \u001b[0mself\u001b[0m\u001b[1;33m.\u001b[0m\u001b[0m_dedup_candidates\u001b[0m\u001b[1;33m(\u001b[0m\u001b[0mself\u001b[0m\u001b[1;33m.\u001b[0m\u001b[0mparse_unit_name\u001b[0m\u001b[1;33m(\u001b[0m\u001b[0mname_or_alias\u001b[0m\u001b[1;33m,\u001b[0m \u001b[0mcase_sensitive\u001b[0m\u001b[1;33m)\u001b[0m\u001b[1;33m)\u001b[0m\u001b[1;33m\u001b[0m\u001b[0m\n\u001b[0;32m    855\u001b[0m         \u001b[1;32mif\u001b[0m \u001b[1;32mnot\u001b[0m \u001b[0mcandidates\u001b[0m\u001b[1;33m:\u001b[0m\u001b[1;33m\u001b[0m\u001b[0m\n\u001b[1;32m--> 856\u001b[1;33m             \u001b[1;32mraise\u001b[0m \u001b[0mUndefinedUnitError\u001b[0m\u001b[1;33m(\u001b[0m\u001b[0mname_or_alias\u001b[0m\u001b[1;33m)\u001b[0m\u001b[1;33m\u001b[0m\u001b[0m\n\u001b[0m\u001b[0;32m    857\u001b[0m         \u001b[1;32melif\u001b[0m \u001b[0mlen\u001b[0m\u001b[1;33m(\u001b[0m\u001b[0mcandidates\u001b[0m\u001b[1;33m)\u001b[0m \u001b[1;33m==\u001b[0m \u001b[1;36m1\u001b[0m\u001b[1;33m:\u001b[0m\u001b[1;33m\u001b[0m\u001b[0m\n\u001b[0;32m    858\u001b[0m             \u001b[0mprefix\u001b[0m\u001b[1;33m,\u001b[0m \u001b[0munit_name\u001b[0m\u001b[1;33m,\u001b[0m \u001b[0m_\u001b[0m \u001b[1;33m=\u001b[0m \u001b[0mcandidates\u001b[0m\u001b[1;33m[\u001b[0m\u001b[1;36m0\u001b[0m\u001b[1;33m]\u001b[0m\u001b[1;33m\u001b[0m\u001b[0m\n",
      "\u001b[1;31mUndefinedUnitError\u001b[0m: 'satronomical_unit' is not defined in the unit registry"
     ]
    }
   ],
   "source": [
    "speed = u.speed_of_light\n",
    "distance = u.satronomical_unit\n",
    "time = distance / speed\n",
    "time.to('seconds')"
   ]
  },
  {
   "cell_type": "code",
   "execution_count": 33,
   "metadata": {
    "collapsed": false
   },
   "outputs": [
    {
     "ename": "NameError",
     "evalue": "name 'time' is not defined",
     "output_type": "error",
     "traceback": [
      "\u001b[1;31m---------------------------------------------------------------------------\u001b[0m",
      "\u001b[1;31mNameError\u001b[0m                                 Traceback (most recent call last)",
      "\u001b[1;32m<ipython-input-33-c46d4aa889bd>\u001b[0m in \u001b[0;36m<module>\u001b[1;34m()\u001b[0m\n\u001b[1;32m----> 1\u001b[1;33m \u001b[0mtime\u001b[0m\u001b[1;33m.\u001b[0m\u001b[0mto_base_units\u001b[0m\u001b[1;33m(\u001b[0m\u001b[1;33m)\u001b[0m\u001b[1;33m\u001b[0m\u001b[0m\n\u001b[0m",
      "\u001b[1;31mNameError\u001b[0m: name 'time' is not defined"
     ]
    }
   ],
   "source": [
    "time.to_base_units()"
   ]
  },
  {
   "cell_type": "code",
   "execution_count": 34,
   "metadata": {
    "collapsed": false
   },
   "outputs": [
    {
     "ename": "NameError",
     "evalue": "name 'u' is not defined",
     "output_type": "error",
     "traceback": [
      "\u001b[1;31m---------------------------------------------------------------------------\u001b[0m",
      "\u001b[1;31mNameError\u001b[0m                                 Traceback (most recent call last)",
      "\u001b[1;32m<ipython-input-34-60be1c821975>\u001b[0m in \u001b[0;36m<module>\u001b[1;34m()\u001b[0m\n\u001b[1;32m----> 1\u001b[1;33m \u001b[0mcar_speed\u001b[0m \u001b[1;33m=\u001b[0m \u001b[1;36m60\u001b[0m \u001b[1;33m*\u001b[0m \u001b[0mu\u001b[0m\u001b[1;33m.\u001b[0m\u001b[0mmiles\u001b[0m \u001b[1;33m/\u001b[0m \u001b[0mu\u001b[0m\u001b[1;33m.\u001b[0m\u001b[0mhour\u001b[0m\u001b[1;33m\u001b[0m\u001b[0m\n\u001b[0m\u001b[0;32m      2\u001b[0m \u001b[0mhourcar_speed\u001b[0m\u001b[1;33m.\u001b[0m\u001b[0mto\u001b[0m\u001b[1;33m-\u001b[0m\u001b[0mbase\u001b[0m\u001b[1;33m-\u001b[0m\u001b[0munits\u001b[0m\u001b[1;33m(\u001b[0m\u001b[1;33m)\u001b[0m\u001b[1;33m\u001b[0m\u001b[0m\n\u001b[0;32m      3\u001b[0m \u001b[0mcar_speed\u001b[0m\u001b[1;33m.\u001b[0m\u001b[0mto\u001b[0m\u001b[1;33m(\u001b[0m\u001b[1;34m'km/hour'\u001b[0m\u001b[1;33m)\u001b[0m\u001b[1;33m\u001b[0m\u001b[0m\n",
      "\u001b[1;31mNameError\u001b[0m: name 'u' is not defined"
     ]
    }
   ],
   "source": [
    "car_speed = 60 * u.miles / u.hour\n",
    "hourcar_speed.to-base-units()\n",
    "car_speed.to('km/hour')\n"
   ]
  },
  {
   "cell_type": "code",
   "execution_count": null,
   "metadata": {
    "collapsed": true
   },
   "outputs": [],
   "source": [
    "(60*u.kW * 2 * u.hours).to('MJ')"
   ]
  },
  {
   "cell_type": "code",
   "execution_count": null,
   "metadata": {
    "collapsed": true
   },
   "outputs": [],
   "source": [
    "import pint\n",
    "u = pint.UnitRegistry()\n",
    "brisbane_sir = (4.81*u.kWh * u.meter * u.day).to('MJ')\n",
    "perth_sir = 19*u.MJ*u.meter * u.day\n",
    "la_sir = 1560*u.Btu*()\n"
   ]
  },
  {
   "cell_type": "code",
   "execution_count": 37,
   "metadata": {
    "collapsed": false
   },
   "outputs": [
    {
     "ename": "ImportError",
     "evalue": "No module named 'pint'",
     "output_type": "error",
     "traceback": [
      "\u001b[1;31m---------------------------------------------------------------------------\u001b[0m",
      "\u001b[1;31mImportError\u001b[0m                               Traceback (most recent call last)",
      "\u001b[1;32m<ipython-input-37-b16386825d73>\u001b[0m in \u001b[0;36m<module>\u001b[1;34m()\u001b[0m\n\u001b[1;32m----> 1\u001b[1;33m \u001b[1;32mimport\u001b[0m \u001b[0mpint\u001b[0m\u001b[1;33m\u001b[0m\u001b[0m\n\u001b[0m\u001b[0;32m      2\u001b[0m \u001b[0mu\u001b[0m \u001b[1;33m=\u001b[0m \u001b[0mpint\u001b[0m\u001b[1;33m.\u001b[0m\u001b[0mUnitRegistry\u001b[0m\u001b[1;33m(\u001b[0m\u001b[1;33m)\u001b[0m\u001b[1;33m\u001b[0m\u001b[0m\n\u001b[0;32m      3\u001b[0m irradiance = { 'Brisbane': 4.81*u.kWh/u.meter**2 / u.day,\n\u001b[0;32m      4\u001b[0m                \u001b[1;34m'Perth'\u001b[0m\u001b[1;33m:\u001b[0m \u001b[1;36m19\u001b[0m\u001b[1;33m*\u001b[0m \u001b[0mu\u001b[0m\u001b[1;33m.\u001b[0m\u001b[0mMJ\u001b[0m \u001b[1;33m/\u001b[0m \u001b[0mu\u001b[0m\u001b[1;33m.\u001b[0m\u001b[0mmeter\u001b[0m\u001b[1;33m**\u001b[0m\u001b[1;36m2\u001b[0m \u001b[1;33m/\u001b[0m \u001b[0mu\u001b[0m\u001b[1;33m.\u001b[0m\u001b[0mday\u001b[0m\u001b[1;33m,\u001b[0m\u001b[1;33m\u001b[0m\u001b[0m\n\u001b[0;32m      5\u001b[0m                'LA': 1560*u.BTU / u.foot**2 / u.day}\n",
      "\u001b[1;31mImportError\u001b[0m: No module named 'pint'"
     ]
    }
   ],
   "source": [
    "import pint\n",
    "u = pint.UnitRegistry()\n",
    "irradiance = { 'Brisbane': 4.81*u.kWh/u.meter**2 / u.day,\n",
    "               'Perth': 19* u.MJ / u.meter**2 / u.day,\n",
    "               'LA': 1560*u.BTU / u.foot**2 / u.day}\n",
    "perth = irradiance.get('Perth')\n",
    "bris = irradiance.get('Brisbane')\n",
    "la = irradiance.get('LA')\n",
    "sorted(irradiance, key=irradiance.get())"
   ]
  },
  {
   "cell_type": "code",
   "execution_count": null,
   "metadata": {
    "collapsed": true
   },
   "outputs": [],
   "source": [
    "%load G:"
   ]
  },
  {
   "cell_type": "code",
   "execution_count": 40,
   "metadata": {
    "collapsed": false
   },
   "outputs": [
    {
     "ename": "ImportError",
     "evalue": "cannot import name 'interpld'",
     "output_type": "error",
     "traceback": [
      "\u001b[1;31m---------------------------------------------------------------------------\u001b[0m",
      "\u001b[1;31mImportError\u001b[0m                               Traceback (most recent call last)",
      "\u001b[1;32m<ipython-input-40-e7cb0b779e9e>\u001b[0m in \u001b[0;36m<module>\u001b[1;34m()\u001b[0m\n\u001b[0;32m      3\u001b[0m \u001b[0mmeasured\u001b[0m \u001b[1;33m=\u001b[0m \u001b[0mnp\u001b[0m\u001b[1;33m.\u001b[0m\u001b[0msin\u001b[0m\u001b[1;33m(\u001b[0m\u001b[1;36m2\u001b[0m\u001b[1;33m*\u001b[0m\u001b[0mnp\u001b[0m\u001b[1;33m.\u001b[0m\u001b[0mpi\u001b[0m\u001b[1;33m)\u001b[0m\u001b[1;33m\u001b[0m\u001b[0m\n\u001b[0;32m      4\u001b[0m \u001b[1;33m\u001b[0m\u001b[0m\n\u001b[1;32m----> 5\u001b[1;33m \u001b[1;32mfrom\u001b[0m \u001b[0mscipy\u001b[0m\u001b[1;33m.\u001b[0m\u001b[0minterpolate\u001b[0m \u001b[1;32mimport\u001b[0m \u001b[0minterpld\u001b[0m\u001b[1;33m\u001b[0m\u001b[0m\n\u001b[0m\u001b[0;32m      6\u001b[0m \u001b[1;32mimport\u001b[0m \u001b[0mmatplotlib\u001b[0m\u001b[1;33m.\u001b[0m\u001b[0mpyplot\u001b[0m \u001b[1;32mas\u001b[0m \u001b[0mplt\u001b[0m\u001b[1;33m\u001b[0m\u001b[0m\n\u001b[0;32m      7\u001b[0m \u001b[1;33m\u001b[0m\u001b[0m\n",
      "\u001b[1;31mImportError\u001b[0m: cannot import name 'interpld'"
     ]
    }
   ],
   "source": [
    "t = np.linspace(0,1,10)\n",
    "noise = ( np.random.random(10)*2-1 )*0.1\n",
    "measured = np.sin(2*np.pi) + noise\n",
    "\n",
    "from scipy.interpolate import interpld\n",
    "import matplotlib.pyplot as plt\n",
    "\n",
    "model = interpld(t, measured, kind = 'linear')\n",
    "t2 = np.linspace(0, 1, 50)\n",
    "y = model(t2)\n",
    "plt.plot(t, measured, 'o');"
   ]
  },
  {
   "cell_type": "code",
   "execution_count": 42,
   "metadata": {
    "collapsed": true
   },
   "outputs": [],
   "source": [
    "t = np.linspace(0,1,10)\n",
    "noise = ( np.random.random(10)*2-1 )*0.1\n",
    "measured = np.sin(2*np.pi) + noise"
   ]
  },
  {
   "cell_type": "code",
   "execution_count": 43,
   "metadata": {
    "collapsed": false
   },
   "outputs": [
    {
     "ename": "ImportError",
     "evalue": "cannot import name 'interpld'",
     "output_type": "error",
     "traceback": [
      "\u001b[1;31m---------------------------------------------------------------------------\u001b[0m",
      "\u001b[1;31mImportError\u001b[0m                               Traceback (most recent call last)",
      "\u001b[1;32m<ipython-input-43-8553368d0834>\u001b[0m in \u001b[0;36m<module>\u001b[1;34m()\u001b[0m\n\u001b[1;32m----> 1\u001b[1;33m \u001b[1;32mfrom\u001b[0m \u001b[0mscipy\u001b[0m\u001b[1;33m.\u001b[0m\u001b[0minterpolate\u001b[0m \u001b[1;32mimport\u001b[0m \u001b[0minterpld\u001b[0m\u001b[1;33m\u001b[0m\u001b[0m\n\u001b[0m",
      "\u001b[1;31mImportError\u001b[0m: cannot import name 'interpld'"
     ]
    }
   ],
   "source": [
    "from scipy.interpolate import interpld"
   ]
  },
  {
   "cell_type": "code",
   "execution_count": 44,
   "metadata": {
    "collapsed": true
   },
   "outputs": [],
   "source": [
    "import scipy"
   ]
  },
  {
   "cell_type": "code",
   "execution_count": 45,
   "metadata": {
    "collapsed": false
   },
   "outputs": [
    {
     "ename": "ImportError",
     "evalue": "cannot import name 'interpld'",
     "output_type": "error",
     "traceback": [
      "\u001b[1;31m---------------------------------------------------------------------------\u001b[0m",
      "\u001b[1;31mImportError\u001b[0m                               Traceback (most recent call last)",
      "\u001b[1;32m<ipython-input-45-8553368d0834>\u001b[0m in \u001b[0;36m<module>\u001b[1;34m()\u001b[0m\n\u001b[1;32m----> 1\u001b[1;33m \u001b[1;32mfrom\u001b[0m \u001b[0mscipy\u001b[0m\u001b[1;33m.\u001b[0m\u001b[0minterpolate\u001b[0m \u001b[1;32mimport\u001b[0m \u001b[0minterpld\u001b[0m\u001b[1;33m\u001b[0m\u001b[0m\n\u001b[0m",
      "\u001b[1;31mImportError\u001b[0m: cannot import name 'interpld'"
     ]
    }
   ],
   "source": [
    "from scipy.interpolate import interpld"
   ]
  },
  {
   "cell_type": "code",
   "execution_count": 46,
   "metadata": {
    "collapsed": true
   },
   "outputs": [],
   "source": [
    "import scipy.optimize"
   ]
  },
  {
   "cell_type": "code",
   "execution_count": 47,
   "metadata": {
    "collapsed": true
   },
   "outputs": [],
   "source": [
    "def g(x):\n",
    "    return -f(x)"
   ]
  },
  {
   "cell_type": "code",
   "execution_count": 48,
   "metadata": {
    "collapsed": false
   },
   "outputs": [
    {
     "ename": "NameError",
     "evalue": "name 'f' is not defined",
     "output_type": "error",
     "traceback": [
      "\u001b[1;31m---------------------------------------------------------------------------\u001b[0m",
      "\u001b[1;31mNameError\u001b[0m                                 Traceback (most recent call last)",
      "\u001b[1;32m<ipython-input-48-0bd60414e3a7>\u001b[0m in \u001b[0;36m<module>\u001b[1;34m()\u001b[0m\n\u001b[1;32m----> 1\u001b[1;33m \u001b[0mplt\u001b[0m\u001b[1;33m.\u001b[0m\u001b[0mplot\u001b[0m\u001b[1;33m(\u001b[0m\u001b[0mx\u001b[0m\u001b[1;33m,\u001b[0m \u001b[0mg\u001b[0m\u001b[1;33m(\u001b[0m\u001b[0mx\u001b[0m\u001b[1;33m)\u001b[0m\u001b[1;33m)\u001b[0m\u001b[1;33m\u001b[0m\u001b[0m\n\u001b[0m",
      "\u001b[1;32m<ipython-input-47-0d4f61acd538>\u001b[0m in \u001b[0;36mg\u001b[1;34m(x)\u001b[0m\n\u001b[0;32m      1\u001b[0m \u001b[1;32mdef\u001b[0m \u001b[0mg\u001b[0m\u001b[1;33m(\u001b[0m\u001b[0mx\u001b[0m\u001b[1;33m)\u001b[0m\u001b[1;33m:\u001b[0m\u001b[1;33m\u001b[0m\u001b[0m\n\u001b[1;32m----> 2\u001b[1;33m     \u001b[1;32mreturn\u001b[0m \u001b[1;33m-\u001b[0m\u001b[0mf\u001b[0m\u001b[1;33m(\u001b[0m\u001b[0mx\u001b[0m\u001b[1;33m)\u001b[0m\u001b[1;33m\u001b[0m\u001b[0m\n\u001b[0m",
      "\u001b[1;31mNameError\u001b[0m: name 'f' is not defined"
     ]
    }
   ],
   "source": [
    "plt.plot(x, g(x))"
   ]
  },
  {
   "cell_type": "markdown",
   "metadata": {},
   "source": [
    "$f(x) = a/x^b sin(cx)$"
   ]
  },
  {
   "cell_type": "code",
   "execution_count": 50,
   "metadata": {
    "collapsed": true
   },
   "outputs": [],
   "source": [
    "def myfunc(params, x):\n",
    "    (a,b,c) = params\n",
    "    return a/ x**b *np.sin(c*x)\n",
    "    \n",
    "def f(x):\n",
    "    return myfunc([1.5,0.1, 0.2],x)"
   ]
  },
  {
   "cell_type": "code",
   "execution_count": 53,
   "metadata": {
    "collapsed": false
   },
   "outputs": [],
   "source": [
    "n=30\n",
    "xmin =0.1\n",
    "xmax=5\n",
    "x = np.linspace(xmin, xmax, n)\n",
    "y = f(x)\n",
    "y += np.random.rand(n)*0.5*(y.max() - y.min())"
   ]
  },
  {
   "cell_type": "code",
   "execution_count": 54,
   "metadata": {
    "collapsed": false
   },
   "outputs": [
    {
     "data": {
      "image/png": "[encoded data removed]",
      "text/plain": [
       "<matplotlib.figure.Figure at 0x70eb8f0>"
      ]
     },
     "metadata": {},
     "output_type": "display_data"
    }
   ],
   "source": [
    "plt.plot(x,y,'o');"
   ]
  },
  {
   "cell_type": "code",
   "execution_count": 60,
   "metadata": {
    "collapsed": false
   },
   "outputs": [
    {
     "data": {
      "text/plain": [
       "[<matplotlib.lines.Line2D at 0x72139f0>]"
      ]
     },
     "execution_count": 60,
     "metadata": {},
     "output_type": "execute_result"
    },
    {
     "data": {
      "image/png": "[encoded data removed]",
      "text/plain": [
       "<matplotlib.figure.Figure at 0x70dce70>"
      ]
     },
     "metadata": {},
     "output_type": "display_data"
    }
   ],
   "source": [
    "def myfunc(a,b,c, x):\n",
    "    return a/ x**b *np.sin(c*x)\n",
    "    \n",
    "def f(x):\n",
    "    return myfunc(1.5,0.1, 0.2,x)\n",
    "\n",
    "n=30\n",
    "xmin =0.1\n",
    "xmax=5\n",
    "x = np.linspace(xmin, xmax, n)\n",
    "y = f(x)\n",
    "y += np.random.rand(n)*0.2*(y.max() - y.min())\n",
    "plt.plot(x,y,'o')"
   ]
  },
  {
   "cell_type": "code",
   "execution_count": 67,
   "metadata": {
    "collapsed": true
   },
   "outputs": [],
   "source": [
    "from scipy import signal\n",
    "from scipy import misc\n",
    "from scipy.misc import lena\n",
    "from scipy.signal import wiener"
   ]
  },
  {
   "cell_type": "code",
   "execution_count": 70,
   "metadata": {
    "collapsed": false
   },
   "outputs": [
    {
     "data": {
      "text/plain": [
       "dtype('float64')"
      ]
     },
     "execution_count": 70,
     "metadata": {},
     "output_type": "execute_result"
    }
   ],
   "source": [
    "image = lena().astype(np.float64)\n",
    "image.dtype\n",
    "#image.shape()"
   ]
  },
  {
   "cell_type": "code",
   "execution_count": 72,
   "metadata": {
    "collapsed": false
   },
   "outputs": [
    {
     "data": {
      "text/plain": [
       "(512, 512)"
      ]
     },
     "execution_count": 72,
     "metadata": {},
     "output_type": "execute_result"
    }
   ],
   "source": [
    "image.shape"
   ]
  },
  {
   "cell_type": "code",
   "execution_count": 76,
   "metadata": {
    "collapsed": false
   },
   "outputs": [
    {
     "data": {
      "text/plain": [
       "<matplotlib.image.AxesImage at 0x6d6a670>"
      ]
     },
     "execution_count": 76,
     "metadata": {},
     "output_type": "execute_result"
    },
    {
     "data": {
      "image/png": "[encoded data removed]",
      "text/plain": [
       "<matplotlib.figure.Figure at 0x71e4150>"
      ]
     },
     "metadata": {},
     "output_type": "display_data"
    }
   ],
   "source": [
    "plt.figure(figsize=(10,10))\n",
    "plt.imshow(image, cmap='gray')"
   ]
  },
  {
   "cell_type": "code",
   "execution_count": 77,
   "metadata": {
    "collapsed": true
   },
   "outputs": [],
   "source": [
    "# Monte-Carlo simulation\n",
    "def distance(x,y):\n",
    "    return (x**2 + y**2)**0.5"
   ]
  },
  {
   "cell_type": "code",
   "execution_count": 79,
   "metadata": {
    "collapsed": false
   },
   "outputs": [],
   "source": [
    "def in_circle(x,y):\n",
    "    \"\"\"\n",
    "    Return True if (x,y) is in the unit circle\n",
    "    \"\"\"\n",
    "    return distance(x,y) < 1"
   ]
  },
  {
   "cell_type": "code",
   "execution_count": 82,
   "metadata": {
    "collapsed": false
   },
   "outputs": [
    {
     "data": {
      "text/plain": [
       "False"
      ]
     },
     "execution_count": 82,
     "metadata": {},
     "output_type": "execute_result"
    }
   ],
   "source": [
    "x, y = np.random.rand(2)\n",
    "in_circle(x,y)"
   ]
  },
  {
   "cell_type": "code",
   "execution_count": 130,
   "metadata": {
    "collapsed": false
   },
   "outputs": [
    {
     "data": {
      "text/plain": [
       "False"
      ]
     },
     "execution_count": 130,
     "metadata": {},
     "output_type": "execute_result"
    }
   ],
   "source": [
    "\n",
    "def distance(x,y):\n",
    "    return (x**2 + y**2)**0.5\n",
    "\n",
    "def in_circle(x,y):\n",
    "    \"\"\"\n",
    "    Return True if (x,y) is in the unit circle\n",
    "    \"\"\"\n",
    "    return distance(x,y) < 1\n",
    "x, y = np.random.rand(2)\n",
    "in_circle(x,y)"
   ]
  },
  {
   "cell_type": "code",
   "execution_count": 131,
   "metadata": {
    "collapsed": false
   },
   "outputs": [
    {
     "ename": "NameError",
     "evalue": "name 'nprandom' is not defined",
     "output_type": "error",
     "traceback": [
      "\u001b[1;31m---------------------------------------------------------------------------\u001b[0m",
      "\u001b[1;31mNameError\u001b[0m                                 Traceback (most recent call last)",
      "\u001b[1;32m<ipython-input-131-6a05e9478b4e>\u001b[0m in \u001b[0;36m<module>\u001b[1;34m()\u001b[0m\n\u001b[0;32m     10\u001b[0m \u001b[0mresults\u001b[0m \u001b[1;33m=\u001b[0m \u001b[1;33m[\u001b[0m\u001b[1;33m]\u001b[0m\u001b[1;33m\u001b[0m\u001b[0m\n\u001b[0;32m     11\u001b[0m \u001b[1;32mfor\u001b[0m \u001b[0mrepl\u001b[0m \u001b[1;32min\u001b[0m \u001b[0mnp\u001b[0m\u001b[1;33m.\u001b[0m\u001b[0marange\u001b[0m\u001b[1;33m(\u001b[0m\u001b[1;36m10\u001b[0m\u001b[1;33m**\u001b[0m\u001b[1;36m6\u001b[0m\u001b[1;33m)\u001b[0m\u001b[1;33m:\u001b[0m\u001b[1;33m\u001b[0m\u001b[0m\n\u001b[1;32m---> 12\u001b[1;33m     \u001b[0mresults\u001b[0m\u001b[1;33m.\u001b[0m\u001b[0mappend\u001b[0m\u001b[1;33m(\u001b[0m \u001b[0min_circle\u001b[0m\u001b[1;33m(\u001b[0m\u001b[0mnprandom\u001b[0m\u001b[1;33m.\u001b[0m\u001b[0mrand\u001b[0m\u001b[1;33m(\u001b[0m\u001b[1;36m2\u001b[0m\u001b[1;33m)\u001b[0m\u001b[1;33m)\u001b[0m \u001b[1;33m)\u001b[0m\u001b[1;33m\u001b[0m\u001b[0m\n\u001b[0m",
      "\u001b[1;31mNameError\u001b[0m: name 'nprandom' is not defined"
     ]
    }
   ],
   "source": [
    "def distance(x,y):\n",
    "    return (x**2 + y**2)**0.5\n",
    "\n",
    "def in_circle(x,y):\n",
    "    \"\"\"\n",
    "    Return True if (x,y) is in the unit circle\n",
    "    \"\"\"\n",
    "    return distance(x,y) < 1\n",
    "\n",
    "results = []\n",
    "for repl in np.arange(10**6):\n",
    "    \n",
    "    results.append( in_circle(nprandom.rand(2)) )"
   ]
  },
  {
   "cell_type": "code",
   "execution_count": 132,
   "metadata": {
    "collapsed": false
   },
   "outputs": [
    {
     "data": {
      "text/plain": [
       "array([ 0,  1,  2,  3,  4,  5,  6,  7,  8,  9, 10, 11, 12, 13, 14, 15, 16,\n",
       "       17, 18, 19, 20, 21, 22, 23, 24, 25, 26, 27, 28, 29, 30, 31, 32, 33,\n",
       "       34, 35, 36, 37, 38, 39, 40, 41, 42, 43, 44, 45, 46, 47, 48, 49, 50,\n",
       "       51, 52, 53, 54, 55, 56, 57, 58, 59, 60, 61, 62, 63, 64, 65, 66, 67,\n",
       "       68, 69, 70, 71, 72, 73, 74, 75, 76, 77, 78, 79, 80, 81, 82, 83, 84,\n",
       "       85, 86, 87, 88, 89, 90, 91, 92, 93, 94, 95, 96, 97, 98, 99])"
      ]
     },
     "execution_count": 132,
     "metadata": {},
     "output_type": "execute_result"
    }
   ],
   "source": [
    "np.arange(10**2)"
   ]
  },
  {
   "cell_type": "code",
   "execution_count": 133,
   "metadata": {
    "collapsed": false
   },
   "outputs": [
    {
     "ename": "NameError",
     "evalue": "name 'nprandom' is not defined",
     "output_type": "error",
     "traceback": [
      "\u001b[1;31m---------------------------------------------------------------------------\u001b[0m",
      "\u001b[1;31mNameError\u001b[0m                                 Traceback (most recent call last)",
      "\u001b[1;32m<ipython-input-133-cd4244cac1e9>\u001b[0m in \u001b[0;36m<module>\u001b[1;34m()\u001b[0m\n\u001b[1;32m----> 1\u001b[1;33m \u001b[0mresults\u001b[0m\u001b[1;33m.\u001b[0m\u001b[0mappend\u001b[0m\u001b[1;33m(\u001b[0m \u001b[0min_circle\u001b[0m\u001b[1;33m(\u001b[0m\u001b[0mnprandom\u001b[0m\u001b[1;33m.\u001b[0m\u001b[0mrand\u001b[0m\u001b[1;33m(\u001b[0m\u001b[1;36m2\u001b[0m\u001b[1;33m)\u001b[0m\u001b[1;33m)\u001b[0m \u001b[1;33m)\u001b[0m\u001b[1;33m\u001b[0m\u001b[0m\n\u001b[0m",
      "\u001b[1;31mNameError\u001b[0m: name 'nprandom' is not defined"
     ]
    }
   ],
   "source": [
    "results.append( in_circle(nprandom.rand(2)) )"
   ]
  },
  {
   "cell_type": "code",
   "execution_count": 140,
   "metadata": {
    "collapsed": false
   },
   "outputs": [],
   "source": [
    "def distance(x,y):\n",
    "    return (x**2 + y**2)**0.5\n",
    "\n",
    "def in_circle(x,y):\n",
    "    \"\"\"\n",
    "    Return True if (x,y) is in the unit circle\n",
    "    \"\"\"\n",
    "    return distance(x,y) < 1\n",
    "\n",
    "results = []\n",
    "for i in np.arange(10**6):\n",
    "    x, y = np.random.rand(2)\n",
    "    results.append(in_circle(x,y))"
   ]
  },
  {
   "cell_type": "code",
   "execution_count": 138,
   "metadata": {
    "collapsed": false
   },
   "outputs": [
    {
     "data": {
      "text/plain": [
       "array([ 0.69249016,  0.53265271])"
      ]
     },
     "execution_count": 138,
     "metadata": {},
     "output_type": "execute_result"
    }
   ],
   "source": [
    "np.random.rand(2)"
   ]
  },
  {
   "cell_type": "code",
   "execution_count": 145,
   "metadata": {
    "collapsed": false
   },
   "outputs": [
    {
     "data": {
      "text/plain": [
       "0.78560790000000003"
      ]
     },
     "execution_count": 145,
     "metadata": {},
     "output_type": "execute_result"
    }
   ],
   "source": [
    "def distance(x,y):\n",
    "    return (x**2 + y**2)**0.5\n",
    "\n",
    "def in_circle(x,y):\n",
    "    \"\"\"\n",
    "    Return True if (x,y) is in the unit circle\n",
    "    \"\"\"\n",
    "    return distance(x,y) < 1\n",
    "\n",
    "results = []\n",
    "for i in np.arange(10**7):\n",
    "    x, y = np.random.rand(2)\n",
    "    results.append(in_circle(x,y))\n",
    "np.sum(results)/10**7"
   ]
  },
  {
   "cell_type": "code",
   "execution_count": 142,
   "metadata": {
    "collapsed": false
   },
   "outputs": [
    {
     "data": {
      "text/plain": [
       "[True,\n",
       " True,\n",
       " True,\n",
       " False,\n",
       " True,\n",
       " True,\n",
       " True,\n",
       " False,\n",
       " True,\n",
       " True,\n",
       " False,\n",
       " True,\n",
       " True,\n",
       " True,\n",
       " True,\n",
       " True,\n",
       " True,\n",
       " False,\n",
       " True,\n",
       " False,\n",
       " True,\n",
       " False,\n",
       " True,\n",
       " False,\n",
       " True,\n",
       " False,\n",
       " True,\n",
       " True,\n",
       " True,\n",
       " False,\n",
       " True,\n",
       " True,\n",
       " True,\n",
       " True,\n",
       " False,\n",
       " True,\n",
       " True,\n",
       " True,\n",
       " False,\n",
       " True,\n",
       " False,\n",
       " True,\n",
       " True,\n",
       " True,\n",
       " True,\n",
       " True,\n",
       " True,\n",
       " True,\n",
       " False,\n",
       " False,\n",
       " True,\n",
       " False,\n",
       " True,\n",
       " True,\n",
       " False,\n",
       " True,\n",
       " True,\n",
       " True,\n",
       " False,\n",
       " False,\n",
       " True,\n",
       " True,\n",
       " True,\n",
       " True,\n",
       " True,\n",
       " True,\n",
       " True,\n",
       " True,\n",
       " True,\n",
       " True,\n",
       " True,\n",
       " False,\n",
       " True,\n",
       " False,\n",
       " True,\n",
       " False,\n",
       " True,\n",
       " True,\n",
       " False,\n",
       " False,\n",
       " False,\n",
       " True,\n",
       " False,\n",
       " True,\n",
       " False,\n",
       " False,\n",
       " True,\n",
       " True,\n",
       " True,\n",
       " True,\n",
       " False,\n",
       " True,\n",
       " True,\n",
       " False,\n",
       " True,\n",
       " True,\n",
       " True,\n",
       " True,\n",
       " True,\n",
       " True]"
      ]
     },
     "execution_count": 142,
     "metadata": {},
     "output_type": "execute_result"
    }
   ],
   "source": [
    "results"
   ]
  },
  {
   "cell_type": "code",
   "execution_count": 160,
   "metadata": {
    "collapsed": true
   },
   "outputs": [],
   "source": [
    "from scipy.stats import norm, gamma\n",
    "x=[170,180,175, 165, 122, 134, 187, 139, 154]\n",
    "params1 = norm.fit(x)\n",
    "params2 = gamma.fit(x)"
   ]
  },
  {
   "cell_type": "code",
   "execution_count": 161,
   "metadata": {
    "collapsed": false
   },
   "outputs": [
    {
     "data": {
      "text/plain": [
       "-40.26674983557799"
      ]
     },
     "execution_count": 161,
     "metadata": {},
     "output_type": "execute_result"
    }
   ],
   "source": [
    "model1 = norm(*params1)\n",
    "model2 = gamma(*params2)\n",
    "model1.logpdf(x).sum()"
   ]
  },
  {
   "cell_type": "code",
   "execution_count": 162,
   "metadata": {
    "collapsed": false
   },
   "outputs": [
    {
     "data": {
      "text/plain": [
       "array([-4.16989148, -4.53988835, -4.33048174, -4.05941567, -5.39157704,\n",
       "       -4.58001872, -4.91270132, -4.34736822, -3.99950951])"
      ]
     },
     "execution_count": 162,
     "metadata": {},
     "output_type": "execute_result"
    }
   ],
   "source": [
    "model2.logpdf(x)"
   ]
  },
  {
   "cell_type": "code",
   "execution_count": 166,
   "metadata": {
    "collapsed": false
   },
   "outputs": [
    {
     "data": {
      "image/png": "[encoded data removed]",
      "text/plain": [
       "<matplotlib.figure.Figure at 0x85d3b50>"
      ]
     },
     "metadata": {},
     "output_type": "display_data"
    }
   ],
   "source": [
    "plt.plot(x, model1.logpdf(x), 'x');\n",
    "plt.plot(x, model2.logpdf(x), '+');"
   ]
  },
  {
   "cell_type": "code",
   "execution_count": 167,
   "metadata": {
    "collapsed": false
   },
   "outputs": [
    {
     "data": {
      "text/plain": [
       "3.144"
      ]
     },
     "execution_count": 167,
     "metadata": {},
     "output_type": "execute_result"
    }
   ],
   "source": [
    "0.786*4"
   ]
  },
  {
   "cell_type": "code",
   "execution_count": 204,
   "metadata": {
    "collapsed": false
   },
   "outputs": [
    {
     "data": {
      "image/png": "[encoded data removed]",
      "text/plain": [
       "<matplotlib.figure.Figure at 0x9156f70>"
      ]
     },
     "metadata": {},
     "output_type": "display_data"
    }
   ],
   "source": [
    "from scipy.stats import norm, gamma\n",
    "h=[170,180,175, 165, 122, 134, 187, 139, 154, 122, 123, 81, 78, 178, 133, 125]\n",
    "params1 = norm.fit(h)\n",
    "params2 = gamma.fit(h)\n",
    "\n",
    "x = np.linspace(50,220)\n",
    "y1 = model1.pdf(x)\n",
    "y2 = model2.pdf(x)\n",
    "\n",
    "plt.figure(figsize=(4,2.5))\n",
    "plt.plot(x, y1, color='cyan', linestyle='--'); # see page 115-117 for details\n",
    "plt.plot(x, y2, color='chocolate');\n",
    "plt.hist(h, normed=True, color='gray');\n",
    "plt.xlabel('x')\n",
    "plt.ylabel('$y = f(x)$')\n",
    "plt.title('Sine function: $sin(x)$')\n",
    "\n",
    "plt.savefig('G:/sinefun.pdf')"
   ]
  },
  {
   "cell_type": "code",
   "execution_count": 185,
   "metadata": {
    "collapsed": false
   },
   "outputs": [],
   "source": [
    "from scipy.stats import ttest_1samp\n",
    "from scipy.stats import linregress"
   ]
  },
  {
   "cell_type": "code",
   "execution_count": 187,
   "metadata": {
    "collapsed": false
   },
   "outputs": [
    {
     "data": {
      "text/plain": [
       "16"
      ]
     },
     "execution_count": 187,
     "metadata": {},
     "output_type": "execute_result"
    }
   ],
   "source": [
    "len(h)"
   ]
  },
  {
   "cell_type": "code",
   "execution_count": 188,
   "metadata": {
    "collapsed": true
   },
   "outputs": [],
   "source": [
    "heights = h\n",
    "weights = np.random.randint(40, 70, len(h))"
   ]
  },
  {
   "cell_type": "code",
   "execution_count": 189,
   "metadata": {
    "collapsed": true
   },
   "outputs": [],
   "source": [
    "slope, intercept, *_ = linregress(h, weights)"
   ]
  },
  {
   "cell_type": "code",
   "execution_count": 191,
   "metadata": {
    "collapsed": false
   },
   "outputs": [
    {
     "data": {
      "text/plain": [
       "(-0.015190005827941243, 58.463784575382178)"
      ]
     },
     "execution_count": 191,
     "metadata": {},
     "output_type": "execute_result"
    }
   ],
   "source": [
    "slope, intercept"
   ]
  },
  {
   "cell_type": "code",
   "execution_count": 247,
   "metadata": {
    "collapsed": false
   },
   "outputs": [
    {
     "data": {
      "image/png": "[encoded data removed]",
      "text/plain": [
       "<matplotlib.figure.Figure at 0xaf62b70>"
      ]
     },
     "metadata": {},
     "output_type": "display_data"
    }
   ],
   "source": [
    "from scipy.stats import norm, gamma\n",
    "x = np.linspace(0,10,100)\n",
    "y1 = np.sin(x) + np.cos(x)/np.exp(x)\n",
    "y2 = - y1\n",
    "\n",
    "plt.figure(figsize=(4,2.5))\n",
    "plt.plot(x, y1, color='cyan', linestyle='-'); # see page 115-117 for details\n",
    "plt.plot(x, y2, color='chocolate');\n",
    "#plt.hist(h, normed=True, color='gray');\n",
    "plt.xlabel('x')\n",
    "plt.ylabel('$y = f(x)$', )\n",
    "plt.title('Sine function: $sin(x)$')\n",
    "\n",
    "plt.savefig('G:/sinefun.eps')"
   ]
  },
  {
   "cell_type": "code",
   "execution_count": 223,
   "metadata": {
    "collapsed": true
   },
   "outputs": [],
   "source": [
    "plt.xlabel?"
   ]
  },
  {
   "cell_type": "code",
   "execution_count": 224,
   "metadata": {
    "collapsed": false
   },
   "outputs": [
    {
     "ename": "ImportError",
     "evalue": "No module named 'mpld3'",
     "output_type": "error",
     "traceback": [
      "\u001b[1;31m---------------------------------------------------------------------------\u001b[0m",
      "\u001b[1;31mImportError\u001b[0m                               Traceback (most recent call last)",
      "\u001b[1;32m<ipython-input-224-25a6968c2f16>\u001b[0m in \u001b[0;36m<module>\u001b[1;34m()\u001b[0m\n\u001b[1;32m----> 1\u001b[1;33m \u001b[1;32mimport\u001b[0m \u001b[0mmpld3\u001b[0m\u001b[1;33m\u001b[0m\u001b[0m\n\u001b[0m",
      "\u001b[1;31mImportError\u001b[0m: No module named 'mpld3'"
     ]
    }
   ],
   "source": [
    "import mpld3"
   ]
  },
  {
   "cell_type": "code",
   "execution_count": 230,
   "metadata": {
    "collapsed": true
   },
   "outputs": [],
   "source": [
    "plt.figure?"
   ]
  },
  {
   "cell_type": "code",
   "execution_count": 232,
   "metadata": {
    "collapsed": false
   },
   "outputs": [],
   "source": [
    "plt.figure?"
   ]
  },
  {
   "cell_type": "code",
   "execution_count": 233,
   "metadata": {
    "collapsed": true
   },
   "outputs": [],
   "source": [
    "plt.xlabel?"
   ]
  },
  {
   "cell_type": "code",
   "execution_count": null,
   "metadata": {
    "collapsed": true
   },
   "outputs": [],
   "source": []
  }
 ],
 "metadata": {
  "kernelspec": {
   "display_name": "Python 3",
   "language": "python",
   "name": "python3"
  },
  "language_info": {
   "codemirror_mode": {
    "name": "ipython",
    "version": 3
   },
   "file_extension": ".py",
   "mimetype": "text/x-python",
   "name": "python",
   "nbconvert_exporter": "python",
   "pygments_lexer": "ipython3",
   "version": "3.5.0"
  }
 },
 "nbformat": 4,
 "nbformat_minor": 0
}
